{
 "cells": [
  {
   "cell_type": "code",
   "execution_count": 1,
   "metadata": {},
   "outputs": [
    {
     "data": {
      "text/plain": [
       "True"
      ]
     },
     "execution_count": 1,
     "metadata": {},
     "output_type": "execute_result"
    }
   ],
   "source": [
    "# Config\n",
    "import os\n",
    "import json\n",
    "import geojson\n",
    "import leafmap.leafmap as leafmap\n",
    "import requests\n",
    "from PIL import Image\n",
    "\n",
    "# Basic\n",
    "import numpy as np\n",
    "import pandas as pd\n",
    "import matplotlib.pyplot as plt\n",
    "\n",
    "# Monitoring\n",
    "from tqdm.notebook import tqdm\n",
    "\n",
    "# IO\n",
    "from os.path import join, exists, basename, dirname, splitext, expanduser\n",
    "from glob import glob\n",
    "from shapely.geometry import Point\n",
    "from shapely import vectorized\n",
    "\n",
    "import geopandas as gpd\n",
    "\n",
    "# Parallel processing\n",
    "from joblib import Parallel, delayed\n",
    "import concurrent.futures as cf\n",
    "\n",
    "import rioxarray as rxr\n",
    "\n",
    "# Load environment variables\n",
    "from dotenv import load_dotenv\n",
    "load_dotenv()"
   ]
  },
  {
   "cell_type": "code",
   "execution_count": 2,
   "metadata": {},
   "outputs": [
    {
     "name": "stdout",
     "output_type": "stream",
     "text": [
      "C_INCLUDE_PATH\n",
      "LANGUAGE\n",
      "USER\n",
      "SSH_CLIENT\n",
      "XDG_SESSION_TYPE\n",
      "CPP_INCLUDE_PATH\n",
      "SHLVL\n",
      "LD_LIBRARY_PATH\n",
      "MOTD_SHOWN\n",
      "HOME\n",
      "MODULEPATH_modshare\n",
      "MODULES_CMD\n",
      "SSL_CERT_FILE\n",
      "ENV\n",
      "DBUS_SESSION_BUS_ADDRESS\n",
      "CPLUS_INCLUDE_PATH\n",
      "LOGNAME\n",
      "_\n",
      "XDG_SESSION_CLASS\n",
      "XDG_SESSION_ID\n",
      "VSCODE_CLI_REQUIRE_TOKEN\n",
      "PATH\n",
      "CXX_INCLUDE_PATH\n",
      "VSCODE_AGENT_FOLDER\n",
      "XDG_RUNTIME_DIR\n",
      "SSL_CERT_DIR\n",
      "LANG\n",
      "SHELL\n",
      "LD_RUN_PATH\n",
      "BASH_ENV\n",
      "PWD\n",
      "LOADEDMODULES\n",
      "SSH_CONNECTION\n",
      "XDG_DATA_DIRS\n",
      "MANPATH\n",
      "MODULEPATH\n",
      "MODULESHOME\n",
      "VSCODE_CWD\n",
      "VSCODE_NLS_CONFIG\n",
      "VSCODE_HANDLES_SIGPIPE\n",
      "CONDA_EXE\n",
      "_CE_M\n",
      "LS_COLORS\n",
      "LESSCLOSE\n",
      "_CE_CONDA\n",
      "LESSOPEN\n",
      "CONDA_SHLVL\n",
      "CONDA_PYTHON_EXE\n",
      "BASH_FUNC_switchml%%\n",
      "BASH_FUNC_module%%\n",
      "VSCODE_ESM_ENTRYPOINT\n",
      "VSCODE_HANDLES_UNCAUGHT_ERRORS\n",
      "BROWSER\n",
      "ELECTRON_RUN_AS_NODE\n",
      "VSCODE_IPC_HOOK_CLI\n",
      "GCC_RANLIB\n",
      "PYTHONUNBUFFERED\n",
      "build_alias\n",
      "CMAKE_ARGS\n",
      "GPROF\n",
      "CONDA_TOOLCHAIN_BUILD\n",
      "_CONDA_PYTHON_SYSCONFIGDATA_NAME\n",
      "STRINGS\n",
      "CPP\n",
      "XML_CATALOG_FILES\n",
      "DWP\n",
      "GSETTINGS_SCHEMA_DIR\n",
      "CONDA_ROOT\n",
      "CONDA_PREFIX\n",
      "GSETTINGS_SCHEMA_DIR_CONDA_BACKUP\n",
      "CXX\n",
      "CXXFLAGS\n",
      "CONDA_TOOLCHAIN_HOST\n",
      "DEBUG_CXXFLAGS\n",
      "LDFLAGS\n",
      "MESON_ARGS\n",
      "DEBUG_CFLAGS\n",
      "NVCC_PREPEND_FLAGS\n",
      "CXX_FOR_BUILD\n",
      "ELFEDIT\n",
      "CONDA_PROMPT_MODIFIER\n",
      "CMAKE_PREFIX_PATH\n",
      "CPPFLAGS\n",
      "LD\n",
      "READELF\n",
      "GXX\n",
      "GCC_AR\n",
      "ADDR2LINE\n",
      "GCC_NM\n",
      "SIZE\n",
      "HOST\n",
      "CC_FOR_BUILD\n",
      "PYTHONIOENCODING\n",
      "AR\n",
      "AS\n",
      "DEBUG_CPPFLAGS\n",
      "host_alias\n",
      "NM\n",
      "GCC\n",
      "LD_GOLD\n",
      "CONDA_DEFAULT_ENV\n",
      "OBJCOPY\n",
      "STRIP\n",
      "OBJDUMP\n",
      "CC\n",
      "CFLAGS\n",
      "CXXFILT\n",
      "BUILD\n",
      "RANLIB\n",
      "CONDA_BUILD_SYSROOT\n",
      "PYDEVD_IPYTHON_COMPATIBLE_DEBUGGING\n",
      "PYTHON_FROZEN_MODULES\n",
      "PYDEVD_USE_FRAME_EVAL\n",
      "TERM\n",
      "CLICOLOR\n",
      "FORCE_COLOR\n",
      "CLICOLOR_FORCE\n",
      "PAGER\n",
      "GIT_PAGER\n",
      "MPLBACKEND\n",
      "KMP_INIT_AT_FORK\n",
      "GDAL_CURL_CA_BUNDLE\n",
      "PROJ_CURL_CA_BUNDLE\n",
      "DHRUV_GMS\n",
      "ZEEL_GMS\n",
      "SURAJ_GMS\n",
      "ZEEL_IITGN_GMS\n",
      "ANONY_GMS\n",
      "VISHESH_GMS\n",
      "SMTGML_GMS\n",
      "MADHAV_GMS\n",
      "VANNSH_GMS\n",
      "KHUSH_GMS\n"
     ]
    }
   ],
   "source": [
    "import os\n",
    "for key in os.environ:\n",
    "    print(key)"
   ]
  },
  {
   "cell_type": "code",
   "execution_count": 3,
   "metadata": {},
   "outputs": [
    {
     "name": "stdout",
     "output_type": "stream",
     "text": [
      "PLAKea85382c048b4ba086c40e3823d83d11\n"
     ]
    }
   ],
   "source": [
    "region = \"alwar\" # \"uttar_pradesh\", \"delhi_airshed\", \"wb_small_airshed\", \"lucknow_airshed\", \"ahmedabad_10km_buffer\", \"bihar\"\n",
    "download_dir = \"../raw_data\"\n",
    "quarter = \"2024q1\"\n",
    "PLANET_API_KEY=\"PLAKea85382c048b4ba086c40e3823d83d11\"\n",
    "# PLANET_API_KEY = os.getenv(\"PLANET_API_KEY\")\n",
    "print(PLANET_API_KEY)\n",
    "assert PLANET_API_KEY is not None\n",
    "shape_path = f\"../regions/shapes/{region}.geojson\""
   ]
  },
  {
   "cell_type": "code",
   "execution_count": 4,
   "metadata": {},
   "outputs": [
    {
     "data": {
      "application/vnd.jupyter.widget-view+json": {
       "model_id": "72bec9bb6d84407cb5fc29824eebab88",
       "version_major": 2,
       "version_minor": 0
      },
      "text/plain": [
       "Map(center=[20, 0], controls=(ZoomControl(options=['position', 'zoom_in_text', 'zoom_in_title', 'zoom_out_text…"
      ]
     },
     "execution_count": 4,
     "metadata": {},
     "output_type": "execute_result"
    }
   ],
   "source": [
    "shape_gdf = gpd.read_file(shape_path)\n",
    "shape_gdf = shape_gdf.to_crs(\"EPSG:4326\")\n",
    "\n",
    "m = leafmap.Map()\n",
    "m.add_basemap(\"HYBRID\")\n",
    "m.add_gdf(shape_gdf, zoom_to_layer=True)\n",
    "m"
   ]
  },
  {
   "cell_type": "code",
   "execution_count": 5,
   "metadata": {},
   "outputs": [
    {
     "data": {
      "text/plain": [
       "{'_links': {'_self': 'https://api.planet.com/basemaps/v1/mosaics?api_key=PLAKea85382c048b4ba086c40e3823d83d11'},\n",
       " 'mosaics': [{'_links': {'_self': 'https://api.planet.com/basemaps/v1/mosaics/a378ff71-e48b-4602-9993-bb2896a68ab3?api_key=PLAKea85382c048b4ba086c40e3823d83d11',\n",
       "    'quads': 'https://api.planet.com/basemaps/v1/mosaics/a378ff71-e48b-4602-9993-bb2896a68ab3/quads?api_key=PLAKea85382c048b4ba086c40e3823d83d11&bbox={lx},{ly},{ux},{uy}',\n",
       "    'tiles': 'https://tiles.planet.com/basemaps/v1/planet-tiles/global_quarterly_2024q1_mosaic/gmap/{z}/{x}/{y}.png?api_key=PLAKea85382c048b4ba086c40e3823d83d11'},\n",
       "   'bbox': [-179.999999974944,\n",
       "    -59.623325217855,\n",
       "    179.999999975056,\n",
       "    76.016093660188],\n",
       "   'coordinate_system': 'EPSG:3857',\n",
       "   'datatype': 'byte',\n",
       "   'first_acquired': '2024-01-01T00:00:00.000Z',\n",
       "   'grid': {'quad_size': 4096, 'resolution': 4.777314267823516},\n",
       "   'id': 'a378ff71-e48b-4602-9993-bb2896a68ab3',\n",
       "   'interval': '3 mons',\n",
       "   'item_types': ['PSScene'],\n",
       "   'last_acquired': '2024-04-01T00:00:00.000Z',\n",
       "   'level': 15,\n",
       "   'name': 'global_quarterly_2024q1_mosaic',\n",
       "   'product_type': 'timelapse',\n",
       "   'quad_download': True}]}"
      ]
     },
     "execution_count": 5,
     "metadata": {},
     "output_type": "execute_result"
    }
   ],
   "source": [
    "headers = {\"Authorization\": f\"api-key {PLANET_API_KEY}\"}\n",
    "params = {\n",
    "    \"name__contains\": quarter,\n",
    "}\n",
    "\n",
    "response = requests.get(f\"https://api.planet.com/basemaps/v1/mosaics\", headers=headers, params=params)\n",
    "response.json()"
   ]
  },
  {
   "cell_type": "code",
   "execution_count": 6,
   "metadata": {},
   "outputs": [
    {
     "name": "stdout",
     "output_type": "stream",
     "text": [
      "global_quarterly_2024q1_mosaic\n",
      "a378ff71-e48b-4602-9993-bb2896a68ab3\n"
     ]
    }
   ],
   "source": [
    "assert len(response.json()[\"mosaics\"]) == 1\n",
    "mosaic = response.json()[\"mosaics\"][0]\n",
    "print(mosaic['name'])\n",
    "print(mosaic['id'])"
   ]
  },
  {
   "cell_type": "code",
   "execution_count": 7,
   "metadata": {},
   "outputs": [
    {
     "name": "stdout",
     "output_type": "stream",
     "text": [
      "../raw_data/metadata/alwar/global_quarterly_2024q1_mosaic\n"
     ]
    }
   ],
   "source": [
    "metadata_save_dir = join(download_dir, \"metadata\", region, mosaic['name'])\n",
    "print(metadata_save_dir)"
   ]
  },
  {
   "cell_type": "code",
   "execution_count": 8,
   "metadata": {},
   "outputs": [
    {
     "name": "stdout",
     "output_type": "stream",
     "text": [
      "76.11397227002948 27.054583016954723 77.21075101720807 28.221615148817893\n"
     ]
    }
   ],
   "source": [
    "min_lon, min_lat, max_lon, max_lat = shape_gdf.bounds.values[0]\n",
    "print(min_lon, min_lat, max_lon, max_lat)"
   ]
  },
  {
   "cell_type": "code",
   "execution_count": 9,
   "metadata": {},
   "outputs": [
    {
     "name": "stdout",
     "output_type": "stream",
     "text": [
      "Number of quads: 63\n"
     ]
    }
   ],
   "source": [
    "params = {\n",
    "    \"bbox\": f\"{min_lon},{min_lat},{max_lon},{max_lat}\",\n",
    "    \"_page_size\": 10000,\n",
    "}\n",
    "\n",
    "response = requests.get(f\"https://api.planet.com/basemaps/v1/mosaics/{mosaic['id']}/quads\", headers=headers, params=params)\n",
    "quads = response.json()['items']\n",
    "print(\"Number of quads:\", len(quads))"
   ]
  },
  {
   "cell_type": "code",
   "execution_count": 10,
   "metadata": {},
   "outputs": [
    {
     "data": {
      "application/vnd.jupyter.widget-view+json": {
       "model_id": "31708c31276b431489c56a9e5db85c19",
       "version_major": 2,
       "version_minor": 0
      },
      "text/plain": [
       "  0%|          | 0/63 [00:00<?, ?it/s]"
      ]
     },
     "metadata": {},
     "output_type": "display_data"
    },
    {
     "data": {
      "image/png": "[encoded data removed]",
      "text/plain": [
       "<Figure size 640x480 with 1 Axes>"
      ]
     },
     "metadata": {},
     "output_type": "display_data"
    }
   ],
   "source": [
    "shape_gdf.plot(color=\"none\", edgecolor=\"black\")\n",
    "for quad in tqdm(quads):\n",
    "    bounds = quad['bbox']\n",
    "    plt.plot([bounds[0], bounds[2], bounds[2], bounds[0], bounds[0]], [bounds[1], bounds[1], bounds[3], bounds[3], bounds[1]], color=\"red\")"
   ]
  },
  {
   "cell_type": "code",
   "execution_count": 11,
   "metadata": {},
   "outputs": [
    {
     "name": "stdout",
     "output_type": "stream",
     "text": [
      "bboxes.shape=(63, 4)\n",
      "one_of_the_corners_inside.sum()=43\n"
     ]
    }
   ],
   "source": [
    "bboxes = np.array([quad['bbox'] for quad in quads])\n",
    "print(f\"{bboxes.shape=}\")\n",
    "\n",
    "top_left_inside = vectorized.contains(shape_gdf.geometry.item(), bboxes[:, 0], bboxes[:, 3])\n",
    "top_right_inside = vectorized.contains(shape_gdf.geometry.item(), bboxes[:, 2], bboxes[:, 3])\n",
    "bottom_left_inside = vectorized.contains(shape_gdf.geometry.item(), bboxes[:, 0], bboxes[:, 1])\n",
    "bottom_right_inside = vectorized.contains(shape_gdf.geometry.item(), bboxes[:, 2], bboxes[:, 1])\n",
    "one_of_the_corners_inside = np.logical_or(np.logical_or(top_left_inside, top_right_inside), np.logical_or(bottom_left_inside, bottom_right_inside))\n",
    "print(f\"{one_of_the_corners_inside.sum()=}\")"
   ]
  },
  {
   "cell_type": "code",
   "execution_count": 12,
   "metadata": {},
   "outputs": [
    {
     "data": {
      "text/plain": [
       "(43,)"
      ]
     },
     "execution_count": 12,
     "metadata": {},
     "output_type": "execute_result"
    }
   ],
   "source": [
    "quads_within_roi = np.array(quads)[one_of_the_corners_inside]\n",
    "quads_within_roi.shape"
   ]
  },
  {
   "cell_type": "code",
   "execution_count": 13,
   "metadata": {},
   "outputs": [
    {
     "data": {
      "image/png": "[encoded data removed]",
      "text/plain": [
       "<Figure size 640x480 with 1 Axes>"
      ]
     },
     "metadata": {},
     "output_type": "display_data"
    }
   ],
   "source": [
    "shape_gdf.plot(color=\"none\", edgecolor=\"black\")\n",
    "for quad in quads_within_roi:\n",
    "    bounds = quad['bbox']\n",
    "    plt.plot([bounds[0], bounds[2], bounds[2], bounds[0], bounds[0]], [bounds[1], bounds[1], bounds[3], bounds[3], bounds[1]], color=\"red\")"
   ]
  },
  {
   "cell_type": "code",
   "execution_count": 14,
   "metadata": {},
   "outputs": [
    {
     "data": {
      "application/vnd.jupyter.widget-view+json": {
       "model_id": "766032a542524a00a8c128ce349baeb6",
       "version_major": 2,
       "version_minor": 0
      },
      "text/plain": [
       "  0%|          | 0/43 [00:00<?, ?it/s]"
      ]
     },
     "metadata": {},
     "output_type": "display_data"
    }
   ],
   "source": [
    "# each item in quads_within_roi is a dict. Combine into a geojson feature collection\n",
    "features = []\n",
    "for quad in tqdm(quads_within_roi):\n",
    "    feature = {\n",
    "        \"type\": \"Feature\",\n",
    "        \"geometry\": {\n",
    "            \"type\": \"Polygon\",\n",
    "            \"coordinates\": [[\n",
    "                [quad['bbox'][0], quad['bbox'][1]],\n",
    "                [quad['bbox'][2], quad['bbox'][1]],\n",
    "                [quad['bbox'][2], quad['bbox'][3]],\n",
    "                [quad['bbox'][0], quad['bbox'][3]],\n",
    "                [quad['bbox'][0], quad['bbox'][1]],\n",
    "            ]],\n",
    "        },\n",
    "        \"properties\": {\n",
    "            \"_self\": quad['_links']['_self'],\n",
    "            \"download\": quad['_links']['download'],\n",
    "            \"items\": quad['_links']['items'],\n",
    "            \"thumbnail\": quad['_links']['thumbnail'],\n",
    "            \"id\": quad['id'],\n",
    "            \"percent_covered\": quad['percent_covered'],\n",
    "        }\n",
    "    }\n",
    "    features.append(feature)\n",
    "    \n",
    "collection = geojson.FeatureCollection(features)"
   ]
  },
  {
   "cell_type": "code",
   "execution_count": 15,
   "metadata": {},
   "outputs": [],
   "source": [
    "os.makedirs(metadata_save_dir, exist_ok=True)\n",
    "with open(join(metadata_save_dir, \"metadata.geojson\"), \"w\") as f:\n",
    "    geojson.dump(collection, f)"
   ]
  },
  {
   "cell_type": "code",
   "execution_count": 16,
   "metadata": {},
   "outputs": [],
   "source": [
    "with open(join(metadata_save_dir, \"metadata.geojson\"), \"r\") as f:\n",
    "    collection = geojson.load(f)"
   ]
  },
  {
   "cell_type": "code",
   "execution_count": 17,
   "metadata": {},
   "outputs": [
    {
     "name": "stdout",
     "output_type": "stream",
     "text": [
      "len(features) = 43\n"
     ]
    },
    {
     "data": {
      "text/plain": [
       "{100}"
      ]
     },
     "execution_count": 17,
     "metadata": {},
     "output_type": "execute_result"
    }
   ],
   "source": [
    "features = collection['features']\n",
    "print(f\"{len(features) = }\")\n",
    "set([feature['properties']['percent_covered'] for feature in features])"
   ]
  },
  {
   "cell_type": "code",
   "execution_count": 18,
   "metadata": {},
   "outputs": [
    {
     "name": "stdout",
     "output_type": "stream",
     "text": [
      "{\"geometry\": {\"coordinates\": [[[76.289062, 28.149503], [76.464844, 28.149503], [76.464844, 28.304381], [76.289062, 28.304381], [76.289062, 28.149503]]], \"type\": \"Polygon\"}, \"properties\": {\"_self\": \"https://api.planet.com/basemaps/v1/mosaics/a378ff71-e48b-4602-9993-bb2896a68ab3/quads/1458-1191?api_key=PLAKea85382c048b4ba086c40e3823d83d11\", \"download\": \"https://link.planet.com/basemaps/v1/mosaics/a378ff71-e48b-4602-9993-bb2896a68ab3/quads/1458-1191/full?api_key=PLAKea85382c048b4ba086c40e3823d83d11\", \"id\": \"1458-1191\", \"items\": \"https://api.planet.com/basemaps/v1/mosaics/a378ff71-e48b-4602-9993-bb2896a68ab3/quads/1458-1191/items?api_key=PLAKea85382c048b4ba086c40e3823d83d11\", \"percent_covered\": 100, \"thumbnail\": \"https://tiles.planet.com/basemaps/v1/planet-tiles/global_quarterly_2024q1_mosaic/gmap/11/1458/856.png?api_key=PLAKea85382c048b4ba086c40e3823d83d11\"}, \"type\": \"Feature\"}\n"
     ]
    }
   ],
   "source": [
    "print(features[0])"
   ]
  },
  {
   "cell_type": "code",
   "execution_count": 19,
   "metadata": {},
   "outputs": [
    {
     "data": {
      "application/vnd.jupyter.widget-view+json": {
       "model_id": "45a8b42183994fec8644e1dbe449bc2f",
       "version_major": 2,
       "version_minor": 0
      },
      "text/plain": [
       "  0%|          | 0/43 [00:00<?, ?it/s]"
      ]
     },
     "metadata": {},
     "output_type": "display_data"
    }
   ],
   "source": [
    "download_imagery_dir = join(download_dir, \"imagery\", mosaic['name'])\n",
    "os.makedirs(download_imagery_dir, exist_ok=True)\n",
    "\n",
    "def download_feature(feature):\n",
    "    file_id = feature['properties']['id']\n",
    "    file_path = join(download_imagery_dir, f\"{file_id}.tif\")\n",
    "    \n",
    "    download_url = feature['properties']['download']\n",
    "    if exists(file_path):\n",
    "        try:\n",
    "            image = Image.open(file_path)\n",
    "            assert image.size == (4096, 4096)\n",
    "            # print(f\"File already exists: {file_path}.\")\n",
    "            return  # Skip if the file is already downloaded and is not corrupted\n",
    "        except:\n",
    "            print(f\"Corrupted file: {file_path}.\")\n",
    "\n",
    "    response = requests.get(download_url, headers=headers)\n",
    "\n",
    "    # print(f\"{response.status_code=}\")\n",
    "    with open(file_path, \"wb\") as f:\n",
    "        f.write(response.content)\n",
    "        \n",
    "    da = rxr.open_rasterio(file_path)\n",
    "    # round x, y to 6 decimal places\n",
    "    da = da.assign_coords(x=np.round(da.x, 6))\n",
    "    da = da.assign_coords(y=np.round(da.y, 6))\n",
    "    kwargs = {'blockxsize': 512, 'blockysize': 512, 'tiled': True, 'compress': 'lzw', 'interleave': 'band'}\n",
    "    da.rio.to_raster(file_path, **kwargs)\n",
    "    \n",
    "    # reload for testing\n",
    "    # reload_da = rxr.open_rasterio(file_path)\n",
    "    # return reload_da\n",
    "\n",
    "# test\n",
    "# da = download_feature(features[0])\n",
    "# da.x.values[0:5]\n",
    "# _ = Parallel(n_jobs=48)(delayed(download_feature)(feature) for feature in tqdm(features))\n",
    "with cf.ThreadPoolExecutor(max_workers=48) as executor:\n",
    "    list(tqdm(executor.map(download_feature, features), total=len(features)))"
   ]
  },
  {
   "cell_type": "code",
   "execution_count": null,
   "metadata": {},
   "outputs": [],
   "source": []
  }
 ],
 "metadata": {
  "kernelspec": {
   "display_name": "rishabh_sat",
   "language": "python",
   "name": "python3"
  },
  "language_info": {
   "codemirror_mode": {
    "name": "ipython",
    "version": 3
   },
   "file_extension": ".py",
   "mimetype": "text/x-python",
   "name": "python",
   "nbconvert_exporter": "python",
   "pygments_lexer": "ipython3",
   "version": "3.12.4"
  }
 },
 "nbformat": 4,
 "nbformat_minor": 2
}

{
 "cells": [
  {
   "cell_type": "code",
   "execution_count": 13,
   "metadata": {},
   "outputs": [
    {
     "data": {
      "text/html": [
       "\n",
       "            <style>\n",
       "                .geemap-dark {\n",
       "                    --jp-widgets-color: white;\n",
       "                    --jp-widgets-label-color: white;\n",
       "                    --jp-ui-font-color1: white;\n",
       "                    --jp-layout-color2: #454545;\n",
       "                    background-color: #383838;\n",
       "                }\n",
       "\n",
       "                .geemap-dark .jupyter-button {\n",
       "                    --jp-layout-color3: #383838;\n",
       "                }\n",
       "\n",
       "                .geemap-colab {\n",
       "                    background-color: var(--colab-primary-surface-color, white);\n",
       "                }\n",
       "\n",
       "                .geemap-colab .jupyter-button {\n",
       "                    --jp-layout-color3: var(--colab-primary-surface-color, white);\n",
       "                }\n",
       "            </style>\n",
       "            "
      ],
      "text/plain": [
       "<IPython.core.display.HTML object>"
      ]
     },
     "metadata": {},
     "output_type": "display_data"
    },
    {
     "name": "stdout",
     "output_type": "stream",
     "text": [
      "\u001b[33mDEPRECATION: Loading egg at /opt/anaconda3/envs/rishabh_sat/lib/python3.12/site-packages/ISR-2.2.0-py3.12.egg is deprecated. pip 24.3 will enforce this behaviour change. A possible replacement is to use pip for package installation.. Discussion can be found at https://github.com/pypa/pip/issues/12330\u001b[0m\u001b[33m\n",
      "\u001b[0mCollecting git+https://github.com/patel-zeel/garuda.git\n",
      "  Cloning https://github.com/patel-zeel/garuda.git to /tmp/pip-req-build-y7b49fjh\n",
      "  Running command git clone --filter=blob:none --quiet https://github.com/patel-zeel/garuda.git /tmp/pip-req-build-y7b49fjh\n",
      "  Resolved https://github.com/patel-zeel/garuda.git to commit 8dc59cf9fd1d6cefad2547d735dc79f4f04b6202\n",
      "  Installing build dependencies ... \u001b[?25ldone\n",
      "\u001b[?25h  Getting requirements to build wheel ... \u001b[?25ldone\n",
      "\u001b[?25h  Preparing metadata (pyproject.toml) ... \u001b[?25ldone\n",
      "\u001b[?25hRequirement already satisfied: numpy in /opt/anaconda3/envs/rishabh_sat/lib/python3.12/site-packages (from garuda==0.0.6.dev6+g8dc59cf) (1.26.4)\n",
      "Requirement already satisfied: pandas in /opt/anaconda3/envs/rishabh_sat/lib/python3.12/site-packages (from garuda==0.0.6.dev6+g8dc59cf) (2.2.2)\n",
      "Requirement already satisfied: matplotlib in /opt/anaconda3/envs/rishabh_sat/lib/python3.12/site-packages (from garuda==0.0.6.dev6+g8dc59cf) (3.9.2)\n",
      "Requirement already satisfied: pyproj in /opt/anaconda3/envs/rishabh_sat/lib/python3.12/site-packages (from garuda==0.0.6.dev6+g8dc59cf) (3.6.1)\n",
      "Requirement already satisfied: beartype in /opt/anaconda3/envs/rishabh_sat/lib/python3.12/site-packages (from garuda==0.0.6.dev6+g8dc59cf) (0.18.5)\n",
      "Requirement already satisfied: jaxtyping in /opt/anaconda3/envs/rishabh_sat/lib/python3.12/site-packages (from garuda==0.0.6.dev6+g8dc59cf) (0.2.34)\n",
      "Requirement already satisfied: planetary-computer in /opt/anaconda3/envs/rishabh_sat/lib/python3.12/site-packages (from garuda==0.0.6.dev6+g8dc59cf) (1.0.0)\n",
      "Requirement already satisfied: shapely in /opt/anaconda3/envs/rishabh_sat/lib/python3.12/site-packages (from garuda==0.0.6.dev6+g8dc59cf) (2.0.4)\n",
      "Requirement already satisfied: rioxarray in /opt/anaconda3/envs/rishabh_sat/lib/python3.12/site-packages (from garuda==0.0.6.dev6+g8dc59cf) (0.15.7)\n",
      "Requirement already satisfied: opencv-python in /home/rishabh.mondal/.local/lib/python3.12/site-packages (from garuda==0.0.6.dev6+g8dc59cf) (4.10.0.84)\n",
      "Requirement already satisfied: einops in /opt/anaconda3/envs/rishabh_sat/lib/python3.12/site-packages (from garuda==0.0.6.dev6+g8dc59cf) (0.8.0)\n",
      "Requirement already satisfied: typeguard==2.13.3 in /opt/anaconda3/envs/rishabh_sat/lib/python3.12/site-packages (from jaxtyping->garuda==0.0.6.dev6+g8dc59cf) (2.13.3)\n",
      "Requirement already satisfied: contourpy>=1.0.1 in /opt/anaconda3/envs/rishabh_sat/lib/python3.12/site-packages (from matplotlib->garuda==0.0.6.dev6+g8dc59cf) (1.2.1)\n",
      "Requirement already satisfied: cycler>=0.10 in /opt/anaconda3/envs/rishabh_sat/lib/python3.12/site-packages (from matplotlib->garuda==0.0.6.dev6+g8dc59cf) (0.12.1)\n",
      "Requirement already satisfied: fonttools>=4.22.0 in /opt/anaconda3/envs/rishabh_sat/lib/python3.12/site-packages (from matplotlib->garuda==0.0.6.dev6+g8dc59cf) (4.53.0)\n",
      "Requirement already satisfied: kiwisolver>=1.3.1 in /opt/anaconda3/envs/rishabh_sat/lib/python3.12/site-packages (from matplotlib->garuda==0.0.6.dev6+g8dc59cf) (1.4.5)\n",
      "Requirement already satisfied: packaging>=20.0 in /opt/anaconda3/envs/rishabh_sat/lib/python3.12/site-packages (from matplotlib->garuda==0.0.6.dev6+g8dc59cf) (24.1)\n",
      "Requirement already satisfied: pillow>=8 in /opt/anaconda3/envs/rishabh_sat/lib/python3.12/site-packages (from matplotlib->garuda==0.0.6.dev6+g8dc59cf) (10.3.0)\n",
      "Requirement already satisfied: pyparsing>=2.3.1 in /opt/anaconda3/envs/rishabh_sat/lib/python3.12/site-packages (from matplotlib->garuda==0.0.6.dev6+g8dc59cf) (3.1.2)\n",
      "Requirement already satisfied: python-dateutil>=2.7 in /opt/anaconda3/envs/rishabh_sat/lib/python3.12/site-packages (from matplotlib->garuda==0.0.6.dev6+g8dc59cf) (2.9.0)\n",
      "Requirement already satisfied: pytz>=2020.1 in /opt/anaconda3/envs/rishabh_sat/lib/python3.12/site-packages (from pandas->garuda==0.0.6.dev6+g8dc59cf) (2024.1)\n",
      "Requirement already satisfied: tzdata>=2022.7 in /opt/anaconda3/envs/rishabh_sat/lib/python3.12/site-packages (from pandas->garuda==0.0.6.dev6+g8dc59cf) (2024.1)\n",
      "Requirement already satisfied: click>=7.1 in /opt/anaconda3/envs/rishabh_sat/lib/python3.12/site-packages (from planetary-computer->garuda==0.0.6.dev6+g8dc59cf) (8.1.7)\n",
      "Requirement already satisfied: pydantic>=1.7.3 in /opt/anaconda3/envs/rishabh_sat/lib/python3.12/site-packages (from planetary-computer->garuda==0.0.6.dev6+g8dc59cf) (2.8.0)\n",
      "Requirement already satisfied: pystac>=1.0.0 in /opt/anaconda3/envs/rishabh_sat/lib/python3.12/site-packages (from planetary-computer->garuda==0.0.6.dev6+g8dc59cf) (1.10.1)\n",
      "Requirement already satisfied: pystac-client>=0.2.0 in /opt/anaconda3/envs/rishabh_sat/lib/python3.12/site-packages (from planetary-computer->garuda==0.0.6.dev6+g8dc59cf) (0.8.2)\n",
      "Requirement already satisfied: requests>=2.25.1 in /opt/anaconda3/envs/rishabh_sat/lib/python3.12/site-packages (from planetary-computer->garuda==0.0.6.dev6+g8dc59cf) (2.32.3)\n",
      "Requirement already satisfied: python-dotenv in /opt/anaconda3/envs/rishabh_sat/lib/python3.12/site-packages (from planetary-computer->garuda==0.0.6.dev6+g8dc59cf) (1.0.1)\n",
      "Requirement already satisfied: certifi in /opt/anaconda3/envs/rishabh_sat/lib/python3.12/site-packages (from pyproj->garuda==0.0.6.dev6+g8dc59cf) (2024.8.30)\n",
      "Requirement already satisfied: rasterio>=1.3 in /opt/anaconda3/envs/rishabh_sat/lib/python3.12/site-packages (from rioxarray->garuda==0.0.6.dev6+g8dc59cf) (1.3.10)\n",
      "Requirement already satisfied: xarray>=2022.3.0 in /opt/anaconda3/envs/rishabh_sat/lib/python3.12/site-packages (from rioxarray->garuda==0.0.6.dev6+g8dc59cf) (2024.6.0)\n",
      "Requirement already satisfied: annotated-types>=0.4.0 in /opt/anaconda3/envs/rishabh_sat/lib/python3.12/site-packages (from pydantic>=1.7.3->planetary-computer->garuda==0.0.6.dev6+g8dc59cf) (0.7.0)\n",
      "Requirement already satisfied: pydantic-core==2.20.0 in /opt/anaconda3/envs/rishabh_sat/lib/python3.12/site-packages (from pydantic>=1.7.3->planetary-computer->garuda==0.0.6.dev6+g8dc59cf) (2.20.0)\n",
      "Requirement already satisfied: typing-extensions>=4.6.1 in /opt/anaconda3/envs/rishabh_sat/lib/python3.12/site-packages (from pydantic>=1.7.3->planetary-computer->garuda==0.0.6.dev6+g8dc59cf) (4.12.2)\n",
      "Requirement already satisfied: six>=1.5 in /opt/anaconda3/envs/rishabh_sat/lib/python3.12/site-packages (from python-dateutil>=2.7->matplotlib->garuda==0.0.6.dev6+g8dc59cf) (1.16.0)\n",
      "Requirement already satisfied: affine in /opt/anaconda3/envs/rishabh_sat/lib/python3.12/site-packages (from rasterio>=1.3->rioxarray->garuda==0.0.6.dev6+g8dc59cf) (2.4.0)\n",
      "Requirement already satisfied: attrs in /opt/anaconda3/envs/rishabh_sat/lib/python3.12/site-packages (from rasterio>=1.3->rioxarray->garuda==0.0.6.dev6+g8dc59cf) (23.2.0)\n",
      "Requirement already satisfied: cligj>=0.5 in /opt/anaconda3/envs/rishabh_sat/lib/python3.12/site-packages (from rasterio>=1.3->rioxarray->garuda==0.0.6.dev6+g8dc59cf) (0.7.2)\n",
      "Requirement already satisfied: snuggs>=1.4.1 in /opt/anaconda3/envs/rishabh_sat/lib/python3.12/site-packages (from rasterio>=1.3->rioxarray->garuda==0.0.6.dev6+g8dc59cf) (1.4.7)\n",
      "Requirement already satisfied: click-plugins in /opt/anaconda3/envs/rishabh_sat/lib/python3.12/site-packages (from rasterio>=1.3->rioxarray->garuda==0.0.6.dev6+g8dc59cf) (1.1.1)\n",
      "Requirement already satisfied: setuptools in /opt/anaconda3/envs/rishabh_sat/lib/python3.12/site-packages (from rasterio>=1.3->rioxarray->garuda==0.0.6.dev6+g8dc59cf) (75.1.0)\n",
      "Requirement already satisfied: charset-normalizer<4,>=2 in /opt/anaconda3/envs/rishabh_sat/lib/python3.12/site-packages (from requests>=2.25.1->planetary-computer->garuda==0.0.6.dev6+g8dc59cf) (3.3.2)\n",
      "Requirement already satisfied: idna<4,>=2.5 in /opt/anaconda3/envs/rishabh_sat/lib/python3.12/site-packages (from requests>=2.25.1->planetary-computer->garuda==0.0.6.dev6+g8dc59cf) (3.8)\n",
      "Requirement already satisfied: urllib3<3,>=1.21.1 in /opt/anaconda3/envs/rishabh_sat/lib/python3.12/site-packages (from requests>=2.25.1->planetary-computer->garuda==0.0.6.dev6+g8dc59cf) (2.2.2)\n",
      "Requirement already satisfied: jsonschema~=4.18 in /opt/anaconda3/envs/rishabh_sat/lib/python3.12/site-packages (from pystac[validation]>=1.10.0->pystac-client>=0.2.0->planetary-computer->garuda==0.0.6.dev6+g8dc59cf) (4.23.0)\n",
      "Requirement already satisfied: jsonschema-specifications>=2023.03.6 in /opt/anaconda3/envs/rishabh_sat/lib/python3.12/site-packages (from jsonschema~=4.18->pystac[validation]>=1.10.0->pystac-client>=0.2.0->planetary-computer->garuda==0.0.6.dev6+g8dc59cf) (2023.12.1)\n",
      "Requirement already satisfied: referencing>=0.28.4 in /opt/anaconda3/envs/rishabh_sat/lib/python3.12/site-packages (from jsonschema~=4.18->pystac[validation]>=1.10.0->pystac-client>=0.2.0->planetary-computer->garuda==0.0.6.dev6+g8dc59cf) (0.35.1)\n",
      "Requirement already satisfied: rpds-py>=0.7.1 in /opt/anaconda3/envs/rishabh_sat/lib/python3.12/site-packages (from jsonschema~=4.18->pystac[validation]>=1.10.0->pystac-client>=0.2.0->planetary-computer->garuda==0.0.6.dev6+g8dc59cf) (0.18.1)\n",
      "Note: you may need to restart the kernel to use updated packages.\n",
      "\u001b[33mDEPRECATION: Loading egg at /opt/anaconda3/envs/rishabh_sat/lib/python3.12/site-packages/ISR-2.2.0-py3.12.egg is deprecated. pip 24.3 will enforce this behaviour change. A possible replacement is to use pip for package installation.. Discussion can be found at https://github.com/pypa/pip/issues/12330\u001b[0m\u001b[33m\n",
      "\u001b[0mCollecting git+https://github.com/patel-zeel/garuda@develop\n",
      "  Cloning https://github.com/patel-zeel/garuda (to revision develop) to /tmp/pip-req-build-c3y_uruc\n",
      "  Running command git clone --filter=blob:none --quiet https://github.com/patel-zeel/garuda /tmp/pip-req-build-c3y_uruc\n",
      "  Running command git checkout -b develop --track origin/develop\n",
      "  Switched to a new branch 'develop'\n",
      "  Branch 'develop' set up to track remote branch 'develop' from 'origin'.\n",
      "  Resolved https://github.com/patel-zeel/garuda to commit f8a5e108ac49479be474715736cd188bd332c742\n",
      "  Installing build dependencies ... \u001b[?25ldone\n",
      "\u001b[?25h  Getting requirements to build wheel ... \u001b[?25ldone\n",
      "\u001b[?25h  Preparing metadata (pyproject.toml) ... \u001b[?25ldone\n",
      "\u001b[?25hRequirement already satisfied: numpy in /opt/anaconda3/envs/rishabh_sat/lib/python3.12/site-packages (from garuda==0.0.6.dev10+gf8a5e10) (1.26.4)\n",
      "Requirement already satisfied: pandas in /opt/anaconda3/envs/rishabh_sat/lib/python3.12/site-packages (from garuda==0.0.6.dev10+gf8a5e10) (2.2.2)\n",
      "Requirement already satisfied: matplotlib in /opt/anaconda3/envs/rishabh_sat/lib/python3.12/site-packages (from garuda==0.0.6.dev10+gf8a5e10) (3.9.2)\n",
      "Requirement already satisfied: pyproj in /opt/anaconda3/envs/rishabh_sat/lib/python3.12/site-packages (from garuda==0.0.6.dev10+gf8a5e10) (3.6.1)\n",
      "Requirement already satisfied: beartype in /opt/anaconda3/envs/rishabh_sat/lib/python3.12/site-packages (from garuda==0.0.6.dev10+gf8a5e10) (0.18.5)\n",
      "Requirement already satisfied: jaxtyping in /opt/anaconda3/envs/rishabh_sat/lib/python3.12/site-packages (from garuda==0.0.6.dev10+gf8a5e10) (0.2.34)\n",
      "Requirement already satisfied: planetary-computer in /opt/anaconda3/envs/rishabh_sat/lib/python3.12/site-packages (from garuda==0.0.6.dev10+gf8a5e10) (1.0.0)\n",
      "Requirement already satisfied: shapely in /opt/anaconda3/envs/rishabh_sat/lib/python3.12/site-packages (from garuda==0.0.6.dev10+gf8a5e10) (2.0.4)\n",
      "Requirement already satisfied: rioxarray in /opt/anaconda3/envs/rishabh_sat/lib/python3.12/site-packages (from garuda==0.0.6.dev10+gf8a5e10) (0.15.7)\n",
      "Requirement already satisfied: opencv-python in /home/rishabh.mondal/.local/lib/python3.12/site-packages (from garuda==0.0.6.dev10+gf8a5e10) (4.10.0.84)\n",
      "Requirement already satisfied: einops in /opt/anaconda3/envs/rishabh_sat/lib/python3.12/site-packages (from garuda==0.0.6.dev10+gf8a5e10) (0.8.0)\n",
      "Requirement already satisfied: typeguard==2.13.3 in /opt/anaconda3/envs/rishabh_sat/lib/python3.12/site-packages (from jaxtyping->garuda==0.0.6.dev10+gf8a5e10) (2.13.3)\n",
      "Requirement already satisfied: contourpy>=1.0.1 in /opt/anaconda3/envs/rishabh_sat/lib/python3.12/site-packages (from matplotlib->garuda==0.0.6.dev10+gf8a5e10) (1.2.1)\n",
      "Requirement already satisfied: cycler>=0.10 in /opt/anaconda3/envs/rishabh_sat/lib/python3.12/site-packages (from matplotlib->garuda==0.0.6.dev10+gf8a5e10) (0.12.1)\n",
      "Requirement already satisfied: fonttools>=4.22.0 in /opt/anaconda3/envs/rishabh_sat/lib/python3.12/site-packages (from matplotlib->garuda==0.0.6.dev10+gf8a5e10) (4.53.0)\n",
      "Requirement already satisfied: kiwisolver>=1.3.1 in /opt/anaconda3/envs/rishabh_sat/lib/python3.12/site-packages (from matplotlib->garuda==0.0.6.dev10+gf8a5e10) (1.4.5)\n",
      "Requirement already satisfied: packaging>=20.0 in /opt/anaconda3/envs/rishabh_sat/lib/python3.12/site-packages (from matplotlib->garuda==0.0.6.dev10+gf8a5e10) (24.1)\n",
      "Requirement already satisfied: pillow>=8 in /opt/anaconda3/envs/rishabh_sat/lib/python3.12/site-packages (from matplotlib->garuda==0.0.6.dev10+gf8a5e10) (10.3.0)\n",
      "Requirement already satisfied: pyparsing>=2.3.1 in /opt/anaconda3/envs/rishabh_sat/lib/python3.12/site-packages (from matplotlib->garuda==0.0.6.dev10+gf8a5e10) (3.1.2)\n",
      "Requirement already satisfied: python-dateutil>=2.7 in /opt/anaconda3/envs/rishabh_sat/lib/python3.12/site-packages (from matplotlib->garuda==0.0.6.dev10+gf8a5e10) (2.9.0)\n",
      "Requirement already satisfied: pytz>=2020.1 in /opt/anaconda3/envs/rishabh_sat/lib/python3.12/site-packages (from pandas->garuda==0.0.6.dev10+gf8a5e10) (2024.1)\n",
      "Requirement already satisfied: tzdata>=2022.7 in /opt/anaconda3/envs/rishabh_sat/lib/python3.12/site-packages (from pandas->garuda==0.0.6.dev10+gf8a5e10) (2024.1)\n",
      "Requirement already satisfied: click>=7.1 in /opt/anaconda3/envs/rishabh_sat/lib/python3.12/site-packages (from planetary-computer->garuda==0.0.6.dev10+gf8a5e10) (8.1.7)\n",
      "Requirement already satisfied: pydantic>=1.7.3 in /opt/anaconda3/envs/rishabh_sat/lib/python3.12/site-packages (from planetary-computer->garuda==0.0.6.dev10+gf8a5e10) (2.8.0)\n",
      "Requirement already satisfied: pystac>=1.0.0 in /opt/anaconda3/envs/rishabh_sat/lib/python3.12/site-packages (from planetary-computer->garuda==0.0.6.dev10+gf8a5e10) (1.10.1)\n",
      "Requirement already satisfied: pystac-client>=0.2.0 in /opt/anaconda3/envs/rishabh_sat/lib/python3.12/site-packages (from planetary-computer->garuda==0.0.6.dev10+gf8a5e10) (0.8.2)\n",
      "Requirement already satisfied: requests>=2.25.1 in /opt/anaconda3/envs/rishabh_sat/lib/python3.12/site-packages (from planetary-computer->garuda==0.0.6.dev10+gf8a5e10) (2.32.3)\n",
      "Requirement already satisfied: python-dotenv in /opt/anaconda3/envs/rishabh_sat/lib/python3.12/site-packages (from planetary-computer->garuda==0.0.6.dev10+gf8a5e10) (1.0.1)\n",
      "Requirement already satisfied: certifi in /opt/anaconda3/envs/rishabh_sat/lib/python3.12/site-packages (from pyproj->garuda==0.0.6.dev10+gf8a5e10) (2024.8.30)\n",
      "Requirement already satisfied: rasterio>=1.3 in /opt/anaconda3/envs/rishabh_sat/lib/python3.12/site-packages (from rioxarray->garuda==0.0.6.dev10+gf8a5e10) (1.3.10)\n",
      "Requirement already satisfied: xarray>=2022.3.0 in /opt/anaconda3/envs/rishabh_sat/lib/python3.12/site-packages (from rioxarray->garuda==0.0.6.dev10+gf8a5e10) (2024.6.0)\n",
      "Requirement already satisfied: annotated-types>=0.4.0 in /opt/anaconda3/envs/rishabh_sat/lib/python3.12/site-packages (from pydantic>=1.7.3->planetary-computer->garuda==0.0.6.dev10+gf8a5e10) (0.7.0)\n",
      "Requirement already satisfied: pydantic-core==2.20.0 in /opt/anaconda3/envs/rishabh_sat/lib/python3.12/site-packages (from pydantic>=1.7.3->planetary-computer->garuda==0.0.6.dev10+gf8a5e10) (2.20.0)\n",
      "Requirement already satisfied: typing-extensions>=4.6.1 in /opt/anaconda3/envs/rishabh_sat/lib/python3.12/site-packages (from pydantic>=1.7.3->planetary-computer->garuda==0.0.6.dev10+gf8a5e10) (4.12.2)\n",
      "Requirement already satisfied: six>=1.5 in /opt/anaconda3/envs/rishabh_sat/lib/python3.12/site-packages (from python-dateutil>=2.7->matplotlib->garuda==0.0.6.dev10+gf8a5e10) (1.16.0)\n",
      "Requirement already satisfied: affine in /opt/anaconda3/envs/rishabh_sat/lib/python3.12/site-packages (from rasterio>=1.3->rioxarray->garuda==0.0.6.dev10+gf8a5e10) (2.4.0)\n",
      "Requirement already satisfied: attrs in /opt/anaconda3/envs/rishabh_sat/lib/python3.12/site-packages (from rasterio>=1.3->rioxarray->garuda==0.0.6.dev10+gf8a5e10) (23.2.0)\n",
      "Requirement already satisfied: cligj>=0.5 in /opt/anaconda3/envs/rishabh_sat/lib/python3.12/site-packages (from rasterio>=1.3->rioxarray->garuda==0.0.6.dev10+gf8a5e10) (0.7.2)\n",
      "Requirement already satisfied: snuggs>=1.4.1 in /opt/anaconda3/envs/rishabh_sat/lib/python3.12/site-packages (from rasterio>=1.3->rioxarray->garuda==0.0.6.dev10+gf8a5e10) (1.4.7)\n",
      "Requirement already satisfied: click-plugins in /opt/anaconda3/envs/rishabh_sat/lib/python3.12/site-packages (from rasterio>=1.3->rioxarray->garuda==0.0.6.dev10+gf8a5e10) (1.1.1)\n",
      "Requirement already satisfied: setuptools in /opt/anaconda3/envs/rishabh_sat/lib/python3.12/site-packages (from rasterio>=1.3->rioxarray->garuda==0.0.6.dev10+gf8a5e10) (75.1.0)\n",
      "Requirement already satisfied: charset-normalizer<4,>=2 in /opt/anaconda3/envs/rishabh_sat/lib/python3.12/site-packages (from requests>=2.25.1->planetary-computer->garuda==0.0.6.dev10+gf8a5e10) (3.3.2)\n",
      "Requirement already satisfied: idna<4,>=2.5 in /opt/anaconda3/envs/rishabh_sat/lib/python3.12/site-packages (from requests>=2.25.1->planetary-computer->garuda==0.0.6.dev10+gf8a5e10) (3.8)\n",
      "Requirement already satisfied: urllib3<3,>=1.21.1 in /opt/anaconda3/envs/rishabh_sat/lib/python3.12/site-packages (from requests>=2.25.1->planetary-computer->garuda==0.0.6.dev10+gf8a5e10) (2.2.2)\n",
      "Requirement already satisfied: jsonschema~=4.18 in /opt/anaconda3/envs/rishabh_sat/lib/python3.12/site-packages (from pystac[validation]>=1.10.0->pystac-client>=0.2.0->planetary-computer->garuda==0.0.6.dev10+gf8a5e10) (4.23.0)\n",
      "Requirement already satisfied: jsonschema-specifications>=2023.03.6 in /opt/anaconda3/envs/rishabh_sat/lib/python3.12/site-packages (from jsonschema~=4.18->pystac[validation]>=1.10.0->pystac-client>=0.2.0->planetary-computer->garuda==0.0.6.dev10+gf8a5e10) (2023.12.1)\n",
      "Requirement already satisfied: referencing>=0.28.4 in /opt/anaconda3/envs/rishabh_sat/lib/python3.12/site-packages (from jsonschema~=4.18->pystac[validation]>=1.10.0->pystac-client>=0.2.0->planetary-computer->garuda==0.0.6.dev10+gf8a5e10) (0.35.1)\n",
      "Requirement already satisfied: rpds-py>=0.7.1 in /opt/anaconda3/envs/rishabh_sat/lib/python3.12/site-packages (from jsonschema~=4.18->pystac[validation]>=1.10.0->pystac-client>=0.2.0->planetary-computer->garuda==0.0.6.dev10+gf8a5e10) (0.18.1)\n",
      "Building wheels for collected packages: garuda\n",
      "  Building wheel for garuda (pyproject.toml) ... \u001b[?25ldone\n",
      "\u001b[?25h  Created wheel for garuda: filename=garuda-0.0.6.dev10+gf8a5e10-py3-none-any.whl size=35128 sha256=3fdd219a740f8cd189555bc955e5830d0e6cd52100d45118fa2fc9cafa8bf2ac\n",
      "  Stored in directory: /tmp/pip-ephem-wheel-cache-6he9hbg6/wheels/bb/be/f5/c5ad952673122ee4d0718898b058429d94e49407e42a2f23f2\n",
      "Successfully built garuda\n",
      "Installing collected packages: garuda\n",
      "  Attempting uninstall: garuda\n",
      "    Found existing installation: garuda 0.0.6.dev6+g8dc59cf\n",
      "    Uninstalling garuda-0.0.6.dev6+g8dc59cf:\n",
      "      Successfully uninstalled garuda-0.0.6.dev6+g8dc59cf\n",
      "Successfully installed garuda-0.0.6.dev10+gf8a5e10\n",
      "Note: you may need to restart the kernel to use updated packages.\n"
     ]
    }
   ],
   "source": [
    "%pip install --upgrade git+https://github.com/patel-zeel/garuda.git\n",
    "%pip install git+https://github.com/patel-zeel/garuda@develop\n"
   ]
  },
  {
   "cell_type": "code",
   "execution_count": 14,
   "metadata": {},
   "outputs": [
    {
     "data": {
      "text/html": [
       "\n",
       "            <style>\n",
       "                .geemap-dark {\n",
       "                    --jp-widgets-color: white;\n",
       "                    --jp-widgets-label-color: white;\n",
       "                    --jp-ui-font-color1: white;\n",
       "                    --jp-layout-color2: #454545;\n",
       "                    background-color: #383838;\n",
       "                }\n",
       "\n",
       "                .geemap-dark .jupyter-button {\n",
       "                    --jp-layout-color3: #383838;\n",
       "                }\n",
       "\n",
       "                .geemap-colab {\n",
       "                    background-color: var(--colab-primary-surface-color, white);\n",
       "                }\n",
       "\n",
       "                .geemap-colab .jupyter-button {\n",
       "                    --jp-layout-color3: var(--colab-primary-surface-color, white);\n",
       "                }\n",
       "            </style>\n",
       "            "
      ],
      "text/plain": [
       "<IPython.core.display.HTML object>"
      ]
     },
     "metadata": {},
     "output_type": "display_data"
    },
    {
     "name": "stdout",
     "output_type": "stream",
     "text": [
      "hi\n"
     ]
    }
   ],
   "source": [
    "print('hi')\n",
    "# conda create --name tempgaruda python=3.12"
   ]
  },
  {
   "cell_type": "code",
   "execution_count": 15,
   "metadata": {},
   "outputs": [
    {
     "data": {
      "text/html": [
       "\n",
       "            <style>\n",
       "                .geemap-dark {\n",
       "                    --jp-widgets-color: white;\n",
       "                    --jp-widgets-label-color: white;\n",
       "                    --jp-ui-font-color1: white;\n",
       "                    --jp-layout-color2: #454545;\n",
       "                    background-color: #383838;\n",
       "                }\n",
       "\n",
       "                .geemap-dark .jupyter-button {\n",
       "                    --jp-layout-color3: #383838;\n",
       "                }\n",
       "\n",
       "                .geemap-colab {\n",
       "                    background-color: var(--colab-primary-surface-color, white);\n",
       "                }\n",
       "\n",
       "                .geemap-colab .jupyter-button {\n",
       "                    --jp-layout-color3: var(--colab-primary-surface-color, white);\n",
       "                }\n",
       "            </style>\n",
       "            "
      ],
      "text/plain": [
       "<IPython.core.display.HTML object>"
      ]
     },
     "metadata": {},
     "output_type": "display_data"
    }
   ],
   "source": [
    "from os.path import join"
   ]
  },
  {
   "cell_type": "code",
   "execution_count": 16,
   "metadata": {},
   "outputs": [
    {
     "data": {
      "text/html": [
       "\n",
       "            <style>\n",
       "                .geemap-dark {\n",
       "                    --jp-widgets-color: white;\n",
       "                    --jp-widgets-label-color: white;\n",
       "                    --jp-ui-font-color1: white;\n",
       "                    --jp-layout-color2: #454545;\n",
       "                    background-color: #383838;\n",
       "                }\n",
       "\n",
       "                .geemap-dark .jupyter-button {\n",
       "                    --jp-layout-color3: #383838;\n",
       "                }\n",
       "\n",
       "                .geemap-colab {\n",
       "                    background-color: var(--colab-primary-surface-color, white);\n",
       "                }\n",
       "\n",
       "                .geemap-colab .jupyter-button {\n",
       "                    --jp-layout-color3: var(--colab-primary-surface-color, white);\n",
       "                }\n",
       "            </style>\n",
       "            "
      ],
      "text/plain": [
       "<IPython.core.display.HTML object>"
      ]
     },
     "metadata": {},
     "output_type": "display_data"
    }
   ],
   "source": [
    "try:\n",
    "    from garuda.annotate import AnnotationTool\n",
    "except ModuleNotFoundError:\n",
    "    %pip install git+https://github.com/patel-zeel/garuda.git\n",
    "    from garuda.annotate import AnnotationTool\n",
    "    \n",
    "\n",
    "from garuda.box import OBBLabel\n",
    "from garuda.utils import obb_labels_from_geojson"
   ]
  },
  {
   "cell_type": "code",
   "execution_count": 17,
   "metadata": {},
   "outputs": [
    {
     "data": {
      "text/html": [
       "\n",
       "            <style>\n",
       "                .geemap-dark {\n",
       "                    --jp-widgets-color: white;\n",
       "                    --jp-widgets-label-color: white;\n",
       "                    --jp-ui-font-color1: white;\n",
       "                    --jp-layout-color2: #454545;\n",
       "                    background-color: #383838;\n",
       "                }\n",
       "\n",
       "                .geemap-dark .jupyter-button {\n",
       "                    --jp-layout-color3: #383838;\n",
       "                }\n",
       "\n",
       "                .geemap-colab {\n",
       "                    background-color: var(--colab-primary-surface-color, white);\n",
       "                }\n",
       "\n",
       "                .geemap-colab .jupyter-button {\n",
       "                    --jp-layout-color3: var(--colab-primary-surface-color, white);\n",
       "                }\n",
       "            </style>\n",
       "            "
      ],
      "text/plain": [
       "<IPython.core.display.HTML object>"
      ]
     },
     "metadata": {},
     "output_type": "display_data"
    }
   ],
   "source": [
    "# !pip install ipyleaflet\n",
    "# !pip install leafmap\n",
    "# !pip install geopy\n",
    "# !pip install geemap\n",
    "# !pip install utm\n",
    "# !pip install joblib\n",
    "# !pip install geopandas"
   ]
  },
  {
   "cell_type": "code",
   "execution_count": 18,
   "metadata": {},
   "outputs": [
    {
     "data": {
      "text/html": [
       "\n",
       "            <style>\n",
       "                .geemap-dark {\n",
       "                    --jp-widgets-color: white;\n",
       "                    --jp-widgets-label-color: white;\n",
       "                    --jp-ui-font-color1: white;\n",
       "                    --jp-layout-color2: #454545;\n",
       "                    background-color: #383838;\n",
       "                }\n",
       "\n",
       "                .geemap-dark .jupyter-button {\n",
       "                    --jp-layout-color3: #383838;\n",
       "                }\n",
       "\n",
       "                .geemap-colab {\n",
       "                    background-color: var(--colab-primary-surface-color, white);\n",
       "                }\n",
       "\n",
       "                .geemap-colab .jupyter-button {\n",
       "                    --jp-layout-color3: var(--colab-primary-surface-color, white);\n",
       "                }\n",
       "            </style>\n",
       "            "
      ],
      "text/plain": [
       "<IPython.core.display.HTML object>"
      ]
     },
     "metadata": {},
     "output_type": "display_data"
    }
   ],
   "source": [
    "import os"
   ]
  },
  {
   "cell_type": "markdown",
   "metadata": {},
   "source": [
    "## Configuration"
   ]
  },
  {
   "cell_type": "code",
   "execution_count": 19,
   "metadata": {},
   "outputs": [
    {
     "data": {
      "text/html": [
       "\n",
       "            <style>\n",
       "                .geemap-dark {\n",
       "                    --jp-widgets-color: white;\n",
       "                    --jp-widgets-label-color: white;\n",
       "                    --jp-ui-font-color1: white;\n",
       "                    --jp-layout-color2: #454545;\n",
       "                    background-color: #383838;\n",
       "                }\n",
       "\n",
       "                .geemap-dark .jupyter-button {\n",
       "                    --jp-layout-color3: #383838;\n",
       "                }\n",
       "\n",
       "                .geemap-colab {\n",
       "                    background-color: var(--colab-primary-surface-color, white);\n",
       "                }\n",
       "\n",
       "                .geemap-colab .jupyter-button {\n",
       "                    --jp-layout-color3: var(--colab-primary-surface-color, white);\n",
       "                }\n",
       "            </style>\n",
       "            "
      ],
      "text/plain": [
       "<IPython.core.display.HTML object>"
      ]
     },
     "metadata": {},
     "output_type": "display_data"
    },
    {
     "data": {
      "text/plain": [
       "['v1_potential_kiln_0_108.geojson']"
      ]
     },
     "execution_count": 19,
     "metadata": {},
     "output_type": "execute_result"
    }
   ],
   "source": [
    "region = 'alwar'\n",
    "os.listdir(f\"../hand_validation/{region}/\")"
   ]
  },
  {
   "cell_type": "code",
   "execution_count": 20,
   "metadata": {},
   "outputs": [
    {
     "data": {
      "text/html": [
       "\n",
       "            <style>\n",
       "                .geemap-dark {\n",
       "                    --jp-widgets-color: white;\n",
       "                    --jp-widgets-label-color: white;\n",
       "                    --jp-ui-font-color1: white;\n",
       "                    --jp-layout-color2: #454545;\n",
       "                    background-color: #383838;\n",
       "                }\n",
       "\n",
       "                .geemap-dark .jupyter-button {\n",
       "                    --jp-layout-color3: #383838;\n",
       "                }\n",
       "\n",
       "                .geemap-colab {\n",
       "                    background-color: var(--colab-primary-surface-color, white);\n",
       "                }\n",
       "\n",
       "                .geemap-colab .jupyter-button {\n",
       "                    --jp-layout-color3: var(--colab-primary-surface-color, white);\n",
       "                }\n",
       "            </style>\n",
       "            "
      ],
      "text/plain": [
       "<IPython.core.display.HTML object>"
      ]
     },
     "metadata": {},
     "output_type": "display_data"
    },
    {
     "data": {
      "text/plain": [
       "['alwar', 'bharatpur']"
      ]
     },
     "execution_count": 20,
     "metadata": {},
     "output_type": "execute_result"
    }
   ],
   "source": [
    "os.listdir(\"../hand_validation\")"
   ]
  },
  {
   "cell_type": "code",
   "execution_count": 21,
   "metadata": {},
   "outputs": [
    {
     "data": {
      "text/html": [
       "\n",
       "            <style>\n",
       "                .geemap-dark {\n",
       "                    --jp-widgets-color: white;\n",
       "                    --jp-widgets-label-color: white;\n",
       "                    --jp-ui-font-color1: white;\n",
       "                    --jp-layout-color2: #454545;\n",
       "                    background-color: #383838;\n",
       "                }\n",
       "\n",
       "                .geemap-dark .jupyter-button {\n",
       "                    --jp-layout-color3: #383838;\n",
       "                }\n",
       "\n",
       "                .geemap-colab {\n",
       "                    background-color: var(--colab-primary-surface-color, white);\n",
       "                }\n",
       "\n",
       "                .geemap-colab .jupyter-button {\n",
       "                    --jp-layout-color3: var(--colab-primary-surface-color, white);\n",
       "                }\n",
       "            </style>\n",
       "            "
      ],
      "text/plain": [
       "<IPython.core.display.HTML object>"
      ]
     },
     "metadata": {},
     "output_type": "display_data"
    }
   ],
   "source": [
    "# import os\n",
    "# os.listdir(\"/home/patel_zeel/kiln_compass_24/hand_validation/bihar/\")\n",
    "# os.listdir(\"/home/patel_zeel/kiln_compass_24/hand_validation/uttar_pradesh\")"
   ]
  },
  {
   "cell_type": "code",
   "execution_count": 22,
   "metadata": {},
   "outputs": [
    {
     "data": {
      "text/html": [
       "\n",
       "            <style>\n",
       "                .geemap-dark {\n",
       "                    --jp-widgets-color: white;\n",
       "                    --jp-widgets-label-color: white;\n",
       "                    --jp-ui-font-color1: white;\n",
       "                    --jp-layout-color2: #454545;\n",
       "                    background-color: #383838;\n",
       "                }\n",
       "\n",
       "                .geemap-dark .jupyter-button {\n",
       "                    --jp-layout-color3: #383838;\n",
       "                }\n",
       "\n",
       "                .geemap-colab {\n",
       "                    background-color: var(--colab-primary-surface-color, white);\n",
       "                }\n",
       "\n",
       "                .geemap-colab .jupyter-button {\n",
       "                    --jp-layout-color3: var(--colab-primary-surface-color, white);\n",
       "                }\n",
       "            </style>\n",
       "            "
      ],
      "text/plain": [
       "<IPython.core.display.HTML object>"
      ]
     },
     "metadata": {},
     "output_type": "display_data"
    },
    {
     "name": "stdout",
     "output_type": "stream",
     "text": [
      "Loading from: ../hand_validation/alwar/v1_potential_kiln_0_108.geojson\n",
      "Cache dir: ../handvalidation_cache_dir/alwar/v1_potential_kiln_0_108\n",
      "Saving to: ../hand_validation_annotated/alwar\n"
     ]
    }
   ],
   "source": [
    "# Don't change the following\n",
    "classes = [\"CFCBK\", \"FCBK\", \"Zigzag\"]\n",
    "# load_dir = \"/home/patel_zeel/kiln_compass_24/hand_validation/bihar/\"\n",
    "load_dir = f\"../hand_validation/{region}/\"\n",
    "# Change the following\n",
    "load_file = \"v1_potential_kiln_0_108.geojson\"\n",
    "# cache_dir = \"/home/patel_zeel/BrickKilns_v2/cache_dir\"\n",
    "cache_dir = f\"../handvalidation_cache_dir/{region}\"\n",
    "os.makedirs(cache_dir, exist_ok=True)\n",
    "save_dir = f\"../hand_validation_annotated/{region}\"\n",
    "os.makedirs(save_dir, exist_ok=True)\n",
    "# Don't change the following\n",
    "cache_dir = join(cache_dir, load_file.replace(\".geojson\", \"\"))\n",
    "load_path = join(load_dir, load_file)\n",
    "save_name = load_file.replace(\"to_annotate\", \"annotated\")\n",
    "\n",
    "print(f\"Loading from: {load_path}\")\n",
    "print(f\"Cache dir: {cache_dir}\")\n",
    "print(f\"Saving to: {save_dir}\")"
   ]
  },
  {
   "cell_type": "code",
   "execution_count": 23,
   "metadata": {},
   "outputs": [
    {
     "data": {
      "text/html": [
       "\n",
       "            <style>\n",
       "                .geemap-dark {\n",
       "                    --jp-widgets-color: white;\n",
       "                    --jp-widgets-label-color: white;\n",
       "                    --jp-ui-font-color1: white;\n",
       "                    --jp-layout-color2: #454545;\n",
       "                    background-color: #383838;\n",
       "                }\n",
       "\n",
       "                .geemap-dark .jupyter-button {\n",
       "                    --jp-layout-color3: #383838;\n",
       "                }\n",
       "\n",
       "                .geemap-colab {\n",
       "                    background-color: var(--colab-primary-surface-color, white);\n",
       "                }\n",
       "\n",
       "                .geemap-colab .jupyter-button {\n",
       "                    --jp-layout-color3: var(--colab-primary-surface-color, white);\n",
       "                }\n",
       "            </style>\n",
       "            "
      ],
      "text/plain": [
       "<IPython.core.display.HTML object>"
      ]
     },
     "metadata": {},
     "output_type": "display_data"
    },
    {
     "data": {
      "text/plain": [
       "109"
      ]
     },
     "execution_count": 23,
     "metadata": {},
     "output_type": "execute_result"
    }
   ],
   "source": [
    "obb_labels = obb_labels_from_geojson(load_path)\n",
    "len(obb_labels)"
   ]
  },
  {
   "cell_type": "code",
   "execution_count": 24,
   "metadata": {},
   "outputs": [
    {
     "data": {
      "text/html": [
       "\n",
       "            <style>\n",
       "                .geemap-dark {\n",
       "                    --jp-widgets-color: white;\n",
       "                    --jp-widgets-label-color: white;\n",
       "                    --jp-ui-font-color1: white;\n",
       "                    --jp-layout-color2: #454545;\n",
       "                    background-color: #383838;\n",
       "                }\n",
       "\n",
       "                .geemap-dark .jupyter-button {\n",
       "                    --jp-layout-color3: #383838;\n",
       "                }\n",
       "\n",
       "                .geemap-colab {\n",
       "                    background-color: var(--colab-primary-surface-color, white);\n",
       "                }\n",
       "\n",
       "                .geemap-colab .jupyter-button {\n",
       "                    --jp-layout-color3: var(--colab-primary-surface-color, white);\n",
       "                }\n",
       "            </style>\n",
       "            "
      ],
      "text/plain": [
       "<IPython.core.display.HTML object>"
      ]
     },
     "metadata": {},
     "output_type": "display_data"
    },
    {
     "data": {
      "application/vnd.jupyter.widget-view+json": {
       "model_id": "9d51683439c64dcf987d1538e2be9a45",
       "version_major": 2,
       "version_minor": 0
      },
      "text/plain": [
       "Label(value='Label 1/109')"
      ]
     },
     "metadata": {},
     "output_type": "display_data"
    },
    {
     "data": {
      "application/vnd.jupyter.widget-view+json": {
       "model_id": "dfcaeb210f294f38a7a2aabae2272d84",
       "version_major": 2,
       "version_minor": 0
      },
      "text/plain": [
       "Label(value='')"
      ]
     },
     "metadata": {},
     "output_type": "display_data"
    },
    {
     "data": {
      "application/vnd.jupyter.widget-view+json": {
       "model_id": "8d3524fa5b9844dd95532b04be7c16a3",
       "version_major": 2,
       "version_minor": 0
      },
      "text/plain": [
       "HBox(children=(Button(description='submit', style=ButtonStyle()), Button(description='previous', style=ButtonS…"
      ]
     },
     "metadata": {},
     "output_type": "display_data"
    },
    {
     "data": {
      "application/vnd.jupyter.widget-view+json": {
       "model_id": "0621d9c461d24d6fb248ca7a9387b465",
       "version_major": 2,
       "version_minor": 0
      },
      "text/plain": [
       "Map(center=[27, 77], controls=(ZoomControl(options=['position', 'zoom_in_text', 'zoom_in_title', 'zoom_out_tex…"
      ]
     },
     "metadata": {},
     "output_type": "display_data"
    },
    {
     "data": {
      "text/plain": [
       "<garuda.annotate.AnnotationTool at 0x7fa2311ade50>"
      ]
     },
     "execution_count": 24,
     "metadata": {},
     "output_type": "execute_result"
    }
   ],
   "source": [
    "tool = AnnotationTool(obb_labels, classes, zoom=18, cache_dir=cache_dir)\n",
    "tool"
   ]
  },
  {
   "cell_type": "code",
   "execution_count": 25,
   "metadata": {},
   "outputs": [
    {
     "data": {
      "text/html": [
       "\n",
       "            <style>\n",
       "                .geemap-dark {\n",
       "                    --jp-widgets-color: white;\n",
       "                    --jp-widgets-label-color: white;\n",
       "                    --jp-ui-font-color1: white;\n",
       "                    --jp-layout-color2: #454545;\n",
       "                    background-color: #383838;\n",
       "                }\n",
       "\n",
       "                .geemap-dark .jupyter-button {\n",
       "                    --jp-layout-color3: #383838;\n",
       "                }\n",
       "\n",
       "                .geemap-colab {\n",
       "                    background-color: var(--colab-primary-surface-color, white);\n",
       "                }\n",
       "\n",
       "                .geemap-colab .jupyter-button {\n",
       "                    --jp-layout-color3: var(--colab-primary-surface-color, white);\n",
       "                }\n",
       "            </style>\n",
       "            "
      ],
      "text/plain": [
       "<IPython.core.display.HTML object>"
      ]
     },
     "metadata": {},
     "output_type": "display_data"
    },
    {
     "name": "stdout",
     "output_type": "stream",
     "text": [
      "Saved to ../hand_validation_annotated/alwar/v1_potential_kiln_0_108.geojson\n"
     ]
    }
   ],
   "source": [
    "tool.save_to_geojson(save_dir, save_name)\n",
    "save_path = join(save_dir, save_name)\n",
    "print(f\"Saved to {save_path}\")"
   ]
  },
  {
   "cell_type": "markdown",
   "metadata": {},
   "source": [
    "## Verification"
   ]
  },
  {
   "cell_type": "code",
   "execution_count": 26,
   "metadata": {},
   "outputs": [
    {
     "data": {
      "text/html": [
       "\n",
       "            <style>\n",
       "                .geemap-dark {\n",
       "                    --jp-widgets-color: white;\n",
       "                    --jp-widgets-label-color: white;\n",
       "                    --jp-ui-font-color1: white;\n",
       "                    --jp-layout-color2: #454545;\n",
       "                    background-color: #383838;\n",
       "                }\n",
       "\n",
       "                .geemap-dark .jupyter-button {\n",
       "                    --jp-layout-color3: #383838;\n",
       "                }\n",
       "\n",
       "                .geemap-colab {\n",
       "                    background-color: var(--colab-primary-surface-color, white);\n",
       "                }\n",
       "\n",
       "                .geemap-colab .jupyter-button {\n",
       "                    --jp-layout-color3: var(--colab-primary-surface-color, white);\n",
       "                }\n",
       "            </style>\n",
       "            "
      ],
      "text/plain": [
       "<IPython.core.display.HTML object>"
      ]
     },
     "metadata": {},
     "output_type": "display_data"
    },
    {
     "data": {
      "text/plain": [
       "80"
      ]
     },
     "execution_count": 26,
     "metadata": {},
     "output_type": "execute_result"
    }
   ],
   "source": [
    "labels = obb_labels_from_geojson(save_path)\n",
    "len(labels)"
   ]
  },
  {
   "cell_type": "code",
   "execution_count": null,
   "metadata": {},
   "outputs": [],
   "source": []
  }
 ],
 "metadata": {
  "kernelspec": {
   "display_name": "rishabh_sat",
   "language": "python",
   "name": "python3"
  },
  "language_info": {
   "codemirror_mode": {
    "name": "ipython",
    "version": 3
   },
   "file_extension": ".py",
   "mimetype": "text/x-python",
   "name": "python",
   "nbconvert_exporter": "python",
   "pygments_lexer": "ipython3",
   "version": "3.12.4"
  }
 },
 "nbformat": 4,
 "nbformat_minor": 2
}

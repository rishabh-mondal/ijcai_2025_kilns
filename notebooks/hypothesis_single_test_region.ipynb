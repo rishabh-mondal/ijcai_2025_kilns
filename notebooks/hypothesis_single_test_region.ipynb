{
 "cells": [
  {
   "cell_type": "code",
   "execution_count": 37,
   "metadata": {},
   "outputs": [],
   "source": [
    "import pandas as pd\n",
    "from pyproj import Proj, Transformer\n",
    "import math\n",
    "import matplotlib.pyplot as plt\n",
    "import os\n",
    "import numpy as np\n"
   ]
  },
  {
   "cell_type": "code",
   "execution_count": 2,
   "metadata": {},
   "outputs": [
    {
     "data": {
      "text/html": [
       "<style type=\"text/css\">\n",
       "#T_befd2_row0_col2, #T_befd2_row1_col2, #T_befd2_row1_col3, #T_befd2_row1_col5, #T_befd2_row1_col6, #T_befd2_row2_col2, #T_befd2_row3_col2, #T_befd2_row4_col2, #T_befd2_row4_col4 {\n",
       "  background-color: #440154;\n",
       "  color: #f1f1f1;\n",
       "}\n",
       "#T_befd2_row0_col3, #T_befd2_row0_col4, #T_befd2_row0_col5, #T_befd2_row0_col6 {\n",
       "  background-color: #fde725;\n",
       "  color: #000000;\n",
       "}\n",
       "#T_befd2_row1_col4 {\n",
       "  background-color: #48186a;\n",
       "  color: #f1f1f1;\n",
       "}\n",
       "#T_befd2_row2_col3 {\n",
       "  background-color: #46085c;\n",
       "  color: #f1f1f1;\n",
       "}\n",
       "#T_befd2_row2_col4 {\n",
       "  background-color: #472e7c;\n",
       "  color: #f1f1f1;\n",
       "}\n",
       "#T_befd2_row2_col5, #T_befd2_row2_col6 {\n",
       "  background-color: #46307e;\n",
       "  color: #f1f1f1;\n",
       "}\n",
       "#T_befd2_row3_col3 {\n",
       "  background-color: #46075a;\n",
       "  color: #f1f1f1;\n",
       "}\n",
       "#T_befd2_row3_col4 {\n",
       "  background-color: #433d84;\n",
       "  color: #f1f1f1;\n",
       "}\n",
       "#T_befd2_row3_col5, #T_befd2_row3_col6 {\n",
       "  background-color: #481f70;\n",
       "  color: #f1f1f1;\n",
       "}\n",
       "#T_befd2_row4_col3 {\n",
       "  background-color: #481467;\n",
       "  color: #f1f1f1;\n",
       "}\n",
       "#T_befd2_row4_col5, #T_befd2_row4_col6 {\n",
       "  background-color: #3e4c8a;\n",
       "  color: #f1f1f1;\n",
       "}\n",
       "</style>\n",
       "<table id=\"T_befd2\">\n",
       "  <thead>\n",
       "    <tr>\n",
       "      <th class=\"blank level0\" >&nbsp;</th>\n",
       "      <th id=\"T_befd2_level0_col0\" class=\"col_heading level0 col0\" >Base State</th>\n",
       "      <th id=\"T_befd2_level0_col1\" class=\"col_heading level0 col1\" >Target State</th>\n",
       "      <th id=\"T_befd2_level0_col2\" class=\"col_heading level0 col2\" >CFCBK</th>\n",
       "      <th id=\"T_befd2_level0_col3\" class=\"col_heading level0 col3\" >FCBK</th>\n",
       "      <th id=\"T_befd2_level0_col4\" class=\"col_heading level0 col4\" >Zigzag</th>\n",
       "      <th id=\"T_befd2_level0_col5\" class=\"col_heading level0 col5\" >mAP</th>\n",
       "      <th id=\"T_befd2_level0_col6\" class=\"col_heading level0 col6\" >Class-agnostic AP</th>\n",
       "    </tr>\n",
       "  </thead>\n",
       "  <tbody>\n",
       "    <tr>\n",
       "      <th id=\"T_befd2_level0_row0\" class=\"row_heading level0 row0\" >0</th>\n",
       "      <td id=\"T_befd2_row0_col0\" class=\"data row0 col0\" >bihar</td>\n",
       "      <td id=\"T_befd2_row0_col1\" class=\"data row0 col1\" >bihar</td>\n",
       "      <td id=\"T_befd2_row0_col2\" class=\"data row0 col2\" >0</td>\n",
       "      <td id=\"T_befd2_row0_col3\" class=\"data row0 col3\" >0.790966</td>\n",
       "      <td id=\"T_befd2_row0_col4\" class=\"data row0 col4\" >0.820665</td>\n",
       "      <td id=\"T_befd2_row0_col5\" class=\"data row0 col5\" >0.811288</td>\n",
       "      <td id=\"T_befd2_row0_col6\" class=\"data row0 col6\" >0.811288</td>\n",
       "    </tr>\n",
       "    <tr>\n",
       "      <th id=\"T_befd2_level0_row1\" class=\"row_heading level0 row1\" >1</th>\n",
       "      <td id=\"T_befd2_row1_col0\" class=\"data row1 col0\" >punjab</td>\n",
       "      <td id=\"T_befd2_row1_col1\" class=\"data row1 col1\" >bihar</td>\n",
       "      <td id=\"T_befd2_row1_col2\" class=\"data row1 col2\" >0</td>\n",
       "      <td id=\"T_befd2_row1_col3\" class=\"data row1 col3\" >0.000323</td>\n",
       "      <td id=\"T_befd2_row1_col4\" class=\"data row1 col4\" >0.383721</td>\n",
       "      <td id=\"T_befd2_row1_col5\" class=\"data row1 col5\" >0.373844</td>\n",
       "      <td id=\"T_befd2_row1_col6\" class=\"data row1 col6\" >0.373844</td>\n",
       "    </tr>\n",
       "    <tr>\n",
       "      <th id=\"T_befd2_level0_row2\" class=\"row_heading level0 row2\" >2</th>\n",
       "      <td id=\"T_befd2_row2_col0\" class=\"data row2 col0\" >west_bengal</td>\n",
       "      <td id=\"T_befd2_row2_col1\" class=\"data row2 col1\" >bihar</td>\n",
       "      <td id=\"T_befd2_row2_col2\" class=\"data row2 col2\" >0</td>\n",
       "      <td id=\"T_befd2_row2_col3\" class=\"data row2 col3\" >0.018392</td>\n",
       "      <td id=\"T_befd2_row2_col4\" class=\"data row2 col4\" >0.415290</td>\n",
       "      <td id=\"T_befd2_row2_col5\" class=\"data row2 col5\" >0.434204</td>\n",
       "      <td id=\"T_befd2_row2_col6\" class=\"data row2 col6\" >0.434204</td>\n",
       "    </tr>\n",
       "    <tr>\n",
       "      <th id=\"T_befd2_level0_row3\" class=\"row_heading level0 row3\" >3</th>\n",
       "      <td id=\"T_befd2_row3_col0\" class=\"data row3 col0\" >haryana</td>\n",
       "      <td id=\"T_befd2_row3_col1\" class=\"data row3 col1\" >bihar</td>\n",
       "      <td id=\"T_befd2_row3_col2\" class=\"data row3 col2\" >0</td>\n",
       "      <td id=\"T_befd2_row3_col3\" class=\"data row3 col3\" >0.013614</td>\n",
       "      <td id=\"T_befd2_row3_col4\" class=\"data row3 col4\" >0.436447</td>\n",
       "      <td id=\"T_befd2_row3_col5\" class=\"data row3 col5\" >0.410338</td>\n",
       "      <td id=\"T_befd2_row3_col6\" class=\"data row3 col6\" >0.410338</td>\n",
       "    </tr>\n",
       "    <tr>\n",
       "      <th id=\"T_befd2_level0_row4\" class=\"row_heading level0 row4\" >4</th>\n",
       "      <td id=\"T_befd2_row4_col0\" class=\"data row4 col0\" >uttar_pradesh</td>\n",
       "      <td id=\"T_befd2_row4_col1\" class=\"data row4 col1\" >bihar</td>\n",
       "      <td id=\"T_befd2_row4_col2\" class=\"data row4 col2\" >0</td>\n",
       "      <td id=\"T_befd2_row4_col3\" class=\"data row4 col3\" >0.040473</td>\n",
       "      <td id=\"T_befd2_row4_col4\" class=\"data row4 col4\" >0.354047</td>\n",
       "      <td id=\"T_befd2_row4_col5\" class=\"data row4 col5\" >0.472958</td>\n",
       "      <td id=\"T_befd2_row4_col6\" class=\"data row4 col6\" >0.472958</td>\n",
       "    </tr>\n",
       "  </tbody>\n",
       "</table>\n"
      ],
      "text/plain": [
       "<pandas.io.formats.style.Styler at 0x7f4cbbdc98e0>"
      ]
     },
     "metadata": {},
     "output_type": "display_data"
    }
   ],
   "source": [
    "test_state=\"bihar\"\n",
    "csv_path=f\"../result_csv/different_state_to_{test_state}_mAP_results.csv\"\n",
    "result=pd.read_csv(csv_path)\n",
    "display(result.style.background_gradient(cmap='viridis'))"
   ]
  },
  {
   "cell_type": "code",
   "execution_count": 3,
   "metadata": {},
   "outputs": [
    {
     "name": "stdout",
     "output_type": "stream",
     "text": [
      "Reference state: bihar, Reference coordinates: (1543508.0187178673, 2815711.4859964913)\n",
      "Distances from Bihar to other states (in kilometer):\n",
      "west_bengal: 354.40 kilometers\n",
      "uttar_pradesh: 482.20 kilometers\n",
      "haryana: 1019.28 kilometers\n",
      "punjab: 1191.34 kilometers\n"
     ]
    }
   ],
   "source": [
    "## center cordinates of states\n",
    "state_center_cordinates = {\n",
    "    'bihar': (25.0961, 85.3131),\n",
    "    'west_bengal': (22.9868, 87.8550),\n",
    "    'uttar_pradesh': (26.8467, 80.9462),\n",
    "    'haryana': (29.0588, 76.0856),\n",
    "    'punjab': (31.1471, 75.3412)\n",
    "}\n",
    "\n",
    "utm=Transformer.from_crs(\"EPSG:4326\", \"EPSG:32643\")\n",
    "\n",
    "utm_coordinates={\n",
    "    state: utm.transform(lat, lon) for state, (lat, lon) in state_center_cordinates.items()\n",
    "}\n",
    "\n",
    "def calculate_distance(coords1, coords2):\n",
    "    x1, y1 = coords1\n",
    "    x2, y2 = coords2\n",
    "    return math.sqrt((x1-x2)**2 + (y1-y2)**2)\n",
    "\n",
    "reference_state=\"bihar\"\n",
    "reference_coords=utm_coordinates[reference_state]\n",
    "print(f\"Reference state: {reference_state}, Reference coordinates: {reference_coords}\")\n",
    "\n",
    "distances={\n",
    "    state: calculate_distance(reference_coords, coords)/1000 for state, coords in utm_coordinates.items()\n",
    "    if state != reference_state\n",
    "}\n",
    "\n",
    "print(\"Distances from Bihar to other states (in kilometer):\")\n",
    "for state, distance in distances.items():\n",
    "    # print(f\"{state}: {distance:.2f} meters\")\n",
    "    #calculate distance in kilometers\n",
    "    print(f\"{state}: {distance:.2f} kilometers\")"
   ]
  },
  {
   "cell_type": "code",
   "execution_count": 4,
   "metadata": {},
   "outputs": [
    {
     "name": "stdout",
     "output_type": "stream",
     "text": [
      "{'west_bengal': 354.3959902915622, 'uttar_pradesh': 482.2012348652302, 'haryana': 1019.2842410866616, 'punjab': 1191.3425476426733, 'bihar': 0}\n"
     ]
    }
   ],
   "source": [
    "distance_mapping={state : distance for state, distance in distances.items()}\n",
    "distance_mapping[reference_state]=0\n",
    "print(distance_mapping)"
   ]
  },
  {
   "cell_type": "code",
   "execution_count": 6,
   "metadata": {},
   "outputs": [
    {
     "data": {
      "text/html": [
       "<style type=\"text/css\">\n",
       "#T_de7a5_row0_col2, #T_de7a5_row0_col7, #T_de7a5_row1_col2, #T_de7a5_row2_col2, #T_de7a5_row2_col4, #T_de7a5_row3_col2, #T_de7a5_row4_col2, #T_de7a5_row4_col3, #T_de7a5_row4_col5, #T_de7a5_row4_col6 {\n",
       "  background-color: #440154;\n",
       "  color: #f1f1f1;\n",
       "}\n",
       "#T_de7a5_row0_col3, #T_de7a5_row0_col4, #T_de7a5_row0_col5, #T_de7a5_row0_col6, #T_de7a5_row4_col7 {\n",
       "  background-color: #fde725;\n",
       "  color: #000000;\n",
       "}\n",
       "#T_de7a5_row1_col3 {\n",
       "  background-color: #46085c;\n",
       "  color: #f1f1f1;\n",
       "}\n",
       "#T_de7a5_row1_col4 {\n",
       "  background-color: #472e7c;\n",
       "  color: #f1f1f1;\n",
       "}\n",
       "#T_de7a5_row1_col5, #T_de7a5_row1_col6 {\n",
       "  background-color: #46307e;\n",
       "  color: #f1f1f1;\n",
       "}\n",
       "#T_de7a5_row1_col7 {\n",
       "  background-color: #355f8d;\n",
       "  color: #f1f1f1;\n",
       "}\n",
       "#T_de7a5_row2_col3 {\n",
       "  background-color: #481467;\n",
       "  color: #f1f1f1;\n",
       "}\n",
       "#T_de7a5_row2_col5, #T_de7a5_row2_col6 {\n",
       "  background-color: #3e4c8a;\n",
       "  color: #f1f1f1;\n",
       "}\n",
       "#T_de7a5_row2_col7 {\n",
       "  background-color: #29798e;\n",
       "  color: #f1f1f1;\n",
       "}\n",
       "#T_de7a5_row3_col3 {\n",
       "  background-color: #46075a;\n",
       "  color: #f1f1f1;\n",
       "}\n",
       "#T_de7a5_row3_col4 {\n",
       "  background-color: #433d84;\n",
       "  color: #f1f1f1;\n",
       "}\n",
       "#T_de7a5_row3_col5, #T_de7a5_row3_col6 {\n",
       "  background-color: #481f70;\n",
       "  color: #f1f1f1;\n",
       "}\n",
       "#T_de7a5_row3_col7 {\n",
       "  background-color: #a0da39;\n",
       "  color: #000000;\n",
       "}\n",
       "#T_de7a5_row4_col4 {\n",
       "  background-color: #48186a;\n",
       "  color: #f1f1f1;\n",
       "}\n",
       "</style>\n",
       "<table id=\"T_de7a5\">\n",
       "  <thead>\n",
       "    <tr>\n",
       "      <th class=\"blank level0\" >&nbsp;</th>\n",
       "      <th id=\"T_de7a5_level0_col0\" class=\"col_heading level0 col0\" >Base State</th>\n",
       "      <th id=\"T_de7a5_level0_col1\" class=\"col_heading level0 col1\" >Target State</th>\n",
       "      <th id=\"T_de7a5_level0_col2\" class=\"col_heading level0 col2\" >CFCBK</th>\n",
       "      <th id=\"T_de7a5_level0_col3\" class=\"col_heading level0 col3\" >FCBK</th>\n",
       "      <th id=\"T_de7a5_level0_col4\" class=\"col_heading level0 col4\" >Zigzag</th>\n",
       "      <th id=\"T_de7a5_level0_col5\" class=\"col_heading level0 col5\" >mAP</th>\n",
       "      <th id=\"T_de7a5_level0_col6\" class=\"col_heading level0 col6\" >Class-agnostic AP</th>\n",
       "      <th id=\"T_de7a5_level0_col7\" class=\"col_heading level0 col7\" >Distance (km)</th>\n",
       "    </tr>\n",
       "  </thead>\n",
       "  <tbody>\n",
       "    <tr>\n",
       "      <th id=\"T_de7a5_level0_row0\" class=\"row_heading level0 row0\" >0</th>\n",
       "      <td id=\"T_de7a5_row0_col0\" class=\"data row0 col0\" >bihar</td>\n",
       "      <td id=\"T_de7a5_row0_col1\" class=\"data row0 col1\" >bihar</td>\n",
       "      <td id=\"T_de7a5_row0_col2\" class=\"data row0 col2\" >0</td>\n",
       "      <td id=\"T_de7a5_row0_col3\" class=\"data row0 col3\" >0.790966</td>\n",
       "      <td id=\"T_de7a5_row0_col4\" class=\"data row0 col4\" >0.820665</td>\n",
       "      <td id=\"T_de7a5_row0_col5\" class=\"data row0 col5\" >0.811288</td>\n",
       "      <td id=\"T_de7a5_row0_col6\" class=\"data row0 col6\" >0.811288</td>\n",
       "      <td id=\"T_de7a5_row0_col7\" class=\"data row0 col7\" >0.000000</td>\n",
       "    </tr>\n",
       "    <tr>\n",
       "      <th id=\"T_de7a5_level0_row1\" class=\"row_heading level0 row1\" >2</th>\n",
       "      <td id=\"T_de7a5_row1_col0\" class=\"data row1 col0\" >west_bengal</td>\n",
       "      <td id=\"T_de7a5_row1_col1\" class=\"data row1 col1\" >bihar</td>\n",
       "      <td id=\"T_de7a5_row1_col2\" class=\"data row1 col2\" >0</td>\n",
       "      <td id=\"T_de7a5_row1_col3\" class=\"data row1 col3\" >0.018392</td>\n",
       "      <td id=\"T_de7a5_row1_col4\" class=\"data row1 col4\" >0.415290</td>\n",
       "      <td id=\"T_de7a5_row1_col5\" class=\"data row1 col5\" >0.434204</td>\n",
       "      <td id=\"T_de7a5_row1_col6\" class=\"data row1 col6\" >0.434204</td>\n",
       "      <td id=\"T_de7a5_row1_col7\" class=\"data row1 col7\" >354.395990</td>\n",
       "    </tr>\n",
       "    <tr>\n",
       "      <th id=\"T_de7a5_level0_row2\" class=\"row_heading level0 row2\" >4</th>\n",
       "      <td id=\"T_de7a5_row2_col0\" class=\"data row2 col0\" >uttar_pradesh</td>\n",
       "      <td id=\"T_de7a5_row2_col1\" class=\"data row2 col1\" >bihar</td>\n",
       "      <td id=\"T_de7a5_row2_col2\" class=\"data row2 col2\" >0</td>\n",
       "      <td id=\"T_de7a5_row2_col3\" class=\"data row2 col3\" >0.040473</td>\n",
       "      <td id=\"T_de7a5_row2_col4\" class=\"data row2 col4\" >0.354047</td>\n",
       "      <td id=\"T_de7a5_row2_col5\" class=\"data row2 col5\" >0.472958</td>\n",
       "      <td id=\"T_de7a5_row2_col6\" class=\"data row2 col6\" >0.472958</td>\n",
       "      <td id=\"T_de7a5_row2_col7\" class=\"data row2 col7\" >482.201235</td>\n",
       "    </tr>\n",
       "    <tr>\n",
       "      <th id=\"T_de7a5_level0_row3\" class=\"row_heading level0 row3\" >3</th>\n",
       "      <td id=\"T_de7a5_row3_col0\" class=\"data row3 col0\" >haryana</td>\n",
       "      <td id=\"T_de7a5_row3_col1\" class=\"data row3 col1\" >bihar</td>\n",
       "      <td id=\"T_de7a5_row3_col2\" class=\"data row3 col2\" >0</td>\n",
       "      <td id=\"T_de7a5_row3_col3\" class=\"data row3 col3\" >0.013614</td>\n",
       "      <td id=\"T_de7a5_row3_col4\" class=\"data row3 col4\" >0.436447</td>\n",
       "      <td id=\"T_de7a5_row3_col5\" class=\"data row3 col5\" >0.410338</td>\n",
       "      <td id=\"T_de7a5_row3_col6\" class=\"data row3 col6\" >0.410338</td>\n",
       "      <td id=\"T_de7a5_row3_col7\" class=\"data row3 col7\" >1019.284241</td>\n",
       "    </tr>\n",
       "    <tr>\n",
       "      <th id=\"T_de7a5_level0_row4\" class=\"row_heading level0 row4\" >1</th>\n",
       "      <td id=\"T_de7a5_row4_col0\" class=\"data row4 col0\" >punjab</td>\n",
       "      <td id=\"T_de7a5_row4_col1\" class=\"data row4 col1\" >bihar</td>\n",
       "      <td id=\"T_de7a5_row4_col2\" class=\"data row4 col2\" >0</td>\n",
       "      <td id=\"T_de7a5_row4_col3\" class=\"data row4 col3\" >0.000323</td>\n",
       "      <td id=\"T_de7a5_row4_col4\" class=\"data row4 col4\" >0.383721</td>\n",
       "      <td id=\"T_de7a5_row4_col5\" class=\"data row4 col5\" >0.373844</td>\n",
       "      <td id=\"T_de7a5_row4_col6\" class=\"data row4 col6\" >0.373844</td>\n",
       "      <td id=\"T_de7a5_row4_col7\" class=\"data row4 col7\" >1191.342548</td>\n",
       "    </tr>\n",
       "  </tbody>\n",
       "</table>\n"
      ],
      "text/plain": [
       "<pandas.io.formats.style.Styler at 0x7f4cb9b205f0>"
      ]
     },
     "metadata": {},
     "output_type": "display_data"
    }
   ],
   "source": [
    "result['Distance (km)'] = result['Base State'].map(distance_mapping)\n",
    "result_sorted = result.sort_values(by='Distance (km)')\n",
    "# print(result_sorted)\n",
    "display(result_sorted.style.background_gradient(cmap='viridis'))"
   ]
  },
  {
   "cell_type": "code",
   "execution_count": 35,
   "metadata": {},
   "outputs": [
    {
     "data": {
      "image/png": "[encoded data removed]",
      "text/plain": [
       "<Figure size 800x400 with 1 Axes>"
      ]
     },
     "metadata": {},
     "output_type": "display_data"
    }
   ],
   "source": [
    "# Plot the hypothesis curve\n",
    "plt.figure(figsize=(8, 4))\n",
    "plt.plot(result_sorted['Distance (km)'], result_sorted['mAP'], marker='o', linestyle='-', color='b')\n",
    "\n",
    "# Annotate each point with distance and mAP value\n",
    "for i, row in result_sorted.iterrows():\n",
    "    plt.text(row['Distance (km)'], row['mAP'], f\"({row['Distance (km)']:.2f}, {row['mAP']:.4f})\", fontsize=11, ha='left', va='bottom', color='red')\n",
    "\n",
    "plt.xlabel('Distance (km)', fontsize=12)\n",
    "plt.ylabel('mAP', fontsize=12)\n",
    "plt.title('mAP vs Distance from Bihar', fontsize=14)\n",
    "plt.grid()\n",
    "plt.tight_layout();"
   ]
  },
  {
   "cell_type": "markdown",
   "metadata": {},
   "source": [
    "### Function for check if any bound box value is greater than 1 or less than 0\n"
   ]
  },
  {
   "cell_type": "code",
   "execution_count": 53,
   "metadata": {},
   "outputs": [
    {
     "name": "stdout",
     "output_type": "stream",
     "text": [
      "Number of label files: 731\n",
      "Number of files with bounding box values greater than 1: False\n"
     ]
    }
   ],
   "source": [
    "import os\n",
    "state = \"bihar\"\n",
    "label_directory = f\"../data/region_performace/{state}_0.25/labels\"\n",
    "label_files = [f for f in os.listdir(label_directory) if f.endswith('.txt')]\n",
    "print(f\"Number of label files: {len(label_files)}\")\n",
    "\n",
    "def check_bounding_box_values(label_directory, label_files):\n",
    "    counter = 0\n",
    "    for label_file in label_files:\n",
    "        label_path = os.path.join(label_directory, label_file)\n",
    "        counter=False\n",
    "        with open(label_path, 'r') as file:\n",
    "            for line in file:\n",
    "                parts = line.strip().split()\n",
    "                # print(parts)\n",
    "                \n",
    "                # Extract bounding box coordinates (skip the class label)\n",
    "                coordinates = list(map(float, parts[1:]))\n",
    "                # print(coordinates)\n",
    "\n",
    "                for coord in coordinates:\n",
    "\n",
    "                    if coord > 1:\n",
    "                        print(f\"Bounding box value {coord} in file {label_file} is greater than 1\")\n",
    "                        counter=True\n",
    "        if counter:\n",
    "            counter+=1\n",
    "    print(f\"Number of files with bounding box values greater than 1: {counter}\")                \n",
    "\n",
    "\n",
    "check_bounding_box_values(label_directory, label_files)\n"
   ]
  },
  {
   "cell_type": "markdown",
   "metadata": {},
   "source": [
    "## Find out the area of Brick Kiln"
   ]
  },
  {
   "cell_type": "code",
   "execution_count": 55,
   "metadata": {},
   "outputs": [
    {
     "name": "stdout",
     "output_type": "stream",
     "text": [
      "Number of text files: 731\n",
      "Empty DataFrame\n",
      "Columns: [id, class, height_of_box, width_of_box, bb_box, geometry]\n",
      "Index: []\n"
     ]
    }
   ],
   "source": [
    "txt_files = [f for f in os.listdir(label_directory) if f.endswith('.txt')]\n",
    "print(f\"Number of text files: {len(txt_files)}\")\n",
    "df=pd.DataFrame(columns=['id','class','height_of_box','width_of_box','bb_box','geometry'])\n",
    "print(df)"
   ]
  },
  {
   "cell_type": "code",
   "execution_count": null,
   "metadata": {},
   "outputs": [],
   "source": [
    "image_size=640\n",
    "\n"
   ]
  }
 ],
 "metadata": {
  "kernelspec": {
   "display_name": "rishabh_sat",
   "language": "python",
   "name": "python3"
  },
  "language_info": {
   "codemirror_mode": {
    "name": "ipython",
    "version": 3
   },
   "file_extension": ".py",
   "mimetype": "text/x-python",
   "name": "python",
   "nbconvert_exporter": "python",
   "pygments_lexer": "ipython3",
   "version": "3.12.4"
  }
 },
 "nbformat": 4,
 "nbformat_minor": 2
}

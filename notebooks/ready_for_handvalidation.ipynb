{
 "cells": [
  {
   "cell_type": "code",
   "execution_count": 10,
   "metadata": {},
   "outputs": [
    {
     "data": {
      "text/html": [
       "\n",
       "            <style>\n",
       "                .geemap-dark {\n",
       "                    --jp-widgets-color: white;\n",
       "                    --jp-widgets-label-color: white;\n",
       "                    --jp-ui-font-color1: white;\n",
       "                    --jp-layout-color2: #454545;\n",
       "                    background-color: #383838;\n",
       "                }\n",
       "\n",
       "                .geemap-dark .jupyter-button {\n",
       "                    --jp-layout-color3: #383838;\n",
       "                }\n",
       "\n",
       "                .geemap-colab {\n",
       "                    background-color: var(--colab-primary-surface-color, white);\n",
       "                }\n",
       "\n",
       "                .geemap-colab .jupyter-button {\n",
       "                    --jp-layout-color3: var(--colab-primary-surface-color, white);\n",
       "                }\n",
       "            </style>\n",
       "            "
      ],
      "text/plain": [
       "<IPython.core.display.HTML object>"
      ]
     },
     "metadata": {},
     "output_type": "display_data"
    }
   ],
   "source": [
    "import json\n",
    "from shapely.geometry import Point, Polygon, MultiPolygon\n",
    "import geojson\n",
    "import geopandas as gpd\n",
    "import pandas as pd\n",
    "import numpy as np\n",
    "from time import time\n",
    "import leafmap.foliumap as leafmap\n",
    "import supervision as sv\n",
    "from garuda.od import ConfusionMatrix\n",
    "from IPython.display import Markdown"
   ]
  },
  {
   "cell_type": "code",
   "execution_count": 11,
   "metadata": {},
   "outputs": [
    {
     "data": {
      "text/html": [
       "\n",
       "            <style>\n",
       "                .geemap-dark {\n",
       "                    --jp-widgets-color: white;\n",
       "                    --jp-widgets-label-color: white;\n",
       "                    --jp-ui-font-color1: white;\n",
       "                    --jp-layout-color2: #454545;\n",
       "                    background-color: #383838;\n",
       "                }\n",
       "\n",
       "                .geemap-dark .jupyter-button {\n",
       "                    --jp-layout-color3: #383838;\n",
       "                }\n",
       "\n",
       "                .geemap-colab {\n",
       "                    background-color: var(--colab-primary-surface-color, white);\n",
       "                }\n",
       "\n",
       "                .geemap-colab .jupyter-button {\n",
       "                    --jp-layout-color3: var(--colab-primary-surface-color, white);\n",
       "                }\n",
       "            </style>\n",
       "            "
      ],
      "text/plain": [
       "<IPython.core.display.HTML object>"
      ]
     },
     "metadata": {},
     "output_type": "display_data"
    },
    {
     "name": "stdout",
     "output_type": "stream",
     "text": [
      "Region: barisal\n",
      "Prediction file: ../data/predict/processed_labels/barisal/predictions_0.25.geojson\n"
     ]
    }
   ],
   "source": [
    "region = 'barisal'\n",
    "prediction_file = f\"../data/predict/processed_labels/{region}/predictions_0.25.geojson\"\n",
    "print(f\"Region: {region}\")\n",
    "print(f\"Prediction file: {prediction_file}\")"
   ]
  },
  {
   "cell_type": "code",
   "execution_count": 12,
   "metadata": {},
   "outputs": [
    {
     "data": {
      "text/html": [
       "\n",
       "            <style>\n",
       "                .geemap-dark {\n",
       "                    --jp-widgets-color: white;\n",
       "                    --jp-widgets-label-color: white;\n",
       "                    --jp-ui-font-color1: white;\n",
       "                    --jp-layout-color2: #454545;\n",
       "                    background-color: #383838;\n",
       "                }\n",
       "\n",
       "                .geemap-dark .jupyter-button {\n",
       "                    --jp-layout-color3: #383838;\n",
       "                }\n",
       "\n",
       "                .geemap-colab {\n",
       "                    background-color: var(--colab-primary-surface-color, white);\n",
       "                }\n",
       "\n",
       "                .geemap-colab .jupyter-button {\n",
       "                    --jp-layout-color3: var(--colab-primary-surface-color, white);\n",
       "                }\n",
       "            </style>\n",
       "            "
      ],
      "text/plain": [
       "<IPython.core.display.HTML object>"
      ]
     },
     "metadata": {},
     "output_type": "display_data"
    },
    {
     "name": "stdout",
     "output_type": "stream",
     "text": [
      "323\n",
      "EPSG:3857\n"
     ]
    },
    {
     "data": {
      "text/html": [
       "<div>\n",
       "<style scoped>\n",
       "    .dataframe tbody tr th:only-of-type {\n",
       "        vertical-align: middle;\n",
       "    }\n",
       "\n",
       "    .dataframe tbody tr th {\n",
       "        vertical-align: top;\n",
       "    }\n",
       "\n",
       "    .dataframe thead th {\n",
       "        text-align: right;\n",
       "    }\n",
       "</style>\n",
       "<table border=\"1\" class=\"dataframe\">\n",
       "  <thead>\n",
       "    <tr style=\"text-align: right;\">\n",
       "      <th></th>\n",
       "      <th>x</th>\n",
       "      <th>y</th>\n",
       "      <th>class_name</th>\n",
       "      <th>confidence</th>\n",
       "      <th>yolo_label</th>\n",
       "      <th>geometry</th>\n",
       "    </tr>\n",
       "  </thead>\n",
       "  <tbody>\n",
       "    <tr>\n",
       "      <th>0</th>\n",
       "      <td>10091524</td>\n",
       "      <td>2513552</td>\n",
       "      <td>Zigzag</td>\n",
       "      <td>0.435648</td>\n",
       "      <td>[2.0, 0.595682, 0.582899, 0.609916, 0.583933, ...</td>\n",
       "      <td>POLYGON ((10091817.155 2513299.387, 10091860.6...</td>\n",
       "    </tr>\n",
       "    <tr>\n",
       "      <th>1</th>\n",
       "      <td>10097028</td>\n",
       "      <td>2519056</td>\n",
       "      <td>Zigzag</td>\n",
       "      <td>0.417002</td>\n",
       "      <td>[2.0, 0.528323, 0.866776, 0.528387, 0.85128, 0...</td>\n",
       "      <td>POLYGON ((10097114.673 2517934.904, 10097114.8...</td>\n",
       "    </tr>\n",
       "    <tr>\n",
       "      <th>2</th>\n",
       "      <td>10094276</td>\n",
       "      <td>2521808</td>\n",
       "      <td>Zigzag</td>\n",
       "      <td>0.852314</td>\n",
       "      <td>[2.0, 0.405524, 0.364153, 0.409346, 0.348348, ...</td>\n",
       "      <td>POLYGON ((10093987.484 2522223.398, 10093999.1...</td>\n",
       "    </tr>\n",
       "    <tr>\n",
       "      <th>3</th>\n",
       "      <td>10094276</td>\n",
       "      <td>2521808</td>\n",
       "      <td>Zigzag</td>\n",
       "      <td>0.732990</td>\n",
       "      <td>[2.0, 0.170581, 0.166031, 0.185295, 0.168233, ...</td>\n",
       "      <td>POLYGON ((10093269.15 2522829.152, 10093314.13...</td>\n",
       "    </tr>\n",
       "    <tr>\n",
       "      <th>4</th>\n",
       "      <td>10094276</td>\n",
       "      <td>2524559</td>\n",
       "      <td>Zigzag</td>\n",
       "      <td>0.847060</td>\n",
       "      <td>[2.0, 0.823017, 0.667586, 0.823285, 0.65254, 0...</td>\n",
       "      <td>POLYGON ((10095263.961 2524047.39, 10095264.78...</td>\n",
       "    </tr>\n",
       "  </tbody>\n",
       "</table>\n",
       "</div>"
      ],
      "text/plain": [
       "          x        y class_name  confidence  \\\n",
       "0  10091524  2513552     Zigzag    0.435648   \n",
       "1  10097028  2519056     Zigzag    0.417002   \n",
       "2  10094276  2521808     Zigzag    0.852314   \n",
       "3  10094276  2521808     Zigzag    0.732990   \n",
       "4  10094276  2524559     Zigzag    0.847060   \n",
       "\n",
       "                                          yolo_label  \\\n",
       "0  [2.0, 0.595682, 0.582899, 0.609916, 0.583933, ...   \n",
       "1  [2.0, 0.528323, 0.866776, 0.528387, 0.85128, 0...   \n",
       "2  [2.0, 0.405524, 0.364153, 0.409346, 0.348348, ...   \n",
       "3  [2.0, 0.170581, 0.166031, 0.185295, 0.168233, ...   \n",
       "4  [2.0, 0.823017, 0.667586, 0.823285, 0.65254, 0...   \n",
       "\n",
       "                                            geometry  \n",
       "0  POLYGON ((10091817.155 2513299.387, 10091860.6...  \n",
       "1  POLYGON ((10097114.673 2517934.904, 10097114.8...  \n",
       "2  POLYGON ((10093987.484 2522223.398, 10093999.1...  \n",
       "3  POLYGON ((10093269.15 2522829.152, 10093314.13...  \n",
       "4  POLYGON ((10095263.961 2524047.39, 10095264.78...  "
      ]
     },
     "execution_count": 12,
     "metadata": {},
     "output_type": "execute_result"
    }
   ],
   "source": [
    "prediction_gdf = gpd.read_file(prediction_file) \n",
    "prediction_gdf['yolo_label'] = prediction_gdf['yolo_label'].apply(lambda x: np.array(list(map(float, x.split(\"_\")))))\n",
    "print(len(prediction_gdf))\n",
    "print(prediction_gdf.crs)\n",
    "prediction_gdf.head()\n",
    "\n"
   ]
  },
  {
   "cell_type": "code",
   "execution_count": 13,
   "metadata": {},
   "outputs": [
    {
     "data": {
      "text/html": [
       "\n",
       "            <style>\n",
       "                .geemap-dark {\n",
       "                    --jp-widgets-color: white;\n",
       "                    --jp-widgets-label-color: white;\n",
       "                    --jp-ui-font-color1: white;\n",
       "                    --jp-layout-color2: #454545;\n",
       "                    background-color: #383838;\n",
       "                }\n",
       "\n",
       "                .geemap-dark .jupyter-button {\n",
       "                    --jp-layout-color3: #383838;\n",
       "                }\n",
       "\n",
       "                .geemap-colab {\n",
       "                    background-color: var(--colab-primary-surface-color, white);\n",
       "                }\n",
       "\n",
       "                .geemap-colab .jupyter-button {\n",
       "                    --jp-layout-color3: var(--colab-primary-surface-color, white);\n",
       "                }\n",
       "            </style>\n",
       "            "
      ],
      "text/plain": [
       "<IPython.core.display.HTML object>"
      ]
     },
     "metadata": {},
     "output_type": "display_data"
    },
    {
     "name": "stdout",
     "output_type": "stream",
     "text": [
      "          x        y class_name  confidence  \\\n",
      "0  10091524  2513552     Zigzag    0.435648   \n",
      "1  10097028  2519056     Zigzag    0.417002   \n",
      "\n",
      "                                          yolo_label  \\\n",
      "0  [2.0, 0.595682, 0.582899, 0.609916, 0.583933, ...   \n",
      "1  [2.0, 0.528323, 0.866776, 0.528387, 0.85128, 0...   \n",
      "\n",
      "                                            geometry  \n",
      "0  POLYGON ((10091817.155 2513299.387, 10091860.6...  \n",
      "1  POLYGON ((10097114.673 2517934.904, 10097114.8...  \n"
     ]
    }
   ],
   "source": [
    "prediction_gdf.crs.to_string()\n",
    "print(prediction_gdf.head(2))"
   ]
  },
  {
   "cell_type": "code",
   "execution_count": 14,
   "metadata": {},
   "outputs": [
    {
     "data": {
      "text/html": [
       "\n",
       "            <style>\n",
       "                .geemap-dark {\n",
       "                    --jp-widgets-color: white;\n",
       "                    --jp-widgets-label-color: white;\n",
       "                    --jp-ui-font-color1: white;\n",
       "                    --jp-layout-color2: #454545;\n",
       "                    background-color: #383838;\n",
       "                }\n",
       "\n",
       "                .geemap-dark .jupyter-button {\n",
       "                    --jp-layout-color3: #383838;\n",
       "                }\n",
       "\n",
       "                .geemap-colab {\n",
       "                    background-color: var(--colab-primary-surface-color, white);\n",
       "                }\n",
       "\n",
       "                .geemap-colab .jupyter-button {\n",
       "                    --jp-layout-color3: var(--colab-primary-surface-color, white);\n",
       "                }\n",
       "            </style>\n",
       "            "
      ],
      "text/plain": [
       "<IPython.core.display.HTML object>"
      ]
     },
     "metadata": {},
     "output_type": "display_data"
    },
    {
     "name": "stdout",
     "output_type": "stream",
     "text": [
      "          x        y class_name  confidence  \\\n",
      "0  10091524  2513552     Zigzag    0.435648   \n",
      "1  10097028  2519056     Zigzag    0.417002   \n",
      "\n",
      "                                          yolo_label  \\\n",
      "0  [2.0, 0.595682, 0.582899, 0.609916, 0.583933, ...   \n",
      "1  [2.0, 0.528323, 0.866776, 0.528387, 0.85128, 0...   \n",
      "\n",
      "                                            geometry  \n",
      "0  POLYGON ((10091817.155 2513299.387, 10091860.6...  \n",
      "1  POLYGON ((10097114.673 2517934.904, 10097114.8...  \n"
     ]
    }
   ],
   "source": [
    "prediction_gdf.reset_index(inplace=True, drop=True)\n",
    "print(prediction_gdf.head(2))"
   ]
  },
  {
   "cell_type": "code",
   "execution_count": 15,
   "metadata": {},
   "outputs": [
    {
     "data": {
      "text/html": [
       "\n",
       "            <style>\n",
       "                .geemap-dark {\n",
       "                    --jp-widgets-color: white;\n",
       "                    --jp-widgets-label-color: white;\n",
       "                    --jp-ui-font-color1: white;\n",
       "                    --jp-layout-color2: #454545;\n",
       "                    background-color: #383838;\n",
       "                }\n",
       "\n",
       "                .geemap-dark .jupyter-button {\n",
       "                    --jp-layout-color3: #383838;\n",
       "                }\n",
       "\n",
       "                .geemap-colab {\n",
       "                    background-color: var(--colab-primary-surface-color, white);\n",
       "                }\n",
       "\n",
       "                .geemap-colab .jupyter-button {\n",
       "                    --jp-layout-color3: var(--colab-primary-surface-color, white);\n",
       "                }\n",
       "            </style>\n",
       "            "
      ],
      "text/plain": [
       "<IPython.core.display.HTML object>"
      ]
     },
     "metadata": {},
     "output_type": "display_data"
    },
    {
     "data": {
      "text/plain": [
       "9"
      ]
     },
     "execution_count": 15,
     "metadata": {},
     "output_type": "execute_result"
    }
   ],
   "source": [
    "intersection_gdf = gpd.sjoin(prediction_gdf, prediction_gdf, predicate=\"intersects\")[['index_right']].reset_index()\n",
    "intersection_gdf = intersection_gdf[intersection_gdf['index'] < intersection_gdf['index_right']]\n",
    "len(intersection_gdf)"
   ]
  },
  {
   "cell_type": "code",
   "execution_count": 16,
   "metadata": {},
   "outputs": [
    {
     "data": {
      "text/html": [
       "\n",
       "            <style>\n",
       "                .geemap-dark {\n",
       "                    --jp-widgets-color: white;\n",
       "                    --jp-widgets-label-color: white;\n",
       "                    --jp-ui-font-color1: white;\n",
       "                    --jp-layout-color2: #454545;\n",
       "                    background-color: #383838;\n",
       "                }\n",
       "\n",
       "                .geemap-dark .jupyter-button {\n",
       "                    --jp-layout-color3: #383838;\n",
       "                }\n",
       "\n",
       "                .geemap-colab {\n",
       "                    background-color: var(--colab-primary-surface-color, white);\n",
       "                }\n",
       "\n",
       "                .geemap-colab .jupyter-button {\n",
       "                    --jp-layout-color3: var(--colab-primary-surface-color, white);\n",
       "                }\n",
       "            </style>\n",
       "            "
      ],
      "text/plain": [
       "<IPython.core.display.HTML object>"
      ]
     },
     "metadata": {},
     "output_type": "display_data"
    },
    {
     "name": "stdout",
     "output_type": "stream",
     "text": [
      "     index  index_right       iou    left_area   right_area\n",
      "23      22           23  0.369057  3182.967379  4936.785632\n",
      "101     98          104  0.418913  3762.205891  2056.203122\n"
     ]
    }
   ],
   "source": [
    "def get_iou(row):\n",
    "    left_polygon = prediction_gdf.iloc[int(row['index'])]['geometry']\n",
    "    right_polygon = prediction_gdf.iloc[int(row['index_right'])]['geometry']\n",
    "    left_area = left_polygon.area\n",
    "    right_area = right_polygon.area\n",
    "    iou = left_polygon.intersection(right_polygon).area / left_polygon.union(right_polygon).area\n",
    "    return iou, left_area, right_area\n",
    "\n",
    "intersection_gdf[['iou', 'left_area', 'right_area']] = intersection_gdf.apply(get_iou, axis=1, result_type=\"expand\")\n",
    "intersection_gdf = intersection_gdf[intersection_gdf['iou'] > 0.33]\n",
    "len(intersection_gdf)\n",
    "print(intersection_gdf.head(2))"
   ]
  },
  {
   "cell_type": "code",
   "execution_count": 17,
   "metadata": {},
   "outputs": [
    {
     "data": {
      "text/html": [
       "\n",
       "            <style>\n",
       "                .geemap-dark {\n",
       "                    --jp-widgets-color: white;\n",
       "                    --jp-widgets-label-color: white;\n",
       "                    --jp-ui-font-color1: white;\n",
       "                    --jp-layout-color2: #454545;\n",
       "                    background-color: #383838;\n",
       "                }\n",
       "\n",
       "                .geemap-dark .jupyter-button {\n",
       "                    --jp-layout-color3: #383838;\n",
       "                }\n",
       "\n",
       "                .geemap-colab {\n",
       "                    background-color: var(--colab-primary-surface-color, white);\n",
       "                }\n",
       "\n",
       "                .geemap-colab .jupyter-button {\n",
       "                    --jp-layout-color3: var(--colab-primary-surface-color, white);\n",
       "                }\n",
       "            </style>\n",
       "            "
      ],
      "text/plain": [
       "<IPython.core.display.HTML object>"
      ]
     },
     "metadata": {},
     "output_type": "display_data"
    },
    {
     "name": "stdout",
     "output_type": "stream",
     "text": [
      "323\n",
      "317\n"
     ]
    },
    {
     "data": {
      "text/html": [
       "<div>\n",
       "<style scoped>\n",
       "    .dataframe tbody tr th:only-of-type {\n",
       "        vertical-align: middle;\n",
       "    }\n",
       "\n",
       "    .dataframe tbody tr th {\n",
       "        vertical-align: top;\n",
       "    }\n",
       "\n",
       "    .dataframe thead th {\n",
       "        text-align: right;\n",
       "    }\n",
       "</style>\n",
       "<table border=\"1\" class=\"dataframe\">\n",
       "  <thead>\n",
       "    <tr style=\"text-align: right;\">\n",
       "      <th></th>\n",
       "      <th>x</th>\n",
       "      <th>y</th>\n",
       "      <th>class_name</th>\n",
       "      <th>confidence</th>\n",
       "      <th>yolo_label</th>\n",
       "      <th>geometry</th>\n",
       "    </tr>\n",
       "  </thead>\n",
       "  <tbody>\n",
       "    <tr>\n",
       "      <th>0</th>\n",
       "      <td>10091524</td>\n",
       "      <td>2513552</td>\n",
       "      <td>Zigzag</td>\n",
       "      <td>0.435648</td>\n",
       "      <td>[2.0, 0.595682, 0.582899, 0.609916, 0.583933, ...</td>\n",
       "      <td>POLYGON ((10091817.155 2513299.387, 10091860.6...</td>\n",
       "    </tr>\n",
       "    <tr>\n",
       "      <th>1</th>\n",
       "      <td>10097028</td>\n",
       "      <td>2519056</td>\n",
       "      <td>Zigzag</td>\n",
       "      <td>0.417002</td>\n",
       "      <td>[2.0, 0.528323, 0.866776, 0.528387, 0.85128, 0...</td>\n",
       "      <td>POLYGON ((10097114.673 2517934.904, 10097114.8...</td>\n",
       "    </tr>\n",
       "  </tbody>\n",
       "</table>\n",
       "</div>"
      ],
      "text/plain": [
       "          x        y class_name  confidence  \\\n",
       "0  10091524  2513552     Zigzag    0.435648   \n",
       "1  10097028  2519056     Zigzag    0.417002   \n",
       "\n",
       "                                          yolo_label  \\\n",
       "0  [2.0, 0.595682, 0.582899, 0.609916, 0.583933, ...   \n",
       "1  [2.0, 0.528323, 0.866776, 0.528387, 0.85128, 0...   \n",
       "\n",
       "                                            geometry  \n",
       "0  POLYGON ((10091817.155 2513299.387, 10091860.6...  \n",
       "1  POLYGON ((10097114.673 2517934.904, 10097114.8...  "
      ]
     },
     "metadata": {},
     "output_type": "display_data"
    }
   ],
   "source": [
    "drop_idx = intersection_gdf.apply(lambda x: x['index'] if x['left_area'] < x['right_area'] else x['index_right'], axis=1).astype(int).values\n",
    "print(len(prediction_gdf))\n",
    "prediction_gdf.drop(drop_idx, inplace=True)\n",
    "print(len(prediction_gdf))\n",
    "display(prediction_gdf.head(2))"
   ]
  },
  {
   "cell_type": "code",
   "execution_count": 18,
   "metadata": {},
   "outputs": [
    {
     "data": {
      "text/html": [
       "\n",
       "            <style>\n",
       "                .geemap-dark {\n",
       "                    --jp-widgets-color: white;\n",
       "                    --jp-widgets-label-color: white;\n",
       "                    --jp-ui-font-color1: white;\n",
       "                    --jp-layout-color2: #454545;\n",
       "                    background-color: #383838;\n",
       "                }\n",
       "\n",
       "                .geemap-dark .jupyter-button {\n",
       "                    --jp-layout-color3: #383838;\n",
       "                }\n",
       "\n",
       "                .geemap-colab {\n",
       "                    background-color: var(--colab-primary-surface-color, white);\n",
       "                }\n",
       "\n",
       "                .geemap-colab .jupyter-button {\n",
       "                    --jp-layout-color3: var(--colab-primary-surface-color, white);\n",
       "                }\n",
       "            </style>\n",
       "            "
      ],
      "text/plain": [
       "<IPython.core.display.HTML object>"
      ]
     },
     "metadata": {},
     "output_type": "display_data"
    },
    {
     "data": {
      "text/html": [
       "<div>\n",
       "<style scoped>\n",
       "    .dataframe tbody tr th:only-of-type {\n",
       "        vertical-align: middle;\n",
       "    }\n",
       "\n",
       "    .dataframe tbody tr th {\n",
       "        vertical-align: top;\n",
       "    }\n",
       "\n",
       "    .dataframe thead th {\n",
       "        text-align: right;\n",
       "    }\n",
       "</style>\n",
       "<table border=\"1\" class=\"dataframe\">\n",
       "  <thead>\n",
       "    <tr style=\"text-align: right;\">\n",
       "      <th></th>\n",
       "      <th>x</th>\n",
       "      <th>y</th>\n",
       "      <th>class_name</th>\n",
       "      <th>confidence</th>\n",
       "      <th>yolo_label</th>\n",
       "      <th>geometry</th>\n",
       "    </tr>\n",
       "  </thead>\n",
       "  <tbody>\n",
       "    <tr>\n",
       "      <th>0</th>\n",
       "      <td>10091524</td>\n",
       "      <td>2513552</td>\n",
       "      <td>Zigzag</td>\n",
       "      <td>0.435648</td>\n",
       "      <td>[2.0, 0.595682, 0.582899, 0.609916, 0.583933, ...</td>\n",
       "      <td>POLYGON ((90.65634 22.01478, 90.65673 22.01475...</td>\n",
       "    </tr>\n",
       "    <tr>\n",
       "      <th>1</th>\n",
       "      <td>10097028</td>\n",
       "      <td>2519056</td>\n",
       "      <td>Zigzag</td>\n",
       "      <td>0.417002</td>\n",
       "      <td>[2.0, 0.528323, 0.866776, 0.528387, 0.85128, 0...</td>\n",
       "      <td>POLYGON ((90.70392 22.05338, 90.70393 22.05377...</td>\n",
       "    </tr>\n",
       "  </tbody>\n",
       "</table>\n",
       "</div>"
      ],
      "text/plain": [
       "          x        y class_name  confidence  \\\n",
       "0  10091524  2513552     Zigzag    0.435648   \n",
       "1  10097028  2519056     Zigzag    0.417002   \n",
       "\n",
       "                                          yolo_label  \\\n",
       "0  [2.0, 0.595682, 0.582899, 0.609916, 0.583933, ...   \n",
       "1  [2.0, 0.528323, 0.866776, 0.528387, 0.85128, 0...   \n",
       "\n",
       "                                            geometry  \n",
       "0  POLYGON ((90.65634 22.01478, 90.65673 22.01475...  \n",
       "1  POLYGON ((90.70392 22.05338, 90.70393 22.05377...  "
      ]
     },
     "metadata": {},
     "output_type": "display_data"
    }
   ],
   "source": [
    "final_kilns=prediction_gdf.to_crs(epsg=4326)\n",
    "display(final_kilns.head(2))"
   ]
  },
  {
   "cell_type": "code",
   "execution_count": 19,
   "metadata": {},
   "outputs": [
    {
     "data": {
      "text/html": [
       "\n",
       "            <style>\n",
       "                .geemap-dark {\n",
       "                    --jp-widgets-color: white;\n",
       "                    --jp-widgets-label-color: white;\n",
       "                    --jp-ui-font-color1: white;\n",
       "                    --jp-layout-color2: #454545;\n",
       "                    background-color: #383838;\n",
       "                }\n",
       "\n",
       "                .geemap-dark .jupyter-button {\n",
       "                    --jp-layout-color3: #383838;\n",
       "                }\n",
       "\n",
       "                .geemap-colab {\n",
       "                    background-color: var(--colab-primary-surface-color, white);\n",
       "                }\n",
       "\n",
       "                .geemap-colab .jupyter-button {\n",
       "                    --jp-layout-color3: var(--colab-primary-surface-color, white);\n",
       "                }\n",
       "            </style>\n",
       "            "
      ],
      "text/plain": [
       "<IPython.core.display.HTML object>"
      ]
     },
     "metadata": {},
     "output_type": "display_data"
    }
   ],
   "source": [
    "import os\n",
    "save_handvalidation_dir = f\"../hand_validation/{region}\"\n",
    "os.makedirs(save_handvalidation_dir, exist_ok=True)"
   ]
  },
  {
   "cell_type": "code",
   "execution_count": 20,
   "metadata": {},
   "outputs": [
    {
     "data": {
      "text/html": [
       "\n",
       "            <style>\n",
       "                .geemap-dark {\n",
       "                    --jp-widgets-color: white;\n",
       "                    --jp-widgets-label-color: white;\n",
       "                    --jp-ui-font-color1: white;\n",
       "                    --jp-layout-color2: #454545;\n",
       "                    background-color: #383838;\n",
       "                }\n",
       "\n",
       "                .geemap-dark .jupyter-button {\n",
       "                    --jp-layout-color3: #383838;\n",
       "                }\n",
       "\n",
       "                .geemap-colab {\n",
       "                    background-color: var(--colab-primary-surface-color, white);\n",
       "                }\n",
       "\n",
       "                .geemap-colab .jupyter-button {\n",
       "                    --jp-layout-color3: var(--colab-primary-surface-color, white);\n",
       "                }\n",
       "            </style>\n",
       "            "
      ],
      "text/plain": [
       "<IPython.core.display.HTML object>"
      ]
     },
     "metadata": {},
     "output_type": "display_data"
    },
    {
     "name": "stderr",
     "output_type": "stream",
     "text": [
      "GARUDA INFO     : Created 317 records\n"
     ]
    }
   ],
   "source": [
    "version = \"v1\"  \n",
    "batch_size = 500\n",
    "for i in range(0, len(final_kilns), batch_size):\n",
    "    end = min(i+batch_size, len(final_kilns))\n",
    "    final_kilns.iloc[i:i+batch_size].to_file(f\"../hand_validation/{region}/{version}_potential_kiln_{i}_{end-1}.geojson\", driver='GeoJSON')"
   ]
  },
  {
   "cell_type": "code",
   "execution_count": null,
   "metadata": {},
   "outputs": [],
   "source": []
  }
 ],
 "metadata": {
  "kernelspec": {
   "display_name": "rishabh_sat",
   "language": "python",
   "name": "python3"
  },
  "language_info": {
   "codemirror_mode": {
    "name": "ipython",
    "version": 3
   },
   "file_extension": ".py",
   "mimetype": "text/x-python",
   "name": "python",
   "nbconvert_exporter": "python",
   "pygments_lexer": "ipython3",
   "version": "3.12.4"
  }
 },
 "nbformat": 4,
 "nbformat_minor": 2
}

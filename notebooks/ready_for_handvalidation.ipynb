{
 "cells": [
  {
   "cell_type": "code",
   "execution_count": 1,
   "metadata": {},
   "outputs": [],
   "source": [
    "import json\n",
    "from shapely.geometry import Point, Polygon, MultiPolygon\n",
    "import geojson\n",
    "import geopandas as gpd\n",
    "import pandas as pd\n",
    "import numpy as np\n",
    "from time import time\n",
    "import leafmap.foliumap as leafmap\n",
    "import supervision as sv\n",
    "from garuda.od import ConfusionMatrix\n",
    "from IPython.display import Markdown"
   ]
  },
  {
   "cell_type": "code",
   "execution_count": 2,
   "metadata": {},
   "outputs": [
    {
     "data": {
      "text/html": [
       "\n",
       "            <style>\n",
       "                .geemap-dark {\n",
       "                    --jp-widgets-color: white;\n",
       "                    --jp-widgets-label-color: white;\n",
       "                    --jp-ui-font-color1: white;\n",
       "                    --jp-layout-color2: #454545;\n",
       "                    background-color: #383838;\n",
       "                }\n",
       "\n",
       "                .geemap-dark .jupyter-button {\n",
       "                    --jp-layout-color3: #383838;\n",
       "                }\n",
       "\n",
       "                .geemap-colab {\n",
       "                    background-color: var(--colab-primary-surface-color, white);\n",
       "                }\n",
       "\n",
       "                .geemap-colab .jupyter-button {\n",
       "                    --jp-layout-color3: var(--colab-primary-surface-color, white);\n",
       "                }\n",
       "            </style>\n",
       "            "
      ],
      "text/plain": [
       "<IPython.core.display.HTML object>"
      ]
     },
     "metadata": {},
     "output_type": "display_data"
    },
    {
     "name": "stdout",
     "output_type": "stream",
     "text": [
      "Region: mymensingh\n",
      "Prediction file: ../data/predict/processed_labels/mymensingh/predictions_0.25.geojson\n"
     ]
    }
   ],
   "source": [
    "region = 'mymensingh'\n",
    "prediction_file = f\"../data/predict/processed_labels/{region}/predictions_0.25.geojson\"\n",
    "print(f\"Region: {region}\")\n",
    "print(f\"Prediction file: {prediction_file}\")"
   ]
  },
  {
   "cell_type": "code",
   "execution_count": 3,
   "metadata": {},
   "outputs": [
    {
     "data": {
      "text/html": [
       "\n",
       "            <style>\n",
       "                .geemap-dark {\n",
       "                    --jp-widgets-color: white;\n",
       "                    --jp-widgets-label-color: white;\n",
       "                    --jp-ui-font-color1: white;\n",
       "                    --jp-layout-color2: #454545;\n",
       "                    background-color: #383838;\n",
       "                }\n",
       "\n",
       "                .geemap-dark .jupyter-button {\n",
       "                    --jp-layout-color3: #383838;\n",
       "                }\n",
       "\n",
       "                .geemap-colab {\n",
       "                    background-color: var(--colab-primary-surface-color, white);\n",
       "                }\n",
       "\n",
       "                .geemap-colab .jupyter-button {\n",
       "                    --jp-layout-color3: var(--colab-primary-surface-color, white);\n",
       "                }\n",
       "            </style>\n",
       "            "
      ],
      "text/plain": [
       "<IPython.core.display.HTML object>"
      ]
     },
     "metadata": {},
     "output_type": "display_data"
    },
    {
     "name": "stdout",
     "output_type": "stream",
     "text": [
      "487\n",
      "EPSG:3857\n"
     ]
    },
    {
     "data": {
      "text/html": [
       "<div>\n",
       "<style scoped>\n",
       "    .dataframe tbody tr th:only-of-type {\n",
       "        vertical-align: middle;\n",
       "    }\n",
       "\n",
       "    .dataframe tbody tr th {\n",
       "        vertical-align: top;\n",
       "    }\n",
       "\n",
       "    .dataframe thead th {\n",
       "        text-align: right;\n",
       "    }\n",
       "</style>\n",
       "<table border=\"1\" class=\"dataframe\">\n",
       "  <thead>\n",
       "    <tr style=\"text-align: right;\">\n",
       "      <th></th>\n",
       "      <th>x</th>\n",
       "      <th>y</th>\n",
       "      <th>class_name</th>\n",
       "      <th>confidence</th>\n",
       "      <th>yolo_label</th>\n",
       "      <th>geometry</th>\n",
       "    </tr>\n",
       "  </thead>\n",
       "  <tbody>\n",
       "    <tr>\n",
       "      <th>0</th>\n",
       "      <td>10088467</td>\n",
       "      <td>2801567</td>\n",
       "      <td>Zigzag</td>\n",
       "      <td>0.925639</td>\n",
       "      <td>[2.0, 0.0391915, 0.397093, 0.0543998, 0.397934...</td>\n",
       "      <td>POLYGON ((10087058.215 2801882.208, 10087104.7...</td>\n",
       "    </tr>\n",
       "    <tr>\n",
       "      <th>1</th>\n",
       "      <td>10088467</td>\n",
       "      <td>2801567</td>\n",
       "      <td>Zigzag</td>\n",
       "      <td>0.251513</td>\n",
       "      <td>[2.0, 0.650263, 0.682439, 0.66422, 0.685413, 0...</td>\n",
       "      <td>POLYGON ((10088926.555 2801009.768, 10088969.2...</td>\n",
       "    </tr>\n",
       "    <tr>\n",
       "      <th>2</th>\n",
       "      <td>10085715</td>\n",
       "      <td>2801567</td>\n",
       "      <td>Zigzag</td>\n",
       "      <td>0.831930</td>\n",
       "      <td>[2.0, 0.635295, 0.234922, 0.649381, 0.232, 0.6...</td>\n",
       "      <td>POLYGON ((10086129.057 2802378.043, 10086172.1...</td>\n",
       "    </tr>\n",
       "    <tr>\n",
       "      <th>3</th>\n",
       "      <td>10060949</td>\n",
       "      <td>2807071</td>\n",
       "      <td>FCBK</td>\n",
       "      <td>0.833495</td>\n",
       "      <td>[1.0, 0.387054, 0.794124, 0.396085, 0.807781, ...</td>\n",
       "      <td>POLYGON ((10060604.468 2806171.759, 10060632.0...</td>\n",
       "    </tr>\n",
       "    <tr>\n",
       "      <th>4</th>\n",
       "      <td>10063701</td>\n",
       "      <td>2807071</td>\n",
       "      <td>FCBK</td>\n",
       "      <td>0.454159</td>\n",
       "      <td>[1.0, 0.36286, 0.18721, 0.369384, 0.175264, 0....</td>\n",
       "      <td>POLYGON ((10063282.228 2808027.387, 10063302.1...</td>\n",
       "    </tr>\n",
       "  </tbody>\n",
       "</table>\n",
       "</div>"
      ],
      "text/plain": [
       "          x        y class_name  confidence  \\\n",
       "0  10088467  2801567     Zigzag    0.925639   \n",
       "1  10088467  2801567     Zigzag    0.251513   \n",
       "2  10085715  2801567     Zigzag    0.831930   \n",
       "3  10060949  2807071       FCBK    0.833495   \n",
       "4  10063701  2807071       FCBK    0.454159   \n",
       "\n",
       "                                          yolo_label  \\\n",
       "0  [2.0, 0.0391915, 0.397093, 0.0543998, 0.397934...   \n",
       "1  [2.0, 0.650263, 0.682439, 0.66422, 0.685413, 0...   \n",
       "2  [2.0, 0.635295, 0.234922, 0.649381, 0.232, 0.6...   \n",
       "3  [1.0, 0.387054, 0.794124, 0.396085, 0.807781, ...   \n",
       "4  [1.0, 0.36286, 0.18721, 0.369384, 0.175264, 0....   \n",
       "\n",
       "                                            geometry  \n",
       "0  POLYGON ((10087058.215 2801882.208, 10087104.7...  \n",
       "1  POLYGON ((10088926.555 2801009.768, 10088969.2...  \n",
       "2  POLYGON ((10086129.057 2802378.043, 10086172.1...  \n",
       "3  POLYGON ((10060604.468 2806171.759, 10060632.0...  \n",
       "4  POLYGON ((10063282.228 2808027.387, 10063302.1...  "
      ]
     },
     "execution_count": 3,
     "metadata": {},
     "output_type": "execute_result"
    }
   ],
   "source": [
    "prediction_gdf = gpd.read_file(prediction_file) \n",
    "prediction_gdf['yolo_label'] = prediction_gdf['yolo_label'].apply(lambda x: np.array(list(map(float, x.split(\"_\")))))\n",
    "print(len(prediction_gdf))\n",
    "print(prediction_gdf.crs)\n",
    "prediction_gdf.head()\n",
    "\n"
   ]
  },
  {
   "cell_type": "code",
   "execution_count": 4,
   "metadata": {},
   "outputs": [
    {
     "data": {
      "text/html": [
       "\n",
       "            <style>\n",
       "                .geemap-dark {\n",
       "                    --jp-widgets-color: white;\n",
       "                    --jp-widgets-label-color: white;\n",
       "                    --jp-ui-font-color1: white;\n",
       "                    --jp-layout-color2: #454545;\n",
       "                    background-color: #383838;\n",
       "                }\n",
       "\n",
       "                .geemap-dark .jupyter-button {\n",
       "                    --jp-layout-color3: #383838;\n",
       "                }\n",
       "\n",
       "                .geemap-colab {\n",
       "                    background-color: var(--colab-primary-surface-color, white);\n",
       "                }\n",
       "\n",
       "                .geemap-colab .jupyter-button {\n",
       "                    --jp-layout-color3: var(--colab-primary-surface-color, white);\n",
       "                }\n",
       "            </style>\n",
       "            "
      ],
      "text/plain": [
       "<IPython.core.display.HTML object>"
      ]
     },
     "metadata": {},
     "output_type": "display_data"
    },
    {
     "name": "stdout",
     "output_type": "stream",
     "text": [
      "           x        y class_name  confidence  \\\n",
      "485  9997659  2914388     Zigzag    0.534323   \n",
      "486  9992156  2917140     Zigzag    0.389579   \n",
      "\n",
      "                                            yolo_label  \\\n",
      "485  [2.0, 0.660672, 0.582588, 0.665293, 0.570155, ...   \n",
      "486  [2.0, 0.856602, 0.569892, 0.862631, 0.55725, 0...   \n",
      "\n",
      "                                              geometry  \n",
      "485  POLYGON ((9998151.19 2914136.114, 9998165.319 ...  \n",
      "486  POLYGON ((9993246.777 2916926.665, 9993265.21 ...  \n"
     ]
    }
   ],
   "source": [
    "prediction_gdf.crs.to_string()\n",
    "print(prediction_gdf.tail(2))"
   ]
  },
  {
   "cell_type": "code",
   "execution_count": 5,
   "metadata": {},
   "outputs": [
    {
     "data": {
      "text/html": [
       "\n",
       "            <style>\n",
       "                .geemap-dark {\n",
       "                    --jp-widgets-color: white;\n",
       "                    --jp-widgets-label-color: white;\n",
       "                    --jp-ui-font-color1: white;\n",
       "                    --jp-layout-color2: #454545;\n",
       "                    background-color: #383838;\n",
       "                }\n",
       "\n",
       "                .geemap-dark .jupyter-button {\n",
       "                    --jp-layout-color3: #383838;\n",
       "                }\n",
       "\n",
       "                .geemap-colab {\n",
       "                    background-color: var(--colab-primary-surface-color, white);\n",
       "                }\n",
       "\n",
       "                .geemap-colab .jupyter-button {\n",
       "                    --jp-layout-color3: var(--colab-primary-surface-color, white);\n",
       "                }\n",
       "            </style>\n",
       "            "
      ],
      "text/plain": [
       "<IPython.core.display.HTML object>"
      ]
     },
     "metadata": {},
     "output_type": "display_data"
    },
    {
     "name": "stdout",
     "output_type": "stream",
     "text": [
      "          x        y class_name  confidence  \\\n",
      "0  10088467  2801567     Zigzag    0.925639   \n",
      "1  10088467  2801567     Zigzag    0.251513   \n",
      "\n",
      "                                          yolo_label  \\\n",
      "0  [2.0, 0.0391915, 0.397093, 0.0543998, 0.397934...   \n",
      "1  [2.0, 0.650263, 0.682439, 0.66422, 0.685413, 0...   \n",
      "\n",
      "                                            geometry  \n",
      "0  POLYGON ((10087058.215 2801882.208, 10087104.7...  \n",
      "1  POLYGON ((10088926.555 2801009.768, 10088969.2...  \n"
     ]
    }
   ],
   "source": [
    "prediction_gdf.reset_index(inplace=True, drop=True)\n",
    "print(prediction_gdf.head(2))"
   ]
  },
  {
   "cell_type": "code",
   "execution_count": 6,
   "metadata": {},
   "outputs": [
    {
     "data": {
      "text/html": [
       "\n",
       "            <style>\n",
       "                .geemap-dark {\n",
       "                    --jp-widgets-color: white;\n",
       "                    --jp-widgets-label-color: white;\n",
       "                    --jp-ui-font-color1: white;\n",
       "                    --jp-layout-color2: #454545;\n",
       "                    background-color: #383838;\n",
       "                }\n",
       "\n",
       "                .geemap-dark .jupyter-button {\n",
       "                    --jp-layout-color3: #383838;\n",
       "                }\n",
       "\n",
       "                .geemap-colab {\n",
       "                    background-color: var(--colab-primary-surface-color, white);\n",
       "                }\n",
       "\n",
       "                .geemap-colab .jupyter-button {\n",
       "                    --jp-layout-color3: var(--colab-primary-surface-color, white);\n",
       "                }\n",
       "            </style>\n",
       "            "
      ],
      "text/plain": [
       "<IPython.core.display.HTML object>"
      ]
     },
     "metadata": {},
     "output_type": "display_data"
    },
    {
     "data": {
      "text/plain": [
       "11"
      ]
     },
     "execution_count": 6,
     "metadata": {},
     "output_type": "execute_result"
    }
   ],
   "source": [
    "intersection_gdf = gpd.sjoin(prediction_gdf, prediction_gdf, predicate=\"intersects\")[['index_right']].reset_index()\n",
    "intersection_gdf = intersection_gdf[intersection_gdf['index'] < intersection_gdf['index_right']]\n",
    "len(intersection_gdf)"
   ]
  },
  {
   "cell_type": "code",
   "execution_count": 7,
   "metadata": {},
   "outputs": [
    {
     "data": {
      "text/html": [
       "\n",
       "            <style>\n",
       "                .geemap-dark {\n",
       "                    --jp-widgets-color: white;\n",
       "                    --jp-widgets-label-color: white;\n",
       "                    --jp-ui-font-color1: white;\n",
       "                    --jp-layout-color2: #454545;\n",
       "                    background-color: #383838;\n",
       "                }\n",
       "\n",
       "                .geemap-dark .jupyter-button {\n",
       "                    --jp-layout-color3: #383838;\n",
       "                }\n",
       "\n",
       "                .geemap-colab {\n",
       "                    background-color: var(--colab-primary-surface-color, white);\n",
       "                }\n",
       "\n",
       "                .geemap-colab .jupyter-button {\n",
       "                    --jp-layout-color3: var(--colab-primary-surface-color, white);\n",
       "                }\n",
       "            </style>\n",
       "            "
      ],
      "text/plain": [
       "<IPython.core.display.HTML object>"
      ]
     },
     "metadata": {},
     "output_type": "display_data"
    },
    {
     "name": "stdout",
     "output_type": "stream",
     "text": [
      "     index  index_right       iou    left_area   right_area\n",
      "14      13           16  0.433693  1867.706764  3723.502401\n",
      "192    187          189  0.486734  1898.170926  3699.748924\n"
     ]
    }
   ],
   "source": [
    "def get_iou(row):\n",
    "    left_polygon = prediction_gdf.iloc[int(row['index'])]['geometry']\n",
    "    right_polygon = prediction_gdf.iloc[int(row['index_right'])]['geometry']\n",
    "    left_area = left_polygon.area\n",
    "    right_area = right_polygon.area\n",
    "    iou = left_polygon.intersection(right_polygon).area / left_polygon.union(right_polygon).area\n",
    "    return iou, left_area, right_area\n",
    "\n",
    "intersection_gdf[['iou', 'left_area', 'right_area']] = intersection_gdf.apply(get_iou, axis=1, result_type=\"expand\")\n",
    "intersection_gdf = intersection_gdf[intersection_gdf['iou'] > 0.33]\n",
    "len(intersection_gdf)\n",
    "print(intersection_gdf.head(2))"
   ]
  },
  {
   "cell_type": "code",
   "execution_count": 8,
   "metadata": {},
   "outputs": [
    {
     "data": {
      "text/html": [
       "\n",
       "            <style>\n",
       "                .geemap-dark {\n",
       "                    --jp-widgets-color: white;\n",
       "                    --jp-widgets-label-color: white;\n",
       "                    --jp-ui-font-color1: white;\n",
       "                    --jp-layout-color2: #454545;\n",
       "                    background-color: #383838;\n",
       "                }\n",
       "\n",
       "                .geemap-dark .jupyter-button {\n",
       "                    --jp-layout-color3: #383838;\n",
       "                }\n",
       "\n",
       "                .geemap-colab {\n",
       "                    background-color: var(--colab-primary-surface-color, white);\n",
       "                }\n",
       "\n",
       "                .geemap-colab .jupyter-button {\n",
       "                    --jp-layout-color3: var(--colab-primary-surface-color, white);\n",
       "                }\n",
       "            </style>\n",
       "            "
      ],
      "text/plain": [
       "<IPython.core.display.HTML object>"
      ]
     },
     "metadata": {},
     "output_type": "display_data"
    },
    {
     "name": "stdout",
     "output_type": "stream",
     "text": [
      "487\n",
      "480\n"
     ]
    },
    {
     "data": {
      "text/html": [
       "<div>\n",
       "<style scoped>\n",
       "    .dataframe tbody tr th:only-of-type {\n",
       "        vertical-align: middle;\n",
       "    }\n",
       "\n",
       "    .dataframe tbody tr th {\n",
       "        vertical-align: top;\n",
       "    }\n",
       "\n",
       "    .dataframe thead th {\n",
       "        text-align: right;\n",
       "    }\n",
       "</style>\n",
       "<table border=\"1\" class=\"dataframe\">\n",
       "  <thead>\n",
       "    <tr style=\"text-align: right;\">\n",
       "      <th></th>\n",
       "      <th>x</th>\n",
       "      <th>y</th>\n",
       "      <th>class_name</th>\n",
       "      <th>confidence</th>\n",
       "      <th>yolo_label</th>\n",
       "      <th>geometry</th>\n",
       "    </tr>\n",
       "  </thead>\n",
       "  <tbody>\n",
       "    <tr>\n",
       "      <th>0</th>\n",
       "      <td>10088467</td>\n",
       "      <td>2801567</td>\n",
       "      <td>Zigzag</td>\n",
       "      <td>0.925639</td>\n",
       "      <td>[2.0, 0.0391915, 0.397093, 0.0543998, 0.397934...</td>\n",
       "      <td>POLYGON ((10087058.215 2801882.208, 10087104.7...</td>\n",
       "    </tr>\n",
       "    <tr>\n",
       "      <th>1</th>\n",
       "      <td>10088467</td>\n",
       "      <td>2801567</td>\n",
       "      <td>Zigzag</td>\n",
       "      <td>0.251513</td>\n",
       "      <td>[2.0, 0.650263, 0.682439, 0.66422, 0.685413, 0...</td>\n",
       "      <td>POLYGON ((10088926.555 2801009.768, 10088969.2...</td>\n",
       "    </tr>\n",
       "  </tbody>\n",
       "</table>\n",
       "</div>"
      ],
      "text/plain": [
       "          x        y class_name  confidence  \\\n",
       "0  10088467  2801567     Zigzag    0.925639   \n",
       "1  10088467  2801567     Zigzag    0.251513   \n",
       "\n",
       "                                          yolo_label  \\\n",
       "0  [2.0, 0.0391915, 0.397093, 0.0543998, 0.397934...   \n",
       "1  [2.0, 0.650263, 0.682439, 0.66422, 0.685413, 0...   \n",
       "\n",
       "                                            geometry  \n",
       "0  POLYGON ((10087058.215 2801882.208, 10087104.7...  \n",
       "1  POLYGON ((10088926.555 2801009.768, 10088969.2...  "
      ]
     },
     "metadata": {},
     "output_type": "display_data"
    }
   ],
   "source": [
    "drop_idx = intersection_gdf.apply(lambda x: x['index'] if x['left_area'] < x['right_area'] else x['index_right'], axis=1).astype(int).values\n",
    "print(len(prediction_gdf))\n",
    "prediction_gdf.drop(drop_idx, inplace=True)\n",
    "print(len(prediction_gdf))\n",
    "display(prediction_gdf.head(2))"
   ]
  },
  {
   "cell_type": "code",
   "execution_count": 9,
   "metadata": {},
   "outputs": [
    {
     "data": {
      "text/html": [
       "\n",
       "            <style>\n",
       "                .geemap-dark {\n",
       "                    --jp-widgets-color: white;\n",
       "                    --jp-widgets-label-color: white;\n",
       "                    --jp-ui-font-color1: white;\n",
       "                    --jp-layout-color2: #454545;\n",
       "                    background-color: #383838;\n",
       "                }\n",
       "\n",
       "                .geemap-dark .jupyter-button {\n",
       "                    --jp-layout-color3: #383838;\n",
       "                }\n",
       "\n",
       "                .geemap-colab {\n",
       "                    background-color: var(--colab-primary-surface-color, white);\n",
       "                }\n",
       "\n",
       "                .geemap-colab .jupyter-button {\n",
       "                    --jp-layout-color3: var(--colab-primary-surface-color, white);\n",
       "                }\n",
       "            </style>\n",
       "            "
      ],
      "text/plain": [
       "<IPython.core.display.HTML object>"
      ]
     },
     "metadata": {},
     "output_type": "display_data"
    },
    {
     "data": {
      "text/html": [
       "<div>\n",
       "<style scoped>\n",
       "    .dataframe tbody tr th:only-of-type {\n",
       "        vertical-align: middle;\n",
       "    }\n",
       "\n",
       "    .dataframe tbody tr th {\n",
       "        vertical-align: top;\n",
       "    }\n",
       "\n",
       "    .dataframe thead th {\n",
       "        text-align: right;\n",
       "    }\n",
       "</style>\n",
       "<table border=\"1\" class=\"dataframe\">\n",
       "  <thead>\n",
       "    <tr style=\"text-align: right;\">\n",
       "      <th></th>\n",
       "      <th>x</th>\n",
       "      <th>y</th>\n",
       "      <th>class_name</th>\n",
       "      <th>confidence</th>\n",
       "      <th>yolo_label</th>\n",
       "      <th>geometry</th>\n",
       "    </tr>\n",
       "  </thead>\n",
       "  <tbody>\n",
       "    <tr>\n",
       "      <th>0</th>\n",
       "      <td>10088467</td>\n",
       "      <td>2801567</td>\n",
       "      <td>Zigzag</td>\n",
       "      <td>0.925639</td>\n",
       "      <td>[2.0, 0.0391915, 0.397093, 0.0543998, 0.397934...</td>\n",
       "      <td>POLYGON ((90.61359 24.39719, 90.614 24.39717, ...</td>\n",
       "    </tr>\n",
       "    <tr>\n",
       "      <th>1</th>\n",
       "      <td>10088467</td>\n",
       "      <td>2801567</td>\n",
       "      <td>Zigzag</td>\n",
       "      <td>0.251513</td>\n",
       "      <td>[2.0, 0.650263, 0.682439, 0.66422, 0.685413, 0...</td>\n",
       "      <td>POLYGON ((90.63037 24.39005, 90.63075 24.38997...</td>\n",
       "    </tr>\n",
       "  </tbody>\n",
       "</table>\n",
       "</div>"
      ],
      "text/plain": [
       "          x        y class_name  confidence  \\\n",
       "0  10088467  2801567     Zigzag    0.925639   \n",
       "1  10088467  2801567     Zigzag    0.251513   \n",
       "\n",
       "                                          yolo_label  \\\n",
       "0  [2.0, 0.0391915, 0.397093, 0.0543998, 0.397934...   \n",
       "1  [2.0, 0.650263, 0.682439, 0.66422, 0.685413, 0...   \n",
       "\n",
       "                                            geometry  \n",
       "0  POLYGON ((90.61359 24.39719, 90.614 24.39717, ...  \n",
       "1  POLYGON ((90.63037 24.39005, 90.63075 24.38997...  "
      ]
     },
     "metadata": {},
     "output_type": "display_data"
    }
   ],
   "source": [
    "final_kilns=prediction_gdf.to_crs(epsg=4326)\n",
    "display(final_kilns.head(2))"
   ]
  },
  {
   "cell_type": "code",
   "execution_count": 10,
   "metadata": {},
   "outputs": [
    {
     "data": {
      "text/html": [
       "\n",
       "            <style>\n",
       "                .geemap-dark {\n",
       "                    --jp-widgets-color: white;\n",
       "                    --jp-widgets-label-color: white;\n",
       "                    --jp-ui-font-color1: white;\n",
       "                    --jp-layout-color2: #454545;\n",
       "                    background-color: #383838;\n",
       "                }\n",
       "\n",
       "                .geemap-dark .jupyter-button {\n",
       "                    --jp-layout-color3: #383838;\n",
       "                }\n",
       "\n",
       "                .geemap-colab {\n",
       "                    background-color: var(--colab-primary-surface-color, white);\n",
       "                }\n",
       "\n",
       "                .geemap-colab .jupyter-button {\n",
       "                    --jp-layout-color3: var(--colab-primary-surface-color, white);\n",
       "                }\n",
       "            </style>\n",
       "            "
      ],
      "text/plain": [
       "<IPython.core.display.HTML object>"
      ]
     },
     "metadata": {},
     "output_type": "display_data"
    }
   ],
   "source": [
    "import os\n",
    "save_handvalidation_dir = f\"../hand_validation/{region}\"\n",
    "os.makedirs(save_handvalidation_dir, exist_ok=True)"
   ]
  },
  {
   "cell_type": "code",
   "execution_count": 11,
   "metadata": {},
   "outputs": [
    {
     "data": {
      "text/html": [
       "\n",
       "            <style>\n",
       "                .geemap-dark {\n",
       "                    --jp-widgets-color: white;\n",
       "                    --jp-widgets-label-color: white;\n",
       "                    --jp-ui-font-color1: white;\n",
       "                    --jp-layout-color2: #454545;\n",
       "                    background-color: #383838;\n",
       "                }\n",
       "\n",
       "                .geemap-dark .jupyter-button {\n",
       "                    --jp-layout-color3: #383838;\n",
       "                }\n",
       "\n",
       "                .geemap-colab {\n",
       "                    background-color: var(--colab-primary-surface-color, white);\n",
       "                }\n",
       "\n",
       "                .geemap-colab .jupyter-button {\n",
       "                    --jp-layout-color3: var(--colab-primary-surface-color, white);\n",
       "                }\n",
       "            </style>\n",
       "            "
      ],
      "text/plain": [
       "<IPython.core.display.HTML object>"
      ]
     },
     "metadata": {},
     "output_type": "display_data"
    },
    {
     "data": {
      "text/plain": [
       "480"
      ]
     },
     "execution_count": 11,
     "metadata": {},
     "output_type": "execute_result"
    }
   ],
   "source": [
    "len(final_kilns)"
   ]
  },
  {
   "cell_type": "code",
   "execution_count": 12,
   "metadata": {},
   "outputs": [
    {
     "data": {
      "text/html": [
       "\n",
       "            <style>\n",
       "                .geemap-dark {\n",
       "                    --jp-widgets-color: white;\n",
       "                    --jp-widgets-label-color: white;\n",
       "                    --jp-ui-font-color1: white;\n",
       "                    --jp-layout-color2: #454545;\n",
       "                    background-color: #383838;\n",
       "                }\n",
       "\n",
       "                .geemap-dark .jupyter-button {\n",
       "                    --jp-layout-color3: #383838;\n",
       "                }\n",
       "\n",
       "                .geemap-colab {\n",
       "                    background-color: var(--colab-primary-surface-color, white);\n",
       "                }\n",
       "\n",
       "                .geemap-colab .jupyter-button {\n",
       "                    --jp-layout-color3: var(--colab-primary-surface-color, white);\n",
       "                }\n",
       "            </style>\n",
       "            "
      ],
      "text/plain": [
       "<IPython.core.display.HTML object>"
      ]
     },
     "metadata": {},
     "output_type": "display_data"
    },
    {
     "name": "stderr",
     "output_type": "stream",
     "text": [
      "GARUDA INFO     : Created 480 records\n"
     ]
    }
   ],
   "source": [
    "version = \"v1\"  \n",
    "batch_size = 500\n",
    "for i in range(0, len(final_kilns), batch_size):\n",
    "    end = min(i+batch_size, len(final_kilns))\n",
    "    final_kilns.iloc[i:i+batch_size].to_file(f\"../hand_validation/{region}/{version}_potential_kiln_{region}_{i}_{end-1}.geojson\", driver='GeoJSON')"
   ]
  },
  {
   "cell_type": "code",
   "execution_count": null,
   "metadata": {},
   "outputs": [],
   "source": []
  }
 ],
 "metadata": {
  "kernelspec": {
   "display_name": "rishabh_sat",
   "language": "python",
   "name": "python3"
  },
  "language_info": {
   "codemirror_mode": {
    "name": "ipython",
    "version": 3
   },
   "file_extension": ".py",
   "mimetype": "text/x-python",
   "name": "python",
   "nbconvert_exporter": "python",
   "pygments_lexer": "ipython3",
   "version": "3.12.4"
  }
 },
 "nbformat": 4,
 "nbformat_minor": 2
}

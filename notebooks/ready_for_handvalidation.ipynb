{
 "cells": [
  {
   "cell_type": "code",
   "execution_count": 18,
   "metadata": {},
   "outputs": [
    {
     "data": {
      "text/html": [
       "\n",
       "            <style>\n",
       "                .geemap-dark {\n",
       "                    --jp-widgets-color: white;\n",
       "                    --jp-widgets-label-color: white;\n",
       "                    --jp-ui-font-color1: white;\n",
       "                    --jp-layout-color2: #454545;\n",
       "                    background-color: #383838;\n",
       "                }\n",
       "\n",
       "                .geemap-dark .jupyter-button {\n",
       "                    --jp-layout-color3: #383838;\n",
       "                }\n",
       "\n",
       "                .geemap-colab {\n",
       "                    background-color: var(--colab-primary-surface-color, white);\n",
       "                }\n",
       "\n",
       "                .geemap-colab .jupyter-button {\n",
       "                    --jp-layout-color3: var(--colab-primary-surface-color, white);\n",
       "                }\n",
       "            </style>\n",
       "            "
      ],
      "text/plain": [
       "<IPython.core.display.HTML object>"
      ]
     },
     "metadata": {},
     "output_type": "display_data"
    }
   ],
   "source": [
    "import json\n",
    "from shapely.geometry import Point, Polygon, MultiPolygon\n",
    "import geojson\n",
    "import geopandas as gpd\n",
    "import pandas as pd\n",
    "import numpy as np\n",
    "from time import time\n",
    "import leafmap.foliumap as leafmap\n",
    "import supervision as sv\n",
    "from garuda.od import ConfusionMatrix\n",
    "from IPython.display import Markdown"
   ]
  },
  {
   "cell_type": "code",
   "execution_count": 19,
   "metadata": {},
   "outputs": [
    {
     "data": {
      "text/html": [
       "\n",
       "            <style>\n",
       "                .geemap-dark {\n",
       "                    --jp-widgets-color: white;\n",
       "                    --jp-widgets-label-color: white;\n",
       "                    --jp-ui-font-color1: white;\n",
       "                    --jp-layout-color2: #454545;\n",
       "                    background-color: #383838;\n",
       "                }\n",
       "\n",
       "                .geemap-dark .jupyter-button {\n",
       "                    --jp-layout-color3: #383838;\n",
       "                }\n",
       "\n",
       "                .geemap-colab {\n",
       "                    background-color: var(--colab-primary-surface-color, white);\n",
       "                }\n",
       "\n",
       "                .geemap-colab .jupyter-button {\n",
       "                    --jp-layout-color3: var(--colab-primary-surface-color, white);\n",
       "                }\n",
       "            </style>\n",
       "            "
      ],
      "text/plain": [
       "<IPython.core.display.HTML object>"
      ]
     },
     "metadata": {},
     "output_type": "display_data"
    },
    {
     "name": "stdout",
     "output_type": "stream",
     "text": [
      "Region: dhaka\n",
      "Prediction file: ../data/predict/processed_labels/dhaka/predictions_0.25.geojson\n"
     ]
    }
   ],
   "source": [
    "region = 'dhaka'\n",
    "prediction_file = f\"../data/predict/processed_labels/{region}/predictions_0.25.geojson\"\n",
    "print(f\"Region: {region}\")\n",
    "print(f\"Prediction file: {prediction_file}\")"
   ]
  },
  {
   "cell_type": "code",
   "execution_count": 20,
   "metadata": {},
   "outputs": [
    {
     "data": {
      "text/html": [
       "\n",
       "            <style>\n",
       "                .geemap-dark {\n",
       "                    --jp-widgets-color: white;\n",
       "                    --jp-widgets-label-color: white;\n",
       "                    --jp-ui-font-color1: white;\n",
       "                    --jp-layout-color2: #454545;\n",
       "                    background-color: #383838;\n",
       "                }\n",
       "\n",
       "                .geemap-dark .jupyter-button {\n",
       "                    --jp-layout-color3: #383838;\n",
       "                }\n",
       "\n",
       "                .geemap-colab {\n",
       "                    background-color: var(--colab-primary-surface-color, white);\n",
       "                }\n",
       "\n",
       "                .geemap-colab .jupyter-button {\n",
       "                    --jp-layout-color3: var(--colab-primary-surface-color, white);\n",
       "                }\n",
       "            </style>\n",
       "            "
      ],
      "text/plain": [
       "<IPython.core.display.HTML object>"
      ]
     },
     "metadata": {},
     "output_type": "display_data"
    },
    {
     "name": "stdout",
     "output_type": "stream",
     "text": [
      "1253\n",
      "EPSG:3857\n"
     ]
    },
    {
     "data": {
      "text/html": [
       "<div>\n",
       "<style scoped>\n",
       "    .dataframe tbody tr th:only-of-type {\n",
       "        vertical-align: middle;\n",
       "    }\n",
       "\n",
       "    .dataframe tbody tr th {\n",
       "        vertical-align: top;\n",
       "    }\n",
       "\n",
       "    .dataframe thead th {\n",
       "        text-align: right;\n",
       "    }\n",
       "</style>\n",
       "<table border=\"1\" class=\"dataframe\">\n",
       "  <thead>\n",
       "    <tr style=\"text-align: right;\">\n",
       "      <th></th>\n",
       "      <th>x</th>\n",
       "      <th>y</th>\n",
       "      <th>class_name</th>\n",
       "      <th>confidence</th>\n",
       "      <th>yolo_label</th>\n",
       "      <th>geometry</th>\n",
       "    </tr>\n",
       "  </thead>\n",
       "  <tbody>\n",
       "    <tr>\n",
       "      <th>0</th>\n",
       "      <td>10052083</td>\n",
       "      <td>2632488</td>\n",
       "      <td>Zigzag</td>\n",
       "      <td>0.892156</td>\n",
       "      <td>[2.0, 0.896215, 0.301542, 0.910111, 0.309495, ...</td>\n",
       "      <td>POLYGON ((10053294.523 2633095.647, 10053337.0...</td>\n",
       "    </tr>\n",
       "    <tr>\n",
       "      <th>1</th>\n",
       "      <td>10016310</td>\n",
       "      <td>2629737</td>\n",
       "      <td>FCBK</td>\n",
       "      <td>0.373006</td>\n",
       "      <td>[1.0, 0.17963, 0.840375, 0.182204, 0.828969, 0...</td>\n",
       "      <td>POLYGON ((10015331.049 2628696.442, 10015338.9...</td>\n",
       "    </tr>\n",
       "    <tr>\n",
       "      <th>2</th>\n",
       "      <td>10068593</td>\n",
       "      <td>2637992</td>\n",
       "      <td>Zigzag</td>\n",
       "      <td>0.539420</td>\n",
       "      <td>[2.0, 0.428197, 0.976926, 0.428861, 0.991392, ...</td>\n",
       "      <td>POLYGON ((10068373.965 2636534.139, 10068375.9...</td>\n",
       "    </tr>\n",
       "    <tr>\n",
       "      <th>3</th>\n",
       "      <td>10068593</td>\n",
       "      <td>2643495</td>\n",
       "      <td>Zigzag</td>\n",
       "      <td>0.905539</td>\n",
       "      <td>[2.0, 0.561424, 0.130893, 0.573838, 0.128923, ...</td>\n",
       "      <td>POLYGON ((10068781.304 2644624.335, 10068819.2...</td>\n",
       "    </tr>\n",
       "    <tr>\n",
       "      <th>4</th>\n",
       "      <td>10068593</td>\n",
       "      <td>2643495</td>\n",
       "      <td>Zigzag</td>\n",
       "      <td>0.844645</td>\n",
       "      <td>[2.0, 0.270389, 0.357973, 0.271333, 0.372421, ...</td>\n",
       "      <td>POLYGON ((10067891.47 2643930.042, 10067894.35...</td>\n",
       "    </tr>\n",
       "  </tbody>\n",
       "</table>\n",
       "</div>"
      ],
      "text/plain": [
       "          x        y class_name  confidence  \\\n",
       "0  10052083  2632488     Zigzag    0.892156   \n",
       "1  10016310  2629737       FCBK    0.373006   \n",
       "2  10068593  2637992     Zigzag    0.539420   \n",
       "3  10068593  2643495     Zigzag    0.905539   \n",
       "4  10068593  2643495     Zigzag    0.844645   \n",
       "\n",
       "                                          yolo_label  \\\n",
       "0  [2.0, 0.896215, 0.301542, 0.910111, 0.309495, ...   \n",
       "1  [1.0, 0.17963, 0.840375, 0.182204, 0.828969, 0...   \n",
       "2  [2.0, 0.428197, 0.976926, 0.428861, 0.991392, ...   \n",
       "3  [2.0, 0.561424, 0.130893, 0.573838, 0.128923, ...   \n",
       "4  [2.0, 0.270389, 0.357973, 0.271333, 0.372421, ...   \n",
       "\n",
       "                                            geometry  \n",
       "0  POLYGON ((10053294.523 2633095.647, 10053337.0...  \n",
       "1  POLYGON ((10015331.049 2628696.442, 10015338.9...  \n",
       "2  POLYGON ((10068373.965 2636534.139, 10068375.9...  \n",
       "3  POLYGON ((10068781.304 2644624.335, 10068819.2...  \n",
       "4  POLYGON ((10067891.47 2643930.042, 10067894.35...  "
      ]
     },
     "execution_count": 20,
     "metadata": {},
     "output_type": "execute_result"
    }
   ],
   "source": [
    "prediction_gdf = gpd.read_file(prediction_file) \n",
    "prediction_gdf['yolo_label'] = prediction_gdf['yolo_label'].apply(lambda x: np.array(list(map(float, x.split(\"_\")))))\n",
    "print(len(prediction_gdf))\n",
    "print(prediction_gdf.crs)\n",
    "prediction_gdf.head()\n",
    "\n"
   ]
  },
  {
   "cell_type": "code",
   "execution_count": 21,
   "metadata": {},
   "outputs": [
    {
     "data": {
      "text/html": [
       "\n",
       "            <style>\n",
       "                .geemap-dark {\n",
       "                    --jp-widgets-color: white;\n",
       "                    --jp-widgets-label-color: white;\n",
       "                    --jp-ui-font-color1: white;\n",
       "                    --jp-layout-color2: #454545;\n",
       "                    background-color: #383838;\n",
       "                }\n",
       "\n",
       "                .geemap-dark .jupyter-button {\n",
       "                    --jp-layout-color3: #383838;\n",
       "                }\n",
       "\n",
       "                .geemap-colab {\n",
       "                    background-color: var(--colab-primary-surface-color, white);\n",
       "                }\n",
       "\n",
       "                .geemap-colab .jupyter-button {\n",
       "                    --jp-layout-color3: var(--colab-primary-surface-color, white);\n",
       "                }\n",
       "            </style>\n",
       "            "
      ],
      "text/plain": [
       "<IPython.core.display.HTML object>"
      ]
     },
     "metadata": {},
     "output_type": "display_data"
    },
    {
     "name": "stdout",
     "output_type": "stream",
     "text": [
      "             x        y class_name  confidence  \\\n",
      "1251  10120876  2811351     Zigzag    0.902449   \n",
      "1252  10115372  2819606     Zigzag    0.883115   \n",
      "\n",
      "                                             yolo_label  \\\n",
      "1251  [2.0, 0.967177, 0.706902, 0.967753, 0.692075, ...   \n",
      "1252  [2.0, 0.5007, 0.0565549, 0.501918, 0.0713807, ...   \n",
      "\n",
      "                                               geometry  \n",
      "1251  POLYGON ((10122304.813 2810718.912, 10122306.5...  \n",
      "1252  POLYGON ((10115375.103 2820962.535, 10115378.8...  \n"
     ]
    }
   ],
   "source": [
    "prediction_gdf.crs.to_string()\n",
    "print(prediction_gdf.tail(2))"
   ]
  },
  {
   "cell_type": "code",
   "execution_count": 22,
   "metadata": {},
   "outputs": [
    {
     "data": {
      "text/html": [
       "\n",
       "            <style>\n",
       "                .geemap-dark {\n",
       "                    --jp-widgets-color: white;\n",
       "                    --jp-widgets-label-color: white;\n",
       "                    --jp-ui-font-color1: white;\n",
       "                    --jp-layout-color2: #454545;\n",
       "                    background-color: #383838;\n",
       "                }\n",
       "\n",
       "                .geemap-dark .jupyter-button {\n",
       "                    --jp-layout-color3: #383838;\n",
       "                }\n",
       "\n",
       "                .geemap-colab {\n",
       "                    background-color: var(--colab-primary-surface-color, white);\n",
       "                }\n",
       "\n",
       "                .geemap-colab .jupyter-button {\n",
       "                    --jp-layout-color3: var(--colab-primary-surface-color, white);\n",
       "                }\n",
       "            </style>\n",
       "            "
      ],
      "text/plain": [
       "<IPython.core.display.HTML object>"
      ]
     },
     "metadata": {},
     "output_type": "display_data"
    },
    {
     "name": "stdout",
     "output_type": "stream",
     "text": [
      "          x        y class_name  confidence  \\\n",
      "0  10052083  2632488     Zigzag    0.892156   \n",
      "1  10016310  2629737       FCBK    0.373006   \n",
      "\n",
      "                                          yolo_label  \\\n",
      "0  [2.0, 0.896215, 0.301542, 0.910111, 0.309495, ...   \n",
      "1  [1.0, 0.17963, 0.840375, 0.182204, 0.828969, 0...   \n",
      "\n",
      "                                            geometry  \n",
      "0  POLYGON ((10053294.523 2633095.647, 10053337.0...  \n",
      "1  POLYGON ((10015331.049 2628696.442, 10015338.9...  \n"
     ]
    }
   ],
   "source": [
    "prediction_gdf.reset_index(inplace=True, drop=True)\n",
    "print(prediction_gdf.head(2))"
   ]
  },
  {
   "cell_type": "code",
   "execution_count": 23,
   "metadata": {},
   "outputs": [
    {
     "data": {
      "text/html": [
       "\n",
       "            <style>\n",
       "                .geemap-dark {\n",
       "                    --jp-widgets-color: white;\n",
       "                    --jp-widgets-label-color: white;\n",
       "                    --jp-ui-font-color1: white;\n",
       "                    --jp-layout-color2: #454545;\n",
       "                    background-color: #383838;\n",
       "                }\n",
       "\n",
       "                .geemap-dark .jupyter-button {\n",
       "                    --jp-layout-color3: #383838;\n",
       "                }\n",
       "\n",
       "                .geemap-colab {\n",
       "                    background-color: var(--colab-primary-surface-color, white);\n",
       "                }\n",
       "\n",
       "                .geemap-colab .jupyter-button {\n",
       "                    --jp-layout-color3: var(--colab-primary-surface-color, white);\n",
       "                }\n",
       "            </style>\n",
       "            "
      ],
      "text/plain": [
       "<IPython.core.display.HTML object>"
      ]
     },
     "metadata": {},
     "output_type": "display_data"
    },
    {
     "data": {
      "text/plain": [
       "25"
      ]
     },
     "execution_count": 23,
     "metadata": {},
     "output_type": "execute_result"
    }
   ],
   "source": [
    "intersection_gdf = gpd.sjoin(prediction_gdf, prediction_gdf, predicate=\"intersects\")[['index_right']].reset_index()\n",
    "intersection_gdf = intersection_gdf[intersection_gdf['index'] < intersection_gdf['index_right']]\n",
    "len(intersection_gdf)"
   ]
  },
  {
   "cell_type": "code",
   "execution_count": 24,
   "metadata": {},
   "outputs": [
    {
     "data": {
      "text/html": [
       "\n",
       "            <style>\n",
       "                .geemap-dark {\n",
       "                    --jp-widgets-color: white;\n",
       "                    --jp-widgets-label-color: white;\n",
       "                    --jp-ui-font-color1: white;\n",
       "                    --jp-layout-color2: #454545;\n",
       "                    background-color: #383838;\n",
       "                }\n",
       "\n",
       "                .geemap-dark .jupyter-button {\n",
       "                    --jp-layout-color3: #383838;\n",
       "                }\n",
       "\n",
       "                .geemap-colab {\n",
       "                    background-color: var(--colab-primary-surface-color, white);\n",
       "                }\n",
       "\n",
       "                .geemap-colab .jupyter-button {\n",
       "                    --jp-layout-color3: var(--colab-primary-surface-color, white);\n",
       "                }\n",
       "            </style>\n",
       "            "
      ],
      "text/plain": [
       "<IPython.core.display.HTML object>"
      ]
     },
     "metadata": {},
     "output_type": "display_data"
    },
    {
     "name": "stdout",
     "output_type": "stream",
     "text": [
      "     index  index_right       iou    left_area   right_area\n",
      "80      80           82  0.409502  4479.786974  2782.842635\n",
      "145    142          144  0.333169  1618.153862  3955.580728\n"
     ]
    }
   ],
   "source": [
    "def get_iou(row):\n",
    "    left_polygon = prediction_gdf.iloc[int(row['index'])]['geometry']\n",
    "    right_polygon = prediction_gdf.iloc[int(row['index_right'])]['geometry']\n",
    "    left_area = left_polygon.area\n",
    "    right_area = right_polygon.area\n",
    "    iou = left_polygon.intersection(right_polygon).area / left_polygon.union(right_polygon).area\n",
    "    return iou, left_area, right_area\n",
    "\n",
    "intersection_gdf[['iou', 'left_area', 'right_area']] = intersection_gdf.apply(get_iou, axis=1, result_type=\"expand\")\n",
    "intersection_gdf = intersection_gdf[intersection_gdf['iou'] > 0.33]\n",
    "len(intersection_gdf)\n",
    "print(intersection_gdf.head(2))"
   ]
  },
  {
   "cell_type": "code",
   "execution_count": 25,
   "metadata": {},
   "outputs": [
    {
     "data": {
      "text/html": [
       "\n",
       "            <style>\n",
       "                .geemap-dark {\n",
       "                    --jp-widgets-color: white;\n",
       "                    --jp-widgets-label-color: white;\n",
       "                    --jp-ui-font-color1: white;\n",
       "                    --jp-layout-color2: #454545;\n",
       "                    background-color: #383838;\n",
       "                }\n",
       "\n",
       "                .geemap-dark .jupyter-button {\n",
       "                    --jp-layout-color3: #383838;\n",
       "                }\n",
       "\n",
       "                .geemap-colab {\n",
       "                    background-color: var(--colab-primary-surface-color, white);\n",
       "                }\n",
       "\n",
       "                .geemap-colab .jupyter-button {\n",
       "                    --jp-layout-color3: var(--colab-primary-surface-color, white);\n",
       "                }\n",
       "            </style>\n",
       "            "
      ],
      "text/plain": [
       "<IPython.core.display.HTML object>"
      ]
     },
     "metadata": {},
     "output_type": "display_data"
    },
    {
     "name": "stdout",
     "output_type": "stream",
     "text": [
      "1253\n",
      "1239\n"
     ]
    },
    {
     "data": {
      "text/html": [
       "<div>\n",
       "<style scoped>\n",
       "    .dataframe tbody tr th:only-of-type {\n",
       "        vertical-align: middle;\n",
       "    }\n",
       "\n",
       "    .dataframe tbody tr th {\n",
       "        vertical-align: top;\n",
       "    }\n",
       "\n",
       "    .dataframe thead th {\n",
       "        text-align: right;\n",
       "    }\n",
       "</style>\n",
       "<table border=\"1\" class=\"dataframe\">\n",
       "  <thead>\n",
       "    <tr style=\"text-align: right;\">\n",
       "      <th></th>\n",
       "      <th>x</th>\n",
       "      <th>y</th>\n",
       "      <th>class_name</th>\n",
       "      <th>confidence</th>\n",
       "      <th>yolo_label</th>\n",
       "      <th>geometry</th>\n",
       "    </tr>\n",
       "  </thead>\n",
       "  <tbody>\n",
       "    <tr>\n",
       "      <th>0</th>\n",
       "      <td>10052083</td>\n",
       "      <td>2632488</td>\n",
       "      <td>Zigzag</td>\n",
       "      <td>0.892156</td>\n",
       "      <td>[2.0, 0.896215, 0.301542, 0.910111, 0.309495, ...</td>\n",
       "      <td>POLYGON ((10053294.523 2633095.647, 10053337.0...</td>\n",
       "    </tr>\n",
       "    <tr>\n",
       "      <th>1</th>\n",
       "      <td>10016310</td>\n",
       "      <td>2629737</td>\n",
       "      <td>FCBK</td>\n",
       "      <td>0.373006</td>\n",
       "      <td>[1.0, 0.17963, 0.840375, 0.182204, 0.828969, 0...</td>\n",
       "      <td>POLYGON ((10015331.049 2628696.442, 10015338.9...</td>\n",
       "    </tr>\n",
       "  </tbody>\n",
       "</table>\n",
       "</div>"
      ],
      "text/plain": [
       "          x        y class_name  confidence  \\\n",
       "0  10052083  2632488     Zigzag    0.892156   \n",
       "1  10016310  2629737       FCBK    0.373006   \n",
       "\n",
       "                                          yolo_label  \\\n",
       "0  [2.0, 0.896215, 0.301542, 0.910111, 0.309495, ...   \n",
       "1  [1.0, 0.17963, 0.840375, 0.182204, 0.828969, 0...   \n",
       "\n",
       "                                            geometry  \n",
       "0  POLYGON ((10053294.523 2633095.647, 10053337.0...  \n",
       "1  POLYGON ((10015331.049 2628696.442, 10015338.9...  "
      ]
     },
     "metadata": {},
     "output_type": "display_data"
    }
   ],
   "source": [
    "drop_idx = intersection_gdf.apply(lambda x: x['index'] if x['left_area'] < x['right_area'] else x['index_right'], axis=1).astype(int).values\n",
    "print(len(prediction_gdf))\n",
    "prediction_gdf.drop(drop_idx, inplace=True)\n",
    "print(len(prediction_gdf))\n",
    "display(prediction_gdf.head(2))"
   ]
  },
  {
   "cell_type": "code",
   "execution_count": 26,
   "metadata": {},
   "outputs": [
    {
     "data": {
      "text/html": [
       "\n",
       "            <style>\n",
       "                .geemap-dark {\n",
       "                    --jp-widgets-color: white;\n",
       "                    --jp-widgets-label-color: white;\n",
       "                    --jp-ui-font-color1: white;\n",
       "                    --jp-layout-color2: #454545;\n",
       "                    background-color: #383838;\n",
       "                }\n",
       "\n",
       "                .geemap-dark .jupyter-button {\n",
       "                    --jp-layout-color3: #383838;\n",
       "                }\n",
       "\n",
       "                .geemap-colab {\n",
       "                    background-color: var(--colab-primary-surface-color, white);\n",
       "                }\n",
       "\n",
       "                .geemap-colab .jupyter-button {\n",
       "                    --jp-layout-color3: var(--colab-primary-surface-color, white);\n",
       "                }\n",
       "            </style>\n",
       "            "
      ],
      "text/plain": [
       "<IPython.core.display.HTML object>"
      ]
     },
     "metadata": {},
     "output_type": "display_data"
    },
    {
     "data": {
      "text/html": [
       "<div>\n",
       "<style scoped>\n",
       "    .dataframe tbody tr th:only-of-type {\n",
       "        vertical-align: middle;\n",
       "    }\n",
       "\n",
       "    .dataframe tbody tr th {\n",
       "        vertical-align: top;\n",
       "    }\n",
       "\n",
       "    .dataframe thead th {\n",
       "        text-align: right;\n",
       "    }\n",
       "</style>\n",
       "<table border=\"1\" class=\"dataframe\">\n",
       "  <thead>\n",
       "    <tr style=\"text-align: right;\">\n",
       "      <th></th>\n",
       "      <th>x</th>\n",
       "      <th>y</th>\n",
       "      <th>class_name</th>\n",
       "      <th>confidence</th>\n",
       "      <th>yolo_label</th>\n",
       "      <th>geometry</th>\n",
       "    </tr>\n",
       "  </thead>\n",
       "  <tbody>\n",
       "    <tr>\n",
       "      <th>0</th>\n",
       "      <td>10052083</td>\n",
       "      <td>2632488</td>\n",
       "      <td>Zigzag</td>\n",
       "      <td>0.892156</td>\n",
       "      <td>[2.0, 0.896215, 0.301542, 0.910111, 0.309495, ...</td>\n",
       "      <td>POLYGON ((90.31028 23.00891, 90.31066 23.0087,...</td>\n",
       "    </tr>\n",
       "    <tr>\n",
       "      <th>1</th>\n",
       "      <td>10016310</td>\n",
       "      <td>2629737</td>\n",
       "      <td>FCBK</td>\n",
       "      <td>0.373006</td>\n",
       "      <td>[1.0, 0.17963, 0.840375, 0.182204, 0.828969, 0...</td>\n",
       "      <td>POLYGON ((89.96925 22.97253, 89.96932 22.97281...</td>\n",
       "    </tr>\n",
       "  </tbody>\n",
       "</table>\n",
       "</div>"
      ],
      "text/plain": [
       "          x        y class_name  confidence  \\\n",
       "0  10052083  2632488     Zigzag    0.892156   \n",
       "1  10016310  2629737       FCBK    0.373006   \n",
       "\n",
       "                                          yolo_label  \\\n",
       "0  [2.0, 0.896215, 0.301542, 0.910111, 0.309495, ...   \n",
       "1  [1.0, 0.17963, 0.840375, 0.182204, 0.828969, 0...   \n",
       "\n",
       "                                            geometry  \n",
       "0  POLYGON ((90.31028 23.00891, 90.31066 23.0087,...  \n",
       "1  POLYGON ((89.96925 22.97253, 89.96932 22.97281...  "
      ]
     },
     "metadata": {},
     "output_type": "display_data"
    }
   ],
   "source": [
    "final_kilns=prediction_gdf.to_crs(epsg=4326)\n",
    "display(final_kilns.head(2))"
   ]
  },
  {
   "cell_type": "code",
   "execution_count": 27,
   "metadata": {},
   "outputs": [
    {
     "data": {
      "text/html": [
       "\n",
       "            <style>\n",
       "                .geemap-dark {\n",
       "                    --jp-widgets-color: white;\n",
       "                    --jp-widgets-label-color: white;\n",
       "                    --jp-ui-font-color1: white;\n",
       "                    --jp-layout-color2: #454545;\n",
       "                    background-color: #383838;\n",
       "                }\n",
       "\n",
       "                .geemap-dark .jupyter-button {\n",
       "                    --jp-layout-color3: #383838;\n",
       "                }\n",
       "\n",
       "                .geemap-colab {\n",
       "                    background-color: var(--colab-primary-surface-color, white);\n",
       "                }\n",
       "\n",
       "                .geemap-colab .jupyter-button {\n",
       "                    --jp-layout-color3: var(--colab-primary-surface-color, white);\n",
       "                }\n",
       "            </style>\n",
       "            "
      ],
      "text/plain": [
       "<IPython.core.display.HTML object>"
      ]
     },
     "metadata": {},
     "output_type": "display_data"
    }
   ],
   "source": [
    "import os\n",
    "save_handvalidation_dir = f\"../hand_validation/{region}\"\n",
    "os.makedirs(save_handvalidation_dir, exist_ok=True)"
   ]
  },
  {
   "cell_type": "code",
   "execution_count": 28,
   "metadata": {},
   "outputs": [
    {
     "data": {
      "text/html": [
       "\n",
       "            <style>\n",
       "                .geemap-dark {\n",
       "                    --jp-widgets-color: white;\n",
       "                    --jp-widgets-label-color: white;\n",
       "                    --jp-ui-font-color1: white;\n",
       "                    --jp-layout-color2: #454545;\n",
       "                    background-color: #383838;\n",
       "                }\n",
       "\n",
       "                .geemap-dark .jupyter-button {\n",
       "                    --jp-layout-color3: #383838;\n",
       "                }\n",
       "\n",
       "                .geemap-colab {\n",
       "                    background-color: var(--colab-primary-surface-color, white);\n",
       "                }\n",
       "\n",
       "                .geemap-colab .jupyter-button {\n",
       "                    --jp-layout-color3: var(--colab-primary-surface-color, white);\n",
       "                }\n",
       "            </style>\n",
       "            "
      ],
      "text/plain": [
       "<IPython.core.display.HTML object>"
      ]
     },
     "metadata": {},
     "output_type": "display_data"
    },
    {
     "data": {
      "text/plain": [
       "1239"
      ]
     },
     "execution_count": 28,
     "metadata": {},
     "output_type": "execute_result"
    }
   ],
   "source": [
    "len(final_kilns)"
   ]
  },
  {
   "cell_type": "code",
   "execution_count": 29,
   "metadata": {},
   "outputs": [
    {
     "data": {
      "text/html": [
       "\n",
       "            <style>\n",
       "                .geemap-dark {\n",
       "                    --jp-widgets-color: white;\n",
       "                    --jp-widgets-label-color: white;\n",
       "                    --jp-ui-font-color1: white;\n",
       "                    --jp-layout-color2: #454545;\n",
       "                    background-color: #383838;\n",
       "                }\n",
       "\n",
       "                .geemap-dark .jupyter-button {\n",
       "                    --jp-layout-color3: #383838;\n",
       "                }\n",
       "\n",
       "                .geemap-colab {\n",
       "                    background-color: var(--colab-primary-surface-color, white);\n",
       "                }\n",
       "\n",
       "                .geemap-colab .jupyter-button {\n",
       "                    --jp-layout-color3: var(--colab-primary-surface-color, white);\n",
       "                }\n",
       "            </style>\n",
       "            "
      ],
      "text/plain": [
       "<IPython.core.display.HTML object>"
      ]
     },
     "metadata": {},
     "output_type": "display_data"
    },
    {
     "name": "stderr",
     "output_type": "stream",
     "text": [
      "GARUDA INFO     : Created 500 records\n",
      "GARUDA INFO     : Created 500 records\n",
      "GARUDA INFO     : Created 239 records\n"
     ]
    }
   ],
   "source": [
    "version = \"v1\"  \n",
    "batch_size = 500\n",
    "for i in range(0, len(final_kilns), batch_size):\n",
    "    end = min(i+batch_size, len(final_kilns))\n",
    "    final_kilns.iloc[i:i+batch_size].to_file(f\"../hand_validation/{region}/{version}_potential_kiln_{region}_{i}_{end-1}.geojson\", driver='GeoJSON')"
   ]
  },
  {
   "cell_type": "code",
   "execution_count": null,
   "metadata": {},
   "outputs": [],
   "source": []
  }
 ],
 "metadata": {
  "kernelspec": {
   "display_name": "rishabh_sat",
   "language": "python",
   "name": "python3"
  },
  "language_info": {
   "codemirror_mode": {
    "name": "ipython",
    "version": 3
   },
   "file_extension": ".py",
   "mimetype": "text/x-python",
   "name": "python",
   "nbconvert_exporter": "python",
   "pygments_lexer": "ipython3",
   "version": "3.12.4"
  }
 },
 "nbformat": 4,
 "nbformat_minor": 2
}

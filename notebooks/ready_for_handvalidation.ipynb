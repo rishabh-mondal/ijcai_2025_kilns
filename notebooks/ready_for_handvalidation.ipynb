{
 "cells": [
  {
   "cell_type": "code",
   "execution_count": 14,
   "metadata": {},
   "outputs": [
    {
     "data": {
      "text/html": [
       "\n",
       "            <style>\n",
       "                .geemap-dark {\n",
       "                    --jp-widgets-color: white;\n",
       "                    --jp-widgets-label-color: white;\n",
       "                    --jp-ui-font-color1: white;\n",
       "                    --jp-layout-color2: #454545;\n",
       "                    background-color: #383838;\n",
       "                }\n",
       "\n",
       "                .geemap-dark .jupyter-button {\n",
       "                    --jp-layout-color3: #383838;\n",
       "                }\n",
       "\n",
       "                .geemap-colab {\n",
       "                    background-color: var(--colab-primary-surface-color, white);\n",
       "                }\n",
       "\n",
       "                .geemap-colab .jupyter-button {\n",
       "                    --jp-layout-color3: var(--colab-primary-surface-color, white);\n",
       "                }\n",
       "            </style>\n",
       "            "
      ],
      "text/plain": [
       "<IPython.core.display.HTML object>"
      ]
     },
     "metadata": {},
     "output_type": "display_data"
    }
   ],
   "source": [
    "import json\n",
    "from shapely.geometry import Point, Polygon, MultiPolygon\n",
    "import geojson\n",
    "import geopandas as gpd\n",
    "import pandas as pd\n",
    "import numpy as np\n",
    "from time import time\n",
    "import leafmap.foliumap as leafmap\n",
    "import supervision as sv\n",
    "from garuda.od import ConfusionMatrix\n",
    "from IPython.display import Markdown"
   ]
  },
  {
   "cell_type": "code",
   "execution_count": 15,
   "metadata": {},
   "outputs": [
    {
     "data": {
      "text/html": [
       "\n",
       "            <style>\n",
       "                .geemap-dark {\n",
       "                    --jp-widgets-color: white;\n",
       "                    --jp-widgets-label-color: white;\n",
       "                    --jp-ui-font-color1: white;\n",
       "                    --jp-layout-color2: #454545;\n",
       "                    background-color: #383838;\n",
       "                }\n",
       "\n",
       "                .geemap-dark .jupyter-button {\n",
       "                    --jp-layout-color3: #383838;\n",
       "                }\n",
       "\n",
       "                .geemap-colab {\n",
       "                    background-color: var(--colab-primary-surface-color, white);\n",
       "                }\n",
       "\n",
       "                .geemap-colab .jupyter-button {\n",
       "                    --jp-layout-color3: var(--colab-primary-surface-color, white);\n",
       "                }\n",
       "            </style>\n",
       "            "
      ],
      "text/plain": [
       "<IPython.core.display.HTML object>"
      ]
     },
     "metadata": {},
     "output_type": "display_data"
    },
    {
     "name": "stdout",
     "output_type": "stream",
     "text": [
      "Region: bharatpur\n",
      "Prediction file: ../predict/m1_obb_without_empty_train_obb_v1_640_100/bharatpur/predictions_0.25.geojson\n"
     ]
    }
   ],
   "source": [
    "region = 'bharatpur'\n",
    "prediction_file = f\"../predict/m1_obb_without_empty_train_obb_v1_640_100/{region}/predictions_0.25.geojson\"\n",
    "print(f\"Region: {region}\")\n",
    "print(f\"Prediction file: {prediction_file}\")"
   ]
  },
  {
   "cell_type": "code",
   "execution_count": 17,
   "metadata": {},
   "outputs": [
    {
     "data": {
      "text/html": [
       "\n",
       "            <style>\n",
       "                .geemap-dark {\n",
       "                    --jp-widgets-color: white;\n",
       "                    --jp-widgets-label-color: white;\n",
       "                    --jp-ui-font-color1: white;\n",
       "                    --jp-layout-color2: #454545;\n",
       "                    background-color: #383838;\n",
       "                }\n",
       "\n",
       "                .geemap-dark .jupyter-button {\n",
       "                    --jp-layout-color3: #383838;\n",
       "                }\n",
       "\n",
       "                .geemap-colab {\n",
       "                    background-color: var(--colab-primary-surface-color, white);\n",
       "                }\n",
       "\n",
       "                .geemap-colab .jupyter-button {\n",
       "                    --jp-layout-color3: var(--colab-primary-surface-color, white);\n",
       "                }\n",
       "            </style>\n",
       "            "
      ],
      "text/plain": [
       "<IPython.core.display.HTML object>"
      ]
     },
     "metadata": {},
     "output_type": "display_data"
    },
    {
     "name": "stdout",
     "output_type": "stream",
     "text": [
      "101\n",
      "EPSG:3857\n"
     ]
    },
    {
     "data": {
      "text/html": [
       "<div>\n",
       "<style scoped>\n",
       "    .dataframe tbody tr th:only-of-type {\n",
       "        vertical-align: middle;\n",
       "    }\n",
       "\n",
       "    .dataframe tbody tr th {\n",
       "        vertical-align: top;\n",
       "    }\n",
       "\n",
       "    .dataframe thead th {\n",
       "        text-align: right;\n",
       "    }\n",
       "</style>\n",
       "<table border=\"1\" class=\"dataframe\">\n",
       "  <thead>\n",
       "    <tr style=\"text-align: right;\">\n",
       "      <th></th>\n",
       "      <th>x</th>\n",
       "      <th>y</th>\n",
       "      <th>class_name</th>\n",
       "      <th>confidence</th>\n",
       "      <th>yolo_label</th>\n",
       "      <th>geometry</th>\n",
       "    </tr>\n",
       "  </thead>\n",
       "  <tbody>\n",
       "    <tr>\n",
       "      <th>0</th>\n",
       "      <td>8596722</td>\n",
       "      <td>3108844</td>\n",
       "      <td>FCBK</td>\n",
       "      <td>0.482616</td>\n",
       "      <td>[1.0, 0.974679, 0.492202, 0.987097, 0.505247, ...</td>\n",
       "      <td>POLYGON ((8598173.407 3108868.268, 8598211.375...</td>\n",
       "    </tr>\n",
       "    <tr>\n",
       "      <th>1</th>\n",
       "      <td>8585715</td>\n",
       "      <td>3139113</td>\n",
       "      <td>CFCBK</td>\n",
       "      <td>0.863236</td>\n",
       "      <td>[0.0, 0.858775, 0.657242, 0.85979, 0.627291, 0...</td>\n",
       "      <td>POLYGON ((8586812.1 3138632.724, 8586815.204 3...</td>\n",
       "    </tr>\n",
       "    <tr>\n",
       "      <th>2</th>\n",
       "      <td>8585715</td>\n",
       "      <td>3139113</td>\n",
       "      <td>FCBK</td>\n",
       "      <td>0.804194</td>\n",
       "      <td>[1.0, 0.882969, 0.870271, 0.891651, 0.852002, ...</td>\n",
       "      <td>POLYGON ((8586886.073 3137981.392, 8586912.618...</td>\n",
       "    </tr>\n",
       "    <tr>\n",
       "      <th>3</th>\n",
       "      <td>8585715</td>\n",
       "      <td>3139113</td>\n",
       "      <td>FCBK</td>\n",
       "      <td>0.586538</td>\n",
       "      <td>[1.0, 0.416694, 0.41831, 0.434965, 0.425009, 0...</td>\n",
       "      <td>POLYGON ((8585460.446 3139363.254, 8585516.309...</td>\n",
       "    </tr>\n",
       "    <tr>\n",
       "      <th>4</th>\n",
       "      <td>8585715</td>\n",
       "      <td>3139113</td>\n",
       "      <td>Zigzag</td>\n",
       "      <td>0.473407</td>\n",
       "      <td>[2.0, 0.429403, 0.802783, 0.438607, 0.785262, ...</td>\n",
       "      <td>POLYGON ((8585499.304 3138187.735, 8585527.445...</td>\n",
       "    </tr>\n",
       "  </tbody>\n",
       "</table>\n",
       "</div>"
      ],
      "text/plain": [
       "         x        y class_name  confidence  \\\n",
       "0  8596722  3108844       FCBK    0.482616   \n",
       "1  8585715  3139113      CFCBK    0.863236   \n",
       "2  8585715  3139113       FCBK    0.804194   \n",
       "3  8585715  3139113       FCBK    0.586538   \n",
       "4  8585715  3139113     Zigzag    0.473407   \n",
       "\n",
       "                                          yolo_label  \\\n",
       "0  [1.0, 0.974679, 0.492202, 0.987097, 0.505247, ...   \n",
       "1  [0.0, 0.858775, 0.657242, 0.85979, 0.627291, 0...   \n",
       "2  [1.0, 0.882969, 0.870271, 0.891651, 0.852002, ...   \n",
       "3  [1.0, 0.416694, 0.41831, 0.434965, 0.425009, 0...   \n",
       "4  [2.0, 0.429403, 0.802783, 0.438607, 0.785262, ...   \n",
       "\n",
       "                                            geometry  \n",
       "0  POLYGON ((8598173.407 3108868.268, 8598211.375...  \n",
       "1  POLYGON ((8586812.1 3138632.724, 8586815.204 3...  \n",
       "2  POLYGON ((8586886.073 3137981.392, 8586912.618...  \n",
       "3  POLYGON ((8585460.446 3139363.254, 8585516.309...  \n",
       "4  POLYGON ((8585499.304 3138187.735, 8585527.445...  "
      ]
     },
     "execution_count": 17,
     "metadata": {},
     "output_type": "execute_result"
    }
   ],
   "source": [
    "prediction_gdf = gpd.read_file(prediction_file) \n",
    "prediction_gdf['yolo_label'] = prediction_gdf['yolo_label'].apply(lambda x: np.array(list(map(float, x.split(\"_\")))))\n",
    "print(len(prediction_gdf))\n",
    "print(prediction_gdf.crs)\n",
    "prediction_gdf.head()\n",
    "\n"
   ]
  },
  {
   "cell_type": "code",
   "execution_count": 18,
   "metadata": {},
   "outputs": [
    {
     "data": {
      "text/html": [
       "\n",
       "            <style>\n",
       "                .geemap-dark {\n",
       "                    --jp-widgets-color: white;\n",
       "                    --jp-widgets-label-color: white;\n",
       "                    --jp-ui-font-color1: white;\n",
       "                    --jp-layout-color2: #454545;\n",
       "                    background-color: #383838;\n",
       "                }\n",
       "\n",
       "                .geemap-dark .jupyter-button {\n",
       "                    --jp-layout-color3: #383838;\n",
       "                }\n",
       "\n",
       "                .geemap-colab {\n",
       "                    background-color: var(--colab-primary-surface-color, white);\n",
       "                }\n",
       "\n",
       "                .geemap-colab .jupyter-button {\n",
       "                    --jp-layout-color3: var(--colab-primary-surface-color, white);\n",
       "                }\n",
       "            </style>\n",
       "            "
      ],
      "text/plain": [
       "<IPython.core.display.HTML object>"
      ]
     },
     "metadata": {},
     "output_type": "display_data"
    },
    {
     "name": "stdout",
     "output_type": "stream",
     "text": [
      "         x        y class_name  confidence  \\\n",
      "0  8596722  3108844       FCBK    0.482616   \n",
      "1  8585715  3139113      CFCBK    0.863236   \n",
      "\n",
      "                                          yolo_label  \\\n",
      "0  [1.0, 0.974679, 0.492202, 0.987097, 0.505247, ...   \n",
      "1  [0.0, 0.858775, 0.657242, 0.85979, 0.627291, 0...   \n",
      "\n",
      "                                            geometry  \n",
      "0  POLYGON ((8598173.407 3108868.268, 8598211.375...  \n",
      "1  POLYGON ((8586812.1 3138632.724, 8586815.204 3...  \n"
     ]
    }
   ],
   "source": [
    "prediction_gdf.crs.to_string()\n",
    "print(prediction_gdf.head(2))"
   ]
  },
  {
   "cell_type": "code",
   "execution_count": 19,
   "metadata": {},
   "outputs": [
    {
     "data": {
      "text/html": [
       "\n",
       "            <style>\n",
       "                .geemap-dark {\n",
       "                    --jp-widgets-color: white;\n",
       "                    --jp-widgets-label-color: white;\n",
       "                    --jp-ui-font-color1: white;\n",
       "                    --jp-layout-color2: #454545;\n",
       "                    background-color: #383838;\n",
       "                }\n",
       "\n",
       "                .geemap-dark .jupyter-button {\n",
       "                    --jp-layout-color3: #383838;\n",
       "                }\n",
       "\n",
       "                .geemap-colab {\n",
       "                    background-color: var(--colab-primary-surface-color, white);\n",
       "                }\n",
       "\n",
       "                .geemap-colab .jupyter-button {\n",
       "                    --jp-layout-color3: var(--colab-primary-surface-color, white);\n",
       "                }\n",
       "            </style>\n",
       "            "
      ],
      "text/plain": [
       "<IPython.core.display.HTML object>"
      ]
     },
     "metadata": {},
     "output_type": "display_data"
    },
    {
     "name": "stdout",
     "output_type": "stream",
     "text": [
      "         x        y class_name  confidence  \\\n",
      "0  8596722  3108844       FCBK    0.482616   \n",
      "1  8585715  3139113      CFCBK    0.863236   \n",
      "\n",
      "                                          yolo_label  \\\n",
      "0  [1.0, 0.974679, 0.492202, 0.987097, 0.505247, ...   \n",
      "1  [0.0, 0.858775, 0.657242, 0.85979, 0.627291, 0...   \n",
      "\n",
      "                                            geometry  \n",
      "0  POLYGON ((8598173.407 3108868.268, 8598211.375...  \n",
      "1  POLYGON ((8586812.1 3138632.724, 8586815.204 3...  \n"
     ]
    }
   ],
   "source": [
    "prediction_gdf.reset_index(inplace=True, drop=True)\n",
    "print(prediction_gdf.head(2))"
   ]
  },
  {
   "cell_type": "code",
   "execution_count": 20,
   "metadata": {},
   "outputs": [
    {
     "data": {
      "text/html": [
       "\n",
       "            <style>\n",
       "                .geemap-dark {\n",
       "                    --jp-widgets-color: white;\n",
       "                    --jp-widgets-label-color: white;\n",
       "                    --jp-ui-font-color1: white;\n",
       "                    --jp-layout-color2: #454545;\n",
       "                    background-color: #383838;\n",
       "                }\n",
       "\n",
       "                .geemap-dark .jupyter-button {\n",
       "                    --jp-layout-color3: #383838;\n",
       "                }\n",
       "\n",
       "                .geemap-colab {\n",
       "                    background-color: var(--colab-primary-surface-color, white);\n",
       "                }\n",
       "\n",
       "                .geemap-colab .jupyter-button {\n",
       "                    --jp-layout-color3: var(--colab-primary-surface-color, white);\n",
       "                }\n",
       "            </style>\n",
       "            "
      ],
      "text/plain": [
       "<IPython.core.display.HTML object>"
      ]
     },
     "metadata": {},
     "output_type": "display_data"
    },
    {
     "data": {
      "text/plain": [
       "4"
      ]
     },
     "execution_count": 20,
     "metadata": {},
     "output_type": "execute_result"
    }
   ],
   "source": [
    "intersection_gdf = gpd.sjoin(prediction_gdf, prediction_gdf, predicate=\"intersects\")[['index_right']].reset_index()\n",
    "intersection_gdf = intersection_gdf[intersection_gdf['index'] < intersection_gdf['index_right']]\n",
    "len(intersection_gdf)"
   ]
  },
  {
   "cell_type": "code",
   "execution_count": 21,
   "metadata": {},
   "outputs": [
    {
     "data": {
      "text/html": [
       "\n",
       "            <style>\n",
       "                .geemap-dark {\n",
       "                    --jp-widgets-color: white;\n",
       "                    --jp-widgets-label-color: white;\n",
       "                    --jp-ui-font-color1: white;\n",
       "                    --jp-layout-color2: #454545;\n",
       "                    background-color: #383838;\n",
       "                }\n",
       "\n",
       "                .geemap-dark .jupyter-button {\n",
       "                    --jp-layout-color3: #383838;\n",
       "                }\n",
       "\n",
       "                .geemap-colab {\n",
       "                    background-color: var(--colab-primary-surface-color, white);\n",
       "                }\n",
       "\n",
       "                .geemap-colab .jupyter-button {\n",
       "                    --jp-layout-color3: var(--colab-primary-surface-color, white);\n",
       "                }\n",
       "            </style>\n",
       "            "
      ],
      "text/plain": [
       "<IPython.core.display.HTML object>"
      ]
     },
     "metadata": {},
     "output_type": "display_data"
    },
    {
     "name": "stdout",
     "output_type": "stream",
     "text": [
      "    index  index_right       iou    left_area   right_area\n",
      "40     38           46  0.442287  3908.013548  8127.644234\n"
     ]
    }
   ],
   "source": [
    "def get_iou(row):\n",
    "    left_polygon = prediction_gdf.iloc[int(row['index'])]['geometry']\n",
    "    right_polygon = prediction_gdf.iloc[int(row['index_right'])]['geometry']\n",
    "    left_area = left_polygon.area\n",
    "    right_area = right_polygon.area\n",
    "    iou = left_polygon.intersection(right_polygon).area / left_polygon.union(right_polygon).area\n",
    "    return iou, left_area, right_area\n",
    "\n",
    "intersection_gdf[['iou', 'left_area', 'right_area']] = intersection_gdf.apply(get_iou, axis=1, result_type=\"expand\")\n",
    "intersection_gdf = intersection_gdf[intersection_gdf['iou'] > 0.33]\n",
    "len(intersection_gdf)\n",
    "print(intersection_gdf.head(2))"
   ]
  },
  {
   "cell_type": "code",
   "execution_count": 22,
   "metadata": {},
   "outputs": [
    {
     "data": {
      "text/html": [
       "\n",
       "            <style>\n",
       "                .geemap-dark {\n",
       "                    --jp-widgets-color: white;\n",
       "                    --jp-widgets-label-color: white;\n",
       "                    --jp-ui-font-color1: white;\n",
       "                    --jp-layout-color2: #454545;\n",
       "                    background-color: #383838;\n",
       "                }\n",
       "\n",
       "                .geemap-dark .jupyter-button {\n",
       "                    --jp-layout-color3: #383838;\n",
       "                }\n",
       "\n",
       "                .geemap-colab {\n",
       "                    background-color: var(--colab-primary-surface-color, white);\n",
       "                }\n",
       "\n",
       "                .geemap-colab .jupyter-button {\n",
       "                    --jp-layout-color3: var(--colab-primary-surface-color, white);\n",
       "                }\n",
       "            </style>\n",
       "            "
      ],
      "text/plain": [
       "<IPython.core.display.HTML object>"
      ]
     },
     "metadata": {},
     "output_type": "display_data"
    },
    {
     "name": "stdout",
     "output_type": "stream",
     "text": [
      "101\n",
      "100\n"
     ]
    },
    {
     "data": {
      "text/html": [
       "<div>\n",
       "<style scoped>\n",
       "    .dataframe tbody tr th:only-of-type {\n",
       "        vertical-align: middle;\n",
       "    }\n",
       "\n",
       "    .dataframe tbody tr th {\n",
       "        vertical-align: top;\n",
       "    }\n",
       "\n",
       "    .dataframe thead th {\n",
       "        text-align: right;\n",
       "    }\n",
       "</style>\n",
       "<table border=\"1\" class=\"dataframe\">\n",
       "  <thead>\n",
       "    <tr style=\"text-align: right;\">\n",
       "      <th></th>\n",
       "      <th>x</th>\n",
       "      <th>y</th>\n",
       "      <th>class_name</th>\n",
       "      <th>confidence</th>\n",
       "      <th>yolo_label</th>\n",
       "      <th>geometry</th>\n",
       "    </tr>\n",
       "  </thead>\n",
       "  <tbody>\n",
       "    <tr>\n",
       "      <th>0</th>\n",
       "      <td>8596722</td>\n",
       "      <td>3108844</td>\n",
       "      <td>FCBK</td>\n",
       "      <td>0.482616</td>\n",
       "      <td>[1.0, 0.974679, 0.492202, 0.987097, 0.505247, ...</td>\n",
       "      <td>POLYGON ((8598173.407 3108868.268, 8598211.375...</td>\n",
       "    </tr>\n",
       "    <tr>\n",
       "      <th>1</th>\n",
       "      <td>8585715</td>\n",
       "      <td>3139113</td>\n",
       "      <td>CFCBK</td>\n",
       "      <td>0.863236</td>\n",
       "      <td>[0.0, 0.858775, 0.657242, 0.85979, 0.627291, 0...</td>\n",
       "      <td>POLYGON ((8586812.1 3138632.724, 8586815.204 3...</td>\n",
       "    </tr>\n",
       "  </tbody>\n",
       "</table>\n",
       "</div>"
      ],
      "text/plain": [
       "         x        y class_name  confidence  \\\n",
       "0  8596722  3108844       FCBK    0.482616   \n",
       "1  8585715  3139113      CFCBK    0.863236   \n",
       "\n",
       "                                          yolo_label  \\\n",
       "0  [1.0, 0.974679, 0.492202, 0.987097, 0.505247, ...   \n",
       "1  [0.0, 0.858775, 0.657242, 0.85979, 0.627291, 0...   \n",
       "\n",
       "                                            geometry  \n",
       "0  POLYGON ((8598173.407 3108868.268, 8598211.375...  \n",
       "1  POLYGON ((8586812.1 3138632.724, 8586815.204 3...  "
      ]
     },
     "metadata": {},
     "output_type": "display_data"
    }
   ],
   "source": [
    "drop_idx = intersection_gdf.apply(lambda x: x['index'] if x['left_area'] < x['right_area'] else x['index_right'], axis=1).astype(int).values\n",
    "print(len(prediction_gdf))\n",
    "prediction_gdf.drop(drop_idx, inplace=True)\n",
    "print(len(prediction_gdf))\n",
    "display(prediction_gdf.head(2))"
   ]
  },
  {
   "cell_type": "code",
   "execution_count": 23,
   "metadata": {},
   "outputs": [
    {
     "data": {
      "text/html": [
       "\n",
       "            <style>\n",
       "                .geemap-dark {\n",
       "                    --jp-widgets-color: white;\n",
       "                    --jp-widgets-label-color: white;\n",
       "                    --jp-ui-font-color1: white;\n",
       "                    --jp-layout-color2: #454545;\n",
       "                    background-color: #383838;\n",
       "                }\n",
       "\n",
       "                .geemap-dark .jupyter-button {\n",
       "                    --jp-layout-color3: #383838;\n",
       "                }\n",
       "\n",
       "                .geemap-colab {\n",
       "                    background-color: var(--colab-primary-surface-color, white);\n",
       "                }\n",
       "\n",
       "                .geemap-colab .jupyter-button {\n",
       "                    --jp-layout-color3: var(--colab-primary-surface-color, white);\n",
       "                }\n",
       "            </style>\n",
       "            "
      ],
      "text/plain": [
       "<IPython.core.display.HTML object>"
      ]
     },
     "metadata": {},
     "output_type": "display_data"
    },
    {
     "data": {
      "text/html": [
       "<div>\n",
       "<style scoped>\n",
       "    .dataframe tbody tr th:only-of-type {\n",
       "        vertical-align: middle;\n",
       "    }\n",
       "\n",
       "    .dataframe tbody tr th {\n",
       "        vertical-align: top;\n",
       "    }\n",
       "\n",
       "    .dataframe thead th {\n",
       "        text-align: right;\n",
       "    }\n",
       "</style>\n",
       "<table border=\"1\" class=\"dataframe\">\n",
       "  <thead>\n",
       "    <tr style=\"text-align: right;\">\n",
       "      <th></th>\n",
       "      <th>x</th>\n",
       "      <th>y</th>\n",
       "      <th>class_name</th>\n",
       "      <th>confidence</th>\n",
       "      <th>yolo_label</th>\n",
       "      <th>geometry</th>\n",
       "    </tr>\n",
       "  </thead>\n",
       "  <tbody>\n",
       "    <tr>\n",
       "      <th>0</th>\n",
       "      <td>8596722</td>\n",
       "      <td>3108844</td>\n",
       "      <td>FCBK</td>\n",
       "      <td>0.482616</td>\n",
       "      <td>[1.0, 0.974679, 0.492202, 0.987097, 0.505247, ...</td>\n",
       "      <td>POLYGON ((77.23871 26.88305, 77.23905 26.88273...</td>\n",
       "    </tr>\n",
       "    <tr>\n",
       "      <th>1</th>\n",
       "      <td>8585715</td>\n",
       "      <td>3139113</td>\n",
       "      <td>CFCBK</td>\n",
       "      <td>0.863236</td>\n",
       "      <td>[0.0, 0.858775, 0.657242, 0.85979, 0.627291, 0...</td>\n",
       "      <td>POLYGON ((77.13665 27.12128, 77.13667 27.12202...</td>\n",
       "    </tr>\n",
       "  </tbody>\n",
       "</table>\n",
       "</div>"
      ],
      "text/plain": [
       "         x        y class_name  confidence  \\\n",
       "0  8596722  3108844       FCBK    0.482616   \n",
       "1  8585715  3139113      CFCBK    0.863236   \n",
       "\n",
       "                                          yolo_label  \\\n",
       "0  [1.0, 0.974679, 0.492202, 0.987097, 0.505247, ...   \n",
       "1  [0.0, 0.858775, 0.657242, 0.85979, 0.627291, 0...   \n",
       "\n",
       "                                            geometry  \n",
       "0  POLYGON ((77.23871 26.88305, 77.23905 26.88273...  \n",
       "1  POLYGON ((77.13665 27.12128, 77.13667 27.12202...  "
      ]
     },
     "metadata": {},
     "output_type": "display_data"
    }
   ],
   "source": [
    "final_kilns=prediction_gdf.to_crs(epsg=4326)\n",
    "display(final_kilns.head(2))"
   ]
  },
  {
   "cell_type": "code",
   "execution_count": 24,
   "metadata": {},
   "outputs": [
    {
     "data": {
      "text/html": [
       "\n",
       "            <style>\n",
       "                .geemap-dark {\n",
       "                    --jp-widgets-color: white;\n",
       "                    --jp-widgets-label-color: white;\n",
       "                    --jp-ui-font-color1: white;\n",
       "                    --jp-layout-color2: #454545;\n",
       "                    background-color: #383838;\n",
       "                }\n",
       "\n",
       "                .geemap-dark .jupyter-button {\n",
       "                    --jp-layout-color3: #383838;\n",
       "                }\n",
       "\n",
       "                .geemap-colab {\n",
       "                    background-color: var(--colab-primary-surface-color, white);\n",
       "                }\n",
       "\n",
       "                .geemap-colab .jupyter-button {\n",
       "                    --jp-layout-color3: var(--colab-primary-surface-color, white);\n",
       "                }\n",
       "            </style>\n",
       "            "
      ],
      "text/plain": [
       "<IPython.core.display.HTML object>"
      ]
     },
     "metadata": {},
     "output_type": "display_data"
    }
   ],
   "source": [
    "import os\n",
    "save_handvalidation_dir = f\"../hand_validation/{region}\"\n",
    "os.makedirs(save_handvalidation_dir, exist_ok=True)"
   ]
  },
  {
   "cell_type": "code",
   "execution_count": 25,
   "metadata": {},
   "outputs": [
    {
     "data": {
      "text/html": [
       "\n",
       "            <style>\n",
       "                .geemap-dark {\n",
       "                    --jp-widgets-color: white;\n",
       "                    --jp-widgets-label-color: white;\n",
       "                    --jp-ui-font-color1: white;\n",
       "                    --jp-layout-color2: #454545;\n",
       "                    background-color: #383838;\n",
       "                }\n",
       "\n",
       "                .geemap-dark .jupyter-button {\n",
       "                    --jp-layout-color3: #383838;\n",
       "                }\n",
       "\n",
       "                .geemap-colab {\n",
       "                    background-color: var(--colab-primary-surface-color, white);\n",
       "                }\n",
       "\n",
       "                .geemap-colab .jupyter-button {\n",
       "                    --jp-layout-color3: var(--colab-primary-surface-color, white);\n",
       "                }\n",
       "            </style>\n",
       "            "
      ],
      "text/plain": [
       "<IPython.core.display.HTML object>"
      ]
     },
     "metadata": {},
     "output_type": "display_data"
    }
   ],
   "source": [
    "version = \"v1\"  \n",
    "batch_size = 500\n",
    "for i in range(0, len(final_kilns), batch_size):\n",
    "    end = min(i+batch_size, len(final_kilns))\n",
    "    final_kilns.iloc[i:i+batch_size].to_file(f\"../hand_validation/{region}/{version}_potential_kiln_{i}_{end-1}.geojson\", driver='GeoJSON')"
   ]
  },
  {
   "cell_type": "code",
   "execution_count": null,
   "metadata": {},
   "outputs": [],
   "source": []
  }
 ],
 "metadata": {
  "kernelspec": {
   "display_name": "rishabh_sat",
   "language": "python",
   "name": "python3"
  },
  "language_info": {
   "codemirror_mode": {
    "name": "ipython",
    "version": 3
   },
   "file_extension": ".py",
   "mimetype": "text/x-python",
   "name": "python",
   "nbconvert_exporter": "python",
   "pygments_lexer": "ipython3",
   "version": "3.12.4"
  }
 },
 "nbformat": 4,
 "nbformat_minor": 2
}

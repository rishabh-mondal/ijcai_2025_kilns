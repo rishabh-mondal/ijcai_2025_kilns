{
 "cells": [
  {
   "cell_type": "code",
   "execution_count": 4,
   "metadata": {},
   "outputs": [],
   "source": [
    "# ! pip install ultralytics\n"
   ]
  },
  {
   "cell_type": "code",
   "execution_count": 1,
   "metadata": {},
   "outputs": [],
   "source": [
    "from ultralytics import YOLO\n",
    "import cv2\n",
    "import supervision as sv\n",
    "from tempfile import mkdtemp\n",
    "from supervision.metrics import MeanAveragePrecision\n",
    "\n"
   ]
  },
  {
   "cell_type": "code",
   "execution_count": 4,
   "metadata": {},
   "outputs": [
    {
     "name": "stdout",
     "output_type": "stream",
     "text": [
      "<supervision.dataset.core.DetectionDataset object at 0x7f0415c28470>\n",
      "1815\n"
     ]
    },
    {
     "data": {
      "text/plain": [
       "['CFCBK', 'FCBK', 'Zigzag']"
      ]
     },
     "execution_count": 4,
     "metadata": {},
     "output_type": "execute_result"
    }
   ],
   "source": [
    "target_state = \"uttar_pradesh\"\n",
    "base_dir=\"/home/patel_zeel/kiln_compass_24/data/\"\n",
    "image_dir= \"/home/patel_zeel/kiln_compass_24/data/m1_obb_without_empty_val/images\"\n",
    "label_dir=\"/home/patel_zeel/kiln_compass_24/data/m1_obb_without_empty_val/labels\"\n",
    "\n",
    "\n",
    "# ## class information in yml file \n",
    "# data_yml_save_path=\"/home/rishabh.mondal/Brick-Kilns-project/ijcai_2025_kilns/yaml_data_dir\"\n",
    "# data_yml = f\"\"\"train: dummy\n",
    "# val: dummy\n",
    "# nc: 3\n",
    "# names: [\"CFCBK\", \"FCBK\", \"Zigzag\"]\n",
    "# \"\"\"\n",
    "# data_yml_path = f\"{data_yml_save_path}/data.yml\"\n",
    "# with open(data_yml_path, \"w\") as f:\n",
    "#     f.write(data_yml)\n",
    "\n",
    "\n",
    "data_yml_path=\"/home/rishabh.mondal/Brick-Kilns-project/ijcai_2025_kilns/yaml_data_dir/data.yml\"\n",
    "\n",
    "sv_dataset=sv.DetectionDataset.from_yolo(image_dir,label_dir,data_yml_path)\n",
    "print(sv_dataset)\n",
    "print(len(sv_dataset))\n",
    "sv_dataset.classes\n"
   ]
  },
  {
   "cell_type": "code",
   "execution_count": 5,
   "metadata": {},
   "outputs": [
    {
     "name": "stdout",
     "output_type": "stream",
     "text": [
      "Ultralytics 8.3.55 🚀 Python-3.12.4 torch-2.5.1+cu124 CUDA:0 (NVIDIA A100-SXM4-80GB, 81156MiB)\n",
      "YOLO11m-obb summary (fused): 322 layers, 20,880,796 parameters, 0 gradients, 71.3 GFLOPs\n"
     ]
    },
    {
     "name": "stderr",
     "output_type": "stream",
     "text": [
      "\u001b[34m\u001b[1mval: \u001b[0mScanning /home/patel_zeel/kiln_compass_24/data/haryana/labels... 1116 images, 5939 backgrounds, 0 corrupt: 100%|██████████| 7055/7055 [00:08<00:00, 877.60it/s]"
     ]
    },
    {
     "name": "stdout",
     "output_type": "stream",
     "text": [
      "\u001b[34m\u001b[1mval: \u001b[0mWARNING ⚠️ Cache directory /home/patel_zeel/kiln_compass_24/data/haryana is not writeable, cache not saved.\n"
     ]
    },
    {
     "name": "stderr",
     "output_type": "stream",
     "text": [
      "\n",
      "                 Class     Images  Instances      Box(P          R      mAP50  mAP50-95): 100%|██████████| 441/441 [00:28<00:00, 15.37it/s]\n"
     ]
    },
    {
     "name": "stdout",
     "output_type": "stream",
     "text": [
      "                   all       7055       2308      0.335      0.506      0.367       0.29\n",
      "Speed: 0.1ms preprocess, 2.5ms inference, 0.0ms loss, 0.4ms postprocess per image\n",
      "Results saved to \u001b[1mruns/obb/val\u001b[0m\n"
     ]
    }
   ],
   "source": [
    "model=YOLO(\"/home/rishabh.mondal/Brick-Kilns-project/ijcai_2025_kilns/runs/obb/train_punjab_test_west_bengal_obb_v1_yolo11m-obb.pt_640_128_300/weights/best.pt\")\n",
    "val_dir=\"/home/rishabh.mondal/Brick-Kilns-project/ijcai_2025_kilns/yaml_data_dir/val.yaml\"\n",
    "ultralytics_result =model.val(data=val_dir,imgsz=640, iou=0.33, max_det=300, conf=0.001, verbose=False,save_txt=True)\n",
    "\n"
   ]
  },
  {
   "cell_type": "code",
   "execution_count": 6,
   "metadata": {},
   "outputs": [
    {
     "ename": "AttributeError",
     "evalue": "'OBBMetrics' object has no attribute 'boxes'. See valid attributes below.\nMetrics for evaluating oriented bounding box (OBB) detection, see https://arxiv.org/pdf/2106.06072.pdf.",
     "output_type": "error",
     "traceback": [
      "\u001b[0;31m---------------------------------------------------------------------------\u001b[0m",
      "\u001b[0;31mAttributeError\u001b[0m                            Traceback (most recent call last)",
      "Cell \u001b[0;32mIn[6], line 1\u001b[0m\n\u001b[0;32m----> 1\u001b[0m sv_detections \u001b[38;5;241m=\u001b[39m \u001b[43msv\u001b[49m\u001b[38;5;241;43m.\u001b[39;49m\u001b[43mDetections\u001b[49m\u001b[38;5;241;43m.\u001b[39;49m\u001b[43mfrom_ultralytics\u001b[49m\u001b[43m(\u001b[49m\u001b[43multralytics_result\u001b[49m\u001b[43m)\u001b[49m\n",
      "File \u001b[0;32m/home/patel_zeel/supervision/supervision/detection/core.py:282\u001b[0m, in \u001b[0;36mDetections.from_ultralytics\u001b[0;34m(cls, ultralytics_results)\u001b[0m\n\u001b[1;32m    275\u001b[0m     masks \u001b[38;5;241m=\u001b[39m extract_ultralytics_masks(ultralytics_results)\n\u001b[1;32m    276\u001b[0m     \u001b[38;5;28;01mreturn\u001b[39;00m \u001b[38;5;28mcls\u001b[39m(\n\u001b[1;32m    277\u001b[0m         xyxy\u001b[38;5;241m=\u001b[39mmask_to_xyxy(masks),\n\u001b[1;32m    278\u001b[0m         mask\u001b[38;5;241m=\u001b[39mmasks,\n\u001b[1;32m    279\u001b[0m         class_id\u001b[38;5;241m=\u001b[39mnp\u001b[38;5;241m.\u001b[39marange(\u001b[38;5;28mlen\u001b[39m(ultralytics_results)),\n\u001b[1;32m    280\u001b[0m     )\n\u001b[0;32m--> 282\u001b[0m class_id \u001b[38;5;241m=\u001b[39m \u001b[43multralytics_results\u001b[49m\u001b[38;5;241;43m.\u001b[39;49m\u001b[43mboxes\u001b[49m\u001b[38;5;241m.\u001b[39mcls\u001b[38;5;241m.\u001b[39mcpu()\u001b[38;5;241m.\u001b[39mnumpy()\u001b[38;5;241m.\u001b[39mastype(\u001b[38;5;28mint\u001b[39m)\n\u001b[1;32m    283\u001b[0m class_names \u001b[38;5;241m=\u001b[39m np\u001b[38;5;241m.\u001b[39marray([ultralytics_results\u001b[38;5;241m.\u001b[39mnames[i] \u001b[38;5;28;01mfor\u001b[39;00m i \u001b[38;5;129;01min\u001b[39;00m class_id])\n\u001b[1;32m    284\u001b[0m \u001b[38;5;28;01mreturn\u001b[39;00m \u001b[38;5;28mcls\u001b[39m(\n\u001b[1;32m    285\u001b[0m     xyxy\u001b[38;5;241m=\u001b[39multralytics_results\u001b[38;5;241m.\u001b[39mboxes\u001b[38;5;241m.\u001b[39mxyxy\u001b[38;5;241m.\u001b[39mcpu()\u001b[38;5;241m.\u001b[39mnumpy(),\n\u001b[1;32m    286\u001b[0m     confidence\u001b[38;5;241m=\u001b[39multralytics_results\u001b[38;5;241m.\u001b[39mboxes\u001b[38;5;241m.\u001b[39mconf\u001b[38;5;241m.\u001b[39mcpu()\u001b[38;5;241m.\u001b[39mnumpy(),\n\u001b[0;32m   (...)\u001b[0m\n\u001b[1;32m    292\u001b[0m     data\u001b[38;5;241m=\u001b[39m{CLASS_NAME_DATA_FIELD: class_names},\n\u001b[1;32m    293\u001b[0m )\n",
      "File \u001b[0;32m~/.local/lib/python3.12/site-packages/ultralytics/utils/__init__.py:221\u001b[0m, in \u001b[0;36mSimpleClass.__getattr__\u001b[0;34m(self, attr)\u001b[0m\n\u001b[1;32m    219\u001b[0m \u001b[38;5;250m\u001b[39m\u001b[38;5;124;03m\"\"\"Custom attribute access error message with helpful information.\"\"\"\u001b[39;00m\n\u001b[1;32m    220\u001b[0m name \u001b[38;5;241m=\u001b[39m \u001b[38;5;28mself\u001b[39m\u001b[38;5;241m.\u001b[39m\u001b[38;5;18m__class__\u001b[39m\u001b[38;5;241m.\u001b[39m\u001b[38;5;18m__name__\u001b[39m\n\u001b[0;32m--> 221\u001b[0m \u001b[38;5;28;01mraise\u001b[39;00m \u001b[38;5;167;01mAttributeError\u001b[39;00m(\u001b[38;5;124mf\u001b[39m\u001b[38;5;124m\"\u001b[39m\u001b[38;5;124m'\u001b[39m\u001b[38;5;132;01m{\u001b[39;00mname\u001b[38;5;132;01m}\u001b[39;00m\u001b[38;5;124m'\u001b[39m\u001b[38;5;124m object has no attribute \u001b[39m\u001b[38;5;124m'\u001b[39m\u001b[38;5;132;01m{\u001b[39;00mattr\u001b[38;5;132;01m}\u001b[39;00m\u001b[38;5;124m'\u001b[39m\u001b[38;5;124m. See valid attributes below.\u001b[39m\u001b[38;5;130;01m\\n\u001b[39;00m\u001b[38;5;132;01m{\u001b[39;00m\u001b[38;5;28mself\u001b[39m\u001b[38;5;241m.\u001b[39m\u001b[38;5;18m__doc__\u001b[39m\u001b[38;5;132;01m}\u001b[39;00m\u001b[38;5;124m\"\u001b[39m)\n",
      "\u001b[0;31mAttributeError\u001b[0m: 'OBBMetrics' object has no attribute 'boxes'. See valid attributes below.\nMetrics for evaluating oriented bounding box (OBB) detection, see https://arxiv.org/pdf/2106.06072.pdf."
     ]
    }
   ],
   "source": [
    "sv_detections = sv.Detections.from_ultralytics(ultralytics_result)\n"
   ]
  },
  {
   "cell_type": "code",
   "execution_count": null,
   "metadata": {},
   "outputs": [],
   "source": []
  }
 ],
 "metadata": {
  "kernelspec": {
   "display_name": "supervision",
   "language": "python",
   "name": "python3"
  },
  "language_info": {
   "codemirror_mode": {
    "name": "ipython",
    "version": 3
   },
   "file_extension": ".py",
   "mimetype": "text/x-python",
   "name": "python",
   "nbconvert_exporter": "python",
   "pygments_lexer": "ipython3",
   "version": "3.12.4"
  }
 },
 "nbformat": 4,
 "nbformat_minor": 2
}

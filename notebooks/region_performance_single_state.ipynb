{
 "cells": [
  {
   "cell_type": "markdown",
   "metadata": {},
   "source": [
    "##"
   ]
  },
  {
   "cell_type": "markdown",
   "metadata": {},
   "source": [
    "## Train different state and test single state with the same model\n",
    "## Data fetch part"
   ]
  },
  {
   "cell_type": "code",
   "execution_count": 30,
   "metadata": {},
   "outputs": [],
   "source": [
    "import os\n",
    "from collections import Counter\n",
    "import pandas as pd\n",
    "from os.path import join, exists, basename, dirname, splitext, expanduser\n",
    "from shutil import copy2\n",
    "from collections import Counter, defaultdict\n",
    "\n",
    "\n"
   ]
  },
  {
   "cell_type": "code",
   "execution_count": 31,
   "metadata": {},
   "outputs": [
    {
     "name": "stdout",
     "output_type": "stream",
     "text": [
      "Unique first letters and their counts: {'2': 1761, '1': 293}\n",
      "Number of unique first letters: 2\n"
     ]
    }
   ],
   "source": [
    "state_name = \"punjab\"\n",
    "# Directory containing the .txt files\n",
    "directory = f\"/home/patel_zeel/kiln_compass_24/data/{state_name}/labels\"\n",
    "\n",
    "# Initialize a Counter to track the first letters\n",
    "first_letter_counts = Counter()\n",
    "\n",
    "# Iterate through all files in the directory\n",
    "for filename in os.listdir(directory):\n",
    "    if filename.endswith(\".txt\"):  # Process only .txt files\n",
    "        file_path = os.path.join(directory, filename)\n",
    "        with open(file_path, 'r') as file:\n",
    "            for line in file:\n",
    "                if line.strip():  # Ignore empty lines\n",
    "                    first_letter = line.strip()[0]  # Extract the first letter\n",
    "                    first_letter_counts[first_letter] += 1\n",
    "\n",
    "# Print the results\n",
    "print(\"Unique first letters and their counts:\", dict(first_letter_counts))\n",
    "print(\"Number of unique first letters:\", len(first_letter_counts))\n"
   ]
  },
  {
   "cell_type": "code",
   "execution_count": 32,
   "metadata": {},
   "outputs": [
    {
     "name": "stdout",
     "output_type": "stream",
     "text": [
      "Processing class 2: Copying 440 lines.\n",
      "Processing class 2: Copying 73 lines.\n",
      "Lines successfully processed and copied to: ../data/region_performace/punjab_0.25\n"
     ]
    }
   ],
   "source": [
    "ratio=0.25\n",
    "destination_directory = f\"../data/region_performace/{state_name}_{ratio}\"\n",
    "if not exists(destination_directory):\n",
    "    os.makedirs(destination_directory)\n",
    "\n",
    "class_counts = Counter()\n",
    "class_lines = defaultdict(list)\n",
    "for filename in os.listdir(directory):\n",
    "    if filename.endswith('.txt'):\n",
    "        file_path=os.path.join(directory,filename)\n",
    "        with open(file_path,'r') as file:\n",
    "            for line in file:\n",
    "                if line.strip():\n",
    "                    class_label=int(line.split()[0])\n",
    "                    class_counts[class_label]+=1\n",
    "                    class_lines[class_label].append((filename,line.strip()))\n",
    "\n",
    "\n",
    "# Calculate the first 25% for each class and copy files\n",
    "for class_label_,lines in class_lines.items():\n",
    "    num_to_copy =max(1,int(class_counts[class_label_]*ratio))\n",
    "    print(f\"Processing class {class_label}: Copying {num_to_copy} lines.\")\n",
    "    lines_to_copy = lines[:num_to_copy]\n",
    "    for filename,line in lines_to_copy:\n",
    "        src_path=os.path.join(directory,filename)\n",
    "        dest_path=os.path.join(destination_directory,filename)\n",
    "        if os.path.exists(dest_path):\n",
    "            with open(dest_path,'a') as dest_file:\n",
    "                dest_file.write(line+'\\n')\n",
    "        else:\n",
    "            with open(dest_path,'w') as dest_file:\n",
    "                dest_file.write(line+'\\n')\n",
    "\n",
    "print(f\"Lines successfully processed and copied to: {destination_directory}\")\n",
    "\n",
    "\n",
    "    \n"
   ]
  },
  {
   "cell_type": "code",
   "execution_count": 33,
   "metadata": {},
   "outputs": [
    {
     "name": "stdout",
     "output_type": "stream",
     "text": [
      "Unique first letters and their counts: {'2': 440, '1': 73}\n",
      "Number of unique first letters: 2\n"
     ]
    }
   ],
   "source": [
    "\n",
    "directory = f\"../data/region_performace/{state_name}_{ratio}\"\n",
    "\n",
    "# Initialize a Counter to track the first letters\n",
    "first_letter_counts = Counter()\n",
    "\n",
    "# Iterate through all files in the directory\n",
    "for filename in os.listdir(directory):\n",
    "    if filename.endswith(\".txt\"):  # Process only .txt files\n",
    "        file_path = os.path.join(directory, filename)\n",
    "        with open(file_path, 'r') as file:\n",
    "            for line in file:\n",
    "                if line.strip():  # Ignore empty lines\n",
    "                    first_letter = line.strip()[0]  # Extract the first letter\n",
    "                    first_letter_counts[first_letter] += 1\n",
    "\n",
    "# Print the results\n",
    "print(\"Unique first letters and their counts:\", dict(first_letter_counts))\n",
    "print(\"Number of unique first letters:\", len(first_letter_counts))"
   ]
  },
  {
   "cell_type": "code",
   "execution_count": null,
   "metadata": {},
   "outputs": [],
   "source": []
  }
 ],
 "metadata": {
  "kernelspec": {
   "display_name": "rishabh_sat",
   "language": "python",
   "name": "python3"
  },
  "language_info": {
   "codemirror_mode": {
    "name": "ipython",
    "version": 3
   },
   "file_extension": ".py",
   "mimetype": "text/x-python",
   "name": "python",
   "nbconvert_exporter": "python",
   "pygments_lexer": "ipython3",
   "version": "3.12.4"
  }
 },
 "nbformat": 4,
 "nbformat_minor": 2
}

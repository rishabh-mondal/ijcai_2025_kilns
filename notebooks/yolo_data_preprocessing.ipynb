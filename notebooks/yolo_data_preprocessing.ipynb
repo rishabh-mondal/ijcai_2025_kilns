{
 "cells": [
  {
   "cell_type": "code",
   "execution_count": 1,
   "metadata": {},
   "outputs": [
    {
     "data": {
      "text/plain": [
       "True"
      ]
     },
     "execution_count": 1,
     "metadata": {},
     "output_type": "execute_result"
    }
   ],
   "source": [
    "import os\n",
    "import dask\n",
    "import json\n",
    "from os.path import join, dirname, expanduser, splitext, basename\n",
    "import numpy as np\n",
    "from glob import glob\n",
    "import matplotlib.pyplot as plt\n",
    "import geopandas as gpd\n",
    "import pandas as pd\n",
    "import leafmap.leafmap as leafmap\n",
    "from dotenv import load_dotenv\n",
    "import xarray as xr\n",
    "import rioxarray as rxr\n",
    "from PIL import Image\n",
    "from shapely.geometry import mapping, Polygon\n",
    "from tqdm.notebook import tqdm\n",
    "from joblib import Parallel, delayed\n",
    "\n",
    "# import delayed from dask\n",
    "import dask\n",
    "\n",
    "load_dotenv()"
   ]
  },
  {
   "cell_type": "code",
   "execution_count": 2,
   "metadata": {},
   "outputs": [
    {
     "name": "stdout",
     "output_type": "stream",
     "text": [
      "state: bharatpur\n",
      "base_path: /home/rishabh.mondal/Brick-Kilns-project/ijcai_2025_kilns\n",
      "mosaic_id: global_quarterly_2024q1_mosaic\n",
      "image_meta_data: /home/rishabh.mondal/Brick-Kilns-project/ijcai_2025_kilns/raw_data/metadata/bharatpur/global_quarterly_2024q1_mosaic/metadata.geojson\n",
      "imagery_dir: /home/rishabh.mondal/Brick-Kilns-project/ijcai_2025_kilns/raw_data/imagery/global_quarterly_2024q1_mosaic\n",
      "state_label_path: /home/rishabh.mondal/Brick-Kilns-project/ijcai_2025_kilns/final_data/labels/bharatpur.geojson\n",
      "stete_shape_path: /home/rishabh.mondal/Brick-Kilns-project/ijcai_2025_kilns/regions/shapes/bharatpur.geojson\n",
      "save_dir: ../data/region_performance/bharatpur/\n"
     ]
    }
   ],
   "source": [
    "state=\"bharatpur\"\n",
    "save_region=\"bharatpur\"\n",
    "base_path=\"/home/rishabh.mondal/Brick-Kilns-project/ijcai_2025_kilns\"\n",
    "mosaic_id=\"global_quarterly_2024q1_mosaic\"\n",
    "image_meta_data=f\"{base_path}/raw_data/metadata/{state}/{mosaic_id}/metadata.geojson\"\n",
    "imagery_dir = f\"{base_path}/raw_data/imagery/{mosaic_id}\"\n",
    "state_label_path=f\"{base_path}/final_data/labels/{state}.geojson\"\n",
    "stete_shape_path=f\"{base_path}/regions/shapes/{state}.geojson\"\n",
    "save_dir=f\"../data/region_performance/{state}/\"\n",
    "\n",
    "print(f\"state: {state}\")\n",
    "print(f\"base_path: {base_path}\")\n",
    "print(f\"mosaic_id: {mosaic_id}\")\n",
    "print(f\"image_meta_data: {image_meta_data}\")\n",
    "print(f\"imagery_dir: {imagery_dir}\")\n",
    "print(f\"state_label_path: {state_label_path}\")\n",
    "print(f\"stete_shape_path: {stete_shape_path}\")\n",
    "print(f\"save_dir: {save_dir}\")\n"
   ]
  },
  {
   "cell_type": "code",
   "execution_count": 3,
   "metadata": {},
   "outputs": [
    {
     "name": "stdout",
     "output_type": "stream",
     "text": [
      "24\n",
      "['/home/rishabh.mondal/Brick-Kilns-project/ijcai_2025_kilns/raw_data/imagery/global_quarterly_2024q1_mosaic/1461-1188.tif', '/home/rishabh.mondal/Brick-Kilns-project/ijcai_2025_kilns/raw_data/imagery/global_quarterly_2024q1_mosaic/1462-1188.tif', '/home/rishabh.mondal/Brick-Kilns-project/ijcai_2025_kilns/raw_data/imagery/global_quarterly_2024q1_mosaic/1463-1188.tif', '/home/rishabh.mondal/Brick-Kilns-project/ijcai_2025_kilns/raw_data/imagery/global_quarterly_2024q1_mosaic/1461-1187.tif', '/home/rishabh.mondal/Brick-Kilns-project/ijcai_2025_kilns/raw_data/imagery/global_quarterly_2024q1_mosaic/1462-1187.tif']\n"
     ]
    }
   ],
   "source": [
    "# gdf_labels = gpd.read_file(state_label_path).drop(\"style\", errors=\"ignore\", axis=1)\n",
    "# print(gdf_labels.head())\n",
    "color_mapping = {\"CFCBK\": \"red\", \"FCBK\": \"orange\", \"Zigzag\": \"green\"}\n",
    "# gdf_labels[\"style\"] = gdf_labels[\"class_name\"].apply(lambda x: {\"color\": color_mapping[x]})\n",
    "# print(gdf_labels.head())\n",
    "gdf_images = gpd.read_file(image_meta_data)\n",
    "# print(gdf_images.head())\n",
    "# print(len(gdf_labels), len(gdf_images))\n",
    "gdf_image_paths = [join(f\"{base_path}/raw_data/imagery/global_quarterly_2024q1_mosaic\", f\"{Id}.tif\") for Id in gdf_images[\"id\"]]\n",
    "print(len(gdf_image_paths))\n",
    "print(gdf_image_paths[:5])\n",
    "\n"
   ]
  },
  {
   "cell_type": "code",
   "execution_count": 4,
   "metadata": {},
   "outputs": [
    {
     "data": {
      "application/vnd.jupyter.widget-view+json": {
       "model_id": "bca1e8229195489aa91da0049fe5c598",
       "version_major": 2,
       "version_minor": 0
      },
      "text/plain": [
       "Map(center=[20, 0], controls=(ZoomControl(options=['position', 'zoom_in_text', 'zoom_in_title', 'zoom_out_text…"
      ]
     },
     "execution_count": 4,
     "metadata": {},
     "output_type": "execute_result"
    }
   ],
   "source": [
    "m=leafmap.Map()\n",
    "m.add_basemap(\"HYBRID\")\n",
    "m.add_geojson(image_meta_data,zoom_to_layer=True)\n",
    "m"
   ]
  },
  {
   "cell_type": "code",
   "execution_count": 5,
   "metadata": {},
   "outputs": [
    {
     "name": "stdout",
     "output_type": "stream",
     "text": [
      "Total size of images: 1.18 GB\n"
     ]
    }
   ],
   "source": [
    "size_in_gb = sum([os.path.getsize(fp)/1024/1024/1024 for fp in gdf_image_paths])\n",
    "print(f\"Total size of images: {size_in_gb:.2f} GB\")"
   ]
  },
  {
   "cell_type": "code",
   "execution_count": 6,
   "metadata": {},
   "outputs": [
    {
     "name": "stdout",
     "output_type": "stream",
     "text": [
      "24\n",
      "Index([4.777314268052578, 4.777314266189933, 4.7773139998316765,\n",
      "       4.777315000072122],\n",
      "      dtype='float64')\n",
      "[8551165.615795   8551170.39310927 8551175.17042353 ... 8648990.68004347\n",
      " 8648995.45735773 8649000.234672  ]\n",
      "20480 5.0\n",
      "24\n",
      "Index([ 4.777314267121255,  4.777314267586917, 4.7773139998316765,\n",
      "        4.777315000072122,  4.777314000297338],\n",
      "      dtype='float64')\n",
      "28672 7.0\n"
     ]
    }
   ],
   "source": [
    "print(len(gdf_image_paths))\n",
    "x = np.unique(np.concatenate([xr.open_dataset(path).x.values for path in gdf_image_paths]))\n",
    "x.sort()\n",
    "xdiff_index = pd.Series(x).diff().value_counts().index\n",
    "print(xdiff_index)\n",
    "print(x)\n",
    "print(len(x),len(x)/4096)\n",
    "print(len(gdf_image_paths))\n",
    "y = np.unique(np.concatenate([xr.open_dataset(path).y.values for path in gdf_image_paths]))\n",
    "y.sort()\n",
    "diff_index = pd.Series(y).diff().value_counts().index\n",
    "print(diff_index)\n",
    "print(len(y), len(y)/4096)"
   ]
  },
  {
   "cell_type": "code",
   "execution_count": 7,
   "metadata": {},
   "outputs": [
    {
     "name": "stdout",
     "output_type": "stream",
     "text": [
      "<xarray.Dataset> Size: 9GB\n",
      "Dimensions:      (band: 4, y: 28672, x: 20480)\n",
      "Coordinates:\n",
      "  * band         (band) int64 32B 1 2 3 4\n",
      "  * x            (x) float64 164kB 8.551e+06 8.551e+06 ... 8.649e+06 8.649e+06\n",
      "  * y            (y) float64 229kB 3.229e+06 3.229e+06 ... 3.092e+06 3.092e+06\n",
      "    spatial_ref  int64 8B 0\n",
      "Data variables:\n",
      "    band_data    (band, y, x) float32 9GB dask.array<chunksize=(1, 512, 512), meta=np.ndarray>\n"
     ]
    }
   ],
   "source": [
    "ds=xr.open_mfdataset(gdf_image_paths)\n",
    "print(ds)\n",
    "assert len(ds.x.values) % 4096 == 0\n",
    "assert len(ds.y.values) % 4096 == 0"
   ]
  },
  {
   "cell_type": "code",
   "execution_count": 8,
   "metadata": {},
   "outputs": [
    {
     "name": "stdout",
     "output_type": "stream",
     "text": [
      "34 49\n"
     ]
    }
   ],
   "source": [
    "image_size=640\n",
    "overlap=64\n",
    "gap_between_centers=image_size-overlap\n",
    "x_centers=[image_size//2]\n",
    "x_centers.extend(list(range(x_centers[0]+gap_between_centers, len(ds.x), gap_between_centers)))\n",
    "x_centers=x_centers[:-1]\n",
    "y_centers=[image_size//2]\n",
    "y_centers.extend(list(range(y_centers[0]+gap_between_centers, len(ds.y), gap_between_centers)))\n",
    "y_centers=y_centers[:-1]\n",
    "print(len(x_centers), len(y_centers))"
   ]
  },
  {
   "cell_type": "code",
   "execution_count": 9,
   "metadata": {},
   "outputs": [
    {
     "name": "stdout",
     "output_type": "stream",
     "text": [
      "POLYGON ((8551165.615795 3228697.685667, 8554223.09692598 3228697.685667, 8554223.09692598 3225640.2045360208, 8551165.615795 3225640.2045360208, 8551165.615795 3228697.685667))\n"
     ]
    },
    {
     "data": {
      "application/vnd.jupyter.widget-view+json": {
       "model_id": "d88b966049e1423c9e5ba6a01064c11b",
       "version_major": 2,
       "version_minor": 0
      },
      "text/plain": [
       "0it [00:00, ?it/s]"
      ]
     },
     "metadata": {},
     "output_type": "display_data"
    },
    {
     "name": "stdout",
     "output_type": "stream",
     "text": [
      "1666 1666 1666\n"
     ]
    }
   ],
   "source": [
    "x_values=ds.x.values\n",
    "y_values=ds.y.values\n",
    "\n",
    "def get_geometry(x_idx,y_idx):\n",
    "    start_x=x_values[x_idx-image_size//2] #left boundary\n",
    "    start_y=y_values[y_idx-image_size//2] #buttom boundary\n",
    "    end_x=x_values[x_idx+image_size//2] #right boundary\n",
    "    end_y=y_values[y_idx+image_size//2] #top boundary\n",
    "    return Polygon([(start_x,start_y),(end_x,start_y),(end_x,end_y),(start_x,end_y)])\n",
    "\n",
    "print(get_geometry(x_centers[0],y_centers[0]))\n",
    "\n",
    "X,Y=np.meshgrid(x_centers,y_centers)\n",
    "geometries=[get_geometry(x,y) for x,y in tqdm(zip(X.ravel(),Y.ravel()))]\n",
    "x_indices=[x for x in X.ravel()]\n",
    "y_indices=[y for y in Y.ravel()]\n",
    "print(len(geometries),len(x_indices),len(y_indices))\n"
   ]
  },
  {
   "cell_type": "code",
   "execution_count": 33,
   "metadata": {},
   "outputs": [],
   "source": [
    "# x_indices\n",
    "# y_indices"
   ]
  },
  {
   "cell_type": "code",
   "execution_count": 10,
   "metadata": {},
   "outputs": [
    {
     "name": "stdout",
     "output_type": "stream",
     "text": [
      "1666\n",
      "EPSG:3857\n",
      "number of potential images:  1666\n"
     ]
    },
    {
     "data": {
      "text/html": [
       "<div>\n",
       "<style scoped>\n",
       "    .dataframe tbody tr th:only-of-type {\n",
       "        vertical-align: middle;\n",
       "    }\n",
       "\n",
       "    .dataframe tbody tr th {\n",
       "        vertical-align: top;\n",
       "    }\n",
       "\n",
       "    .dataframe thead th {\n",
       "        text-align: right;\n",
       "    }\n",
       "</style>\n",
       "<table border=\"1\" class=\"dataframe\">\n",
       "  <thead>\n",
       "    <tr style=\"text-align: right;\">\n",
       "      <th></th>\n",
       "      <th>geometry</th>\n",
       "      <th>x_idx</th>\n",
       "      <th>y_idx</th>\n",
       "    </tr>\n",
       "  </thead>\n",
       "  <tbody>\n",
       "    <tr>\n",
       "      <th>0</th>\n",
       "      <td>POLYGON ((8551165.616 3228697.686, 8554223.097...</td>\n",
       "      <td>320</td>\n",
       "      <td>320</td>\n",
       "    </tr>\n",
       "    <tr>\n",
       "      <th>1</th>\n",
       "      <td>POLYGON ((8553917.349 3228697.686, 8556974.83 ...</td>\n",
       "      <td>896</td>\n",
       "      <td>320</td>\n",
       "    </tr>\n",
       "  </tbody>\n",
       "</table>\n",
       "</div>"
      ],
      "text/plain": [
       "                                            geometry  x_idx  y_idx\n",
       "0  POLYGON ((8551165.616 3228697.686, 8554223.097...    320    320\n",
       "1  POLYGON ((8553917.349 3228697.686, 8556974.83 ...    896    320"
      ]
     },
     "execution_count": 10,
     "metadata": {},
     "output_type": "execute_result"
    }
   ],
   "source": [
    "potential_image_gdf=gpd.GeoDataFrame(geometry=geometries)\n",
    "print(len(potential_image_gdf))\n",
    "potential_image_gdf[\"x_idx\"]=x_indices\n",
    "potential_image_gdf[\"y_idx\"]=y_indices\n",
    "potential_image_gdf.reset_index(inplace=True,drop=True)\n",
    "print(ds.rio.crs)   \n",
    "potential_image_gdf.crs=ds.rio.crs\n",
    "print(\"number of potential images: \",len(potential_image_gdf))\n",
    "potential_image_gdf.head(2)\n"
   ]
  },
  {
   "cell_type": "code",
   "execution_count": 11,
   "metadata": {},
   "outputs": [
    {
     "name": "stdout",
     "output_type": "stream",
     "text": [
      "EPSG:4326\n",
      "EPSG:3857\n"
     ]
    },
    {
     "data": {
      "text/html": [
       "<div>\n",
       "<style scoped>\n",
       "    .dataframe tbody tr th:only-of-type {\n",
       "        vertical-align: middle;\n",
       "    }\n",
       "\n",
       "    .dataframe tbody tr th {\n",
       "        vertical-align: top;\n",
       "    }\n",
       "\n",
       "    .dataframe thead th {\n",
       "        text-align: right;\n",
       "    }\n",
       "</style>\n",
       "<table border=\"1\" class=\"dataframe\">\n",
       "  <thead>\n",
       "    <tr style=\"text-align: right;\">\n",
       "      <th></th>\n",
       "      <th>geometry</th>\n",
       "      <th>x_idx</th>\n",
       "      <th>y_idx</th>\n",
       "    </tr>\n",
       "  </thead>\n",
       "  <tbody>\n",
       "    <tr>\n",
       "      <th>1438</th>\n",
       "      <td>POLYGON ((8578682.946 3113124.899, 8581740.427...</td>\n",
       "      <td>6080</td>\n",
       "      <td>24512</td>\n",
       "    </tr>\n",
       "    <tr>\n",
       "      <th>1474</th>\n",
       "      <td>POLYGON ((8584186.412 3110373.166, 8587243.893...</td>\n",
       "      <td>7232</td>\n",
       "      <td>25088</td>\n",
       "    </tr>\n",
       "  </tbody>\n",
       "</table>\n",
       "</div>"
      ],
      "text/plain": [
       "                                               geometry  x_idx  y_idx\n",
       "1438  POLYGON ((8578682.946 3113124.899, 8581740.427...   6080  24512\n",
       "1474  POLYGON ((8584186.412 3110373.166, 8587243.893...   7232  25088"
      ]
     },
     "metadata": {},
     "output_type": "display_data"
    },
    {
     "data": {
      "text/plain": [
       "686"
      ]
     },
     "execution_count": 11,
     "metadata": {},
     "output_type": "execute_result"
    }
   ],
   "source": [
    "shape_gdf=gpd.read_file(stete_shape_path)\n",
    "print(shape_gdf.crs)\n",
    "shape_gdf=shape_gdf.to_crs(\"EPSG:3857\")\n",
    "assert potential_image_gdf.crs == shape_gdf.crs\n",
    "print(shape_gdf.crs)\n",
    "images_within_shape = gpd.sjoin(shape_gdf, potential_image_gdf, predicate=\"contains\")\n",
    "images_within_shape = potential_image_gdf.loc[images_within_shape.index_right]\n",
    "display(images_within_shape.head(2))\n",
    "len(images_within_shape)\n",
    "\n"
   ]
  },
  {
   "cell_type": "code",
   "execution_count": 12,
   "metadata": {},
   "outputs": [
    {
     "data": {
      "application/vnd.jupyter.widget-view+json": {
       "model_id": "0c23063190d74740abb78a837a2a71cb",
       "version_major": 2,
       "version_minor": 0
      },
      "text/plain": [
       "Map(center=[20, 0], controls=(ZoomControl(options=['position', 'zoom_in_text', 'zoom_in_title', 'zoom_out_text…"
      ]
     },
     "execution_count": 12,
     "metadata": {},
     "output_type": "execute_result"
    }
   ],
   "source": [
    "m = leafmap.Map()\n",
    "m.add_basemap(\"HYBRID\")\n",
    "m.add_gdf(shape_gdf, layer_name=\"Shape\", style={\"color\": \"black\"})\n",
    "m.add_gdf(images_within_shape, layer_name=\"Images within shape\",zoom_to_layer=True)\n",
    "m"
   ]
  },
  {
   "cell_type": "code",
   "execution_count": 13,
   "metadata": {},
   "outputs": [
    {
     "data": {
      "text/html": [
       "<div>\n",
       "<style scoped>\n",
       "    .dataframe tbody tr th:only-of-type {\n",
       "        vertical-align: middle;\n",
       "    }\n",
       "\n",
       "    .dataframe tbody tr th {\n",
       "        vertical-align: top;\n",
       "    }\n",
       "\n",
       "    .dataframe thead th {\n",
       "        text-align: right;\n",
       "    }\n",
       "</style>\n",
       "<table border=\"1\" class=\"dataframe\">\n",
       "  <thead>\n",
       "    <tr style=\"text-align: right;\">\n",
       "      <th></th>\n",
       "      <th>geometry</th>\n",
       "      <th>x_idx</th>\n",
       "      <th>y_idx</th>\n",
       "      <th>x</th>\n",
       "      <th>y</th>\n",
       "    </tr>\n",
       "  </thead>\n",
       "  <tbody>\n",
       "    <tr>\n",
       "      <th>1438</th>\n",
       "      <td>POLYGON ((8578682.946 3113124.899, 8581740.427...</td>\n",
       "      <td>6080</td>\n",
       "      <td>24512</td>\n",
       "      <td>8580211</td>\n",
       "      <td>3111596</td>\n",
       "    </tr>\n",
       "    <tr>\n",
       "      <th>1474</th>\n",
       "      <td>POLYGON ((8584186.412 3110373.166, 8587243.893...</td>\n",
       "      <td>7232</td>\n",
       "      <td>25088</td>\n",
       "      <td>8585715</td>\n",
       "      <td>3108844</td>\n",
       "    </tr>\n",
       "    <tr>\n",
       "      <th>1440</th>\n",
       "      <td>POLYGON ((8584186.412 3113124.899, 8587243.893...</td>\n",
       "      <td>7232</td>\n",
       "      <td>24512</td>\n",
       "      <td>8585715</td>\n",
       "      <td>3111596</td>\n",
       "    </tr>\n",
       "    <tr>\n",
       "      <th>1439</th>\n",
       "      <td>POLYGON ((8581434.679 3113124.899, 8584492.16 ...</td>\n",
       "      <td>6656</td>\n",
       "      <td>24512</td>\n",
       "      <td>8582963</td>\n",
       "      <td>3111596</td>\n",
       "    </tr>\n",
       "    <tr>\n",
       "      <th>1405</th>\n",
       "      <td>POLYGON ((8581434.679 3115876.632, 8584492.16 ...</td>\n",
       "      <td>6656</td>\n",
       "      <td>23936</td>\n",
       "      <td>8582963</td>\n",
       "      <td>3114347</td>\n",
       "    </tr>\n",
       "    <tr>\n",
       "      <th>1404</th>\n",
       "      <td>POLYGON ((8578682.946 3115876.632, 8581740.427...</td>\n",
       "      <td>6080</td>\n",
       "      <td>23936</td>\n",
       "      <td>8580211</td>\n",
       "      <td>3114347</td>\n",
       "    </tr>\n",
       "  </tbody>\n",
       "</table>\n",
       "</div>"
      ],
      "text/plain": [
       "                                               geometry  x_idx  y_idx  \\\n",
       "1438  POLYGON ((8578682.946 3113124.899, 8581740.427...   6080  24512   \n",
       "1474  POLYGON ((8584186.412 3110373.166, 8587243.893...   7232  25088   \n",
       "1440  POLYGON ((8584186.412 3113124.899, 8587243.893...   7232  24512   \n",
       "1439  POLYGON ((8581434.679 3113124.899, 8584492.16 ...   6656  24512   \n",
       "1405  POLYGON ((8581434.679 3115876.632, 8584492.16 ...   6656  23936   \n",
       "1404  POLYGON ((8578682.946 3115876.632, 8581740.427...   6080  23936   \n",
       "\n",
       "            x        y  \n",
       "1438  8580211  3111596  \n",
       "1474  8585715  3108844  \n",
       "1440  8585715  3111596  \n",
       "1439  8582963  3111596  \n",
       "1405  8582963  3114347  \n",
       "1404  8580211  3114347  "
      ]
     },
     "execution_count": 13,
     "metadata": {},
     "output_type": "execute_result"
    }
   ],
   "source": [
    "images_within_shape['x'] = images_within_shape['x_idx'].apply(lambda x: int(x_values[x]))\n",
    "images_within_shape['y'] = images_within_shape['y_idx'].apply(lambda x: int(y_values[x]))\n",
    "images_within_shape.head(6)"
   ]
  },
  {
   "cell_type": "code",
   "execution_count": 38,
   "metadata": {},
   "outputs": [],
   "source": [
    "os.makedirs(f\"../data/{save_region}\", exist_ok=True)\n",
    "images_within_shape.reset_index(drop=True).to_file(f\"../data/{save_region}/metadata.geojson\", driver=\"GeoJSON\")"
   ]
  },
  {
   "cell_type": "code",
   "execution_count": 39,
   "metadata": {},
   "outputs": [
    {
     "data": {
      "application/vnd.jupyter.widget-view+json": {
       "model_id": "154c2f3a1b2448e386f2a53090305dd3",
       "version_major": 2,
       "version_minor": 0
      },
      "text/plain": [
       "0it [00:00, ?it/s]"
      ]
     },
     "metadata": {},
     "output_type": "display_data"
    }
   ],
   "source": [
    "samples = []\n",
    "x_idx_list = []\n",
    "y_idx_list = []\n",
    "for x_idx, y_idx in tqdm(zip(images_within_shape[\"x_idx\"], images_within_shape[\"y_idx\"])):\n",
    "    x = x_values[x_idx]\n",
    "    y = y_values[y_idx]\n",
    "    save_path = join(save_dir, \"images\", f\"{int(x)}_{int(y)}.tif\")\n",
    "    if os.path.exists(save_path):\n",
    "        try:\n",
    "            image = Image.open(save_path)\n",
    "            assert image.size == (image_size, image_size)\n",
    "            continue\n",
    "        except Exception as e:\n",
    "            print(f\"Error: {e}\")\n",
    "            print(f\"Loading {save_path} failed. Overwriting the file.\")\n",
    "    sample = ds.isel(x=slice(x_idx - image_size//2, x_idx + image_size//2), y=slice(y_idx - image_size//2, y_idx + image_size//2), band=slice(0, 3))\n",
    "    samples.append(sample)\n",
    "    x_idx_list.append(x_idx)\n",
    "    y_idx_list.append(y_idx)"
   ]
  },
  {
   "cell_type": "code",
   "execution_count": 40,
   "metadata": {},
   "outputs": [
    {
     "name": "stdout",
     "output_type": "stream",
     "text": [
      "686 686 686\n"
     ]
    }
   ],
   "source": [
    "print(len(samples), len(x_idx_list), len(y_idx_list))"
   ]
  },
  {
   "cell_type": "code",
   "execution_count": null,
   "metadata": {},
   "outputs": [],
   "source": []
  },
  {
   "cell_type": "code",
   "execution_count": 41,
   "metadata": {},
   "outputs": [],
   "source": [
    "def save_sample(sample, x_idx, y_idx):\n",
    "    x = x_values[x_idx]\n",
    "    y = y_values[y_idx]\n",
    "    save_path = join(save_dir, \"images\", f\"{int(x)}_{int(y)}.tif\")\n",
    "    \n",
    "    sample = sample.band_data.load()\n",
    "    # fill NaN values with 0\n",
    "    sample = sample.fillna(0)\n",
    "    # convert to uint8\n",
    "    sample = sample.astype(np.uint8)\n",
    "    sample.rio.to_raster(save_path)\n",
    "    del sample"
   ]
  },
  {
   "cell_type": "code",
   "execution_count": 42,
   "metadata": {},
   "outputs": [
    {
     "data": {
      "application/vnd.jupyter.widget-view+json": {
       "model_id": "fa6aa1970f8e49dcba89cee5af0e0681",
       "version_major": 2,
       "version_minor": 0
      },
      "text/plain": [
       "0it [00:00, ?it/s]"
      ]
     },
     "metadata": {},
     "output_type": "display_data"
    },
    {
     "name": "stdout",
     "output_type": "stream",
     "text": [
      "Number of delayed tasks: 686\n"
     ]
    }
   ],
   "source": [
    "delayed_tasks = [dask.delayed(save_sample)(sample, x_idx, y_idx) for sample, x_idx, y_idx in tqdm(zip(samples, x_idx_list, y_idx_list))]\n",
    "print(\"Number of delayed tasks:\", len(delayed_tasks))"
   ]
  },
  {
   "cell_type": "code",
   "execution_count": 43,
   "metadata": {},
   "outputs": [
    {
     "data": {
      "application/vnd.jupyter.widget-view+json": {
       "model_id": "487097eef1734cf3ad1d9084d2aacc37",
       "version_major": 2,
       "version_minor": 0
      },
      "text/plain": [
       "  0%|          | 0/1 [00:00<?, ?it/s]"
      ]
     },
     "metadata": {},
     "output_type": "display_data"
    }
   ],
   "source": [
    "os.makedirs(join(save_dir, \"images\"), exist_ok=True)\n",
    "for i in tqdm(range(0, len(delayed_tasks), 1000)):\n",
    "    _ = dask.compute(*delayed_tasks[i:i+1000])"
   ]
  },
  {
   "cell_type": "code",
   "execution_count": null,
   "metadata": {},
   "outputs": [],
   "source": []
  },
  {
   "cell_type": "code",
   "execution_count": null,
   "metadata": {},
   "outputs": [],
   "source": []
  },
  {
   "cell_type": "code",
   "execution_count": null,
   "metadata": {},
   "outputs": [],
   "source": []
  },
  {
   "cell_type": "code",
   "execution_count": null,
   "metadata": {},
   "outputs": [],
   "source": []
  },
  {
   "cell_type": "code",
   "execution_count": 54,
   "metadata": {},
   "outputs": [
    {
     "name": "stdout",
     "output_type": "stream",
     "text": [
      "PROJCS[\"WGS 84 / Pseudo-Mercator\",GEOGCS[\"WGS 84\",DATUM[\"WGS_1984\",SPHEROID[\"WGS 84\",6378137,298.257223563,AUTHORITY[\"EPSG\",\"7030\"]],AUTHORITY[\"EPSG\",\"6326\"]],PRIMEM[\"Greenwich\",0,AUTHORITY[\"EPSG\",\"8901\"]],UNIT[\"degree\",0.0174532925199433,AUTHORITY[\"EPSG\",\"9122\"]],AUTHORITY[\"EPSG\",\"4326\"]],PROJECTION[\"Mercator_1SP\"],PARAMETER[\"central_meridian\",0],PARAMETER[\"scale_factor\",1],PARAMETER[\"false_easting\",0],PARAMETER[\"false_northing\",0],UNIT[\"metre\",1,AUTHORITY[\"EPSG\",\"9001\"]],AXIS[\"Easting\",EAST],AXIS[\"Northing\",NORTH],EXTENSION[\"PROJ4\",\"+proj=merc +a=6378137 +b=6378137 +lat_ts=0 +lon_0=0 +x_0=0 +y_0=0 +k=1 +units=m +nadgrids=@null +wktext +no_defs\"],AUTHORITY[\"EPSG\",\"3857\"]]\n",
      "Number of labels: 2079\n"
     ]
    },
    {
     "data": {
      "text/html": [
       "<div>\n",
       "<style scoped>\n",
       "    .dataframe tbody tr th:only-of-type {\n",
       "        vertical-align: middle;\n",
       "    }\n",
       "\n",
       "    .dataframe tbody tr th {\n",
       "        vertical-align: top;\n",
       "    }\n",
       "\n",
       "    .dataframe thead th {\n",
       "        text-align: right;\n",
       "    }\n",
       "</style>\n",
       "<table border=\"1\" class=\"dataframe\">\n",
       "  <thead>\n",
       "    <tr style=\"text-align: right;\">\n",
       "      <th></th>\n",
       "      <th>class_name</th>\n",
       "      <th>confidence</th>\n",
       "      <th>max_lon</th>\n",
       "      <th>min_lon</th>\n",
       "      <th>max_lat</th>\n",
       "      <th>min_lat</th>\n",
       "      <th>center_lat</th>\n",
       "      <th>center_lon</th>\n",
       "      <th>width_of_box</th>\n",
       "      <th>height_of_box</th>\n",
       "      <th>...</th>\n",
       "      <th>image_center_x</th>\n",
       "      <th>image_center_y</th>\n",
       "      <th>zoom</th>\n",
       "      <th>resolution</th>\n",
       "      <th>source</th>\n",
       "      <th>task_name</th>\n",
       "      <th>geo_box</th>\n",
       "      <th>type</th>\n",
       "      <th>geometry</th>\n",
       "      <th>style</th>\n",
       "    </tr>\n",
       "  </thead>\n",
       "  <tbody>\n",
       "    <tr>\n",
       "      <th>0</th>\n",
       "      <td>Zigzag</td>\n",
       "      <td>0.933886</td>\n",
       "      <td>76.797074</td>\n",
       "      <td>76.795983</td>\n",
       "      <td>28.563398</td>\n",
       "      <td>28.562967</td>\n",
       "      <td>28.563183</td>\n",
       "      <td>76.796528</td>\n",
       "      <td>106.745525</td>\n",
       "      <td>47.777206</td>\n",
       "      <td>...</td>\n",
       "      <td>28.56</td>\n",
       "      <td>76.8</td>\n",
       "      <td>17.0</td>\n",
       "      <td>None</td>\n",
       "      <td>Drawn|Azure Maps Satellite</td>\n",
       "      <td></td>\n",
       "      <td>None</td>\n",
       "      <td>None</td>\n",
       "      <td>POLYGON ((8548889.723 3320190.979, 8548890.502...</td>\n",
       "      <td>{'color': 'green'}</td>\n",
       "    </tr>\n",
       "    <tr>\n",
       "      <th>1</th>\n",
       "      <td>Zigzag</td>\n",
       "      <td>0.922288</td>\n",
       "      <td>75.599003</td>\n",
       "      <td>75.597782</td>\n",
       "      <td>29.332909</td>\n",
       "      <td>29.332447</td>\n",
       "      <td>29.332678</td>\n",
       "      <td>75.598392</td>\n",
       "      <td>118.571004</td>\n",
       "      <td>51.207369</td>\n",
       "      <td>...</td>\n",
       "      <td>29.33</td>\n",
       "      <td>75.6</td>\n",
       "      <td>17.0</td>\n",
       "      <td>None</td>\n",
       "      <td>Drawn|Azure Maps Satellite</td>\n",
       "      <td></td>\n",
       "      <td>None</td>\n",
       "      <td>None</td>\n",
       "      <td>POLYGON ((8415642.296 3418027.518, 8415642.518...</td>\n",
       "      <td>{'color': 'green'}</td>\n",
       "    </tr>\n",
       "  </tbody>\n",
       "</table>\n",
       "<p>2 rows × 27 columns</p>\n",
       "</div>"
      ],
      "text/plain": [
       "  class_name  confidence    max_lon    min_lon    max_lat    min_lat  \\\n",
       "0     Zigzag    0.933886  76.797074  76.795983  28.563398  28.562967   \n",
       "1     Zigzag    0.922288  75.599003  75.597782  29.332909  29.332447   \n",
       "\n",
       "   center_lat  center_lon  width_of_box  height_of_box  ...  image_center_x  \\\n",
       "0   28.563183   76.796528    106.745525      47.777206  ...           28.56   \n",
       "1   29.332678   75.598392    118.571004      51.207369  ...           29.33   \n",
       "\n",
       "   image_center_y  zoom resolution                      source  task_name  \\\n",
       "0            76.8  17.0       None  Drawn|Azure Maps Satellite              \n",
       "1            75.6  17.0       None  Drawn|Azure Maps Satellite              \n",
       "\n",
       "   geo_box  type                                           geometry  \\\n",
       "0     None  None  POLYGON ((8548889.723 3320190.979, 8548890.502...   \n",
       "1     None  None  POLYGON ((8415642.296 3418027.518, 8415642.518...   \n",
       "\n",
       "                style  \n",
       "0  {'color': 'green'}  \n",
       "1  {'color': 'green'}  \n",
       "\n",
       "[2 rows x 27 columns]"
      ]
     },
     "execution_count": 54,
     "metadata": {},
     "output_type": "execute_result"
    }
   ],
   "source": [
    "## Load the state geojson\n",
    "gdf_labels_webm=gdf_labels.to_crs(potential_image_gdf.crs)\n",
    "gdf_labels_webm.reset_index(inplace=True, drop=True)\n",
    "print(gdf_labels_webm.crs)\n",
    "print(\"Number of labels:\", len(gdf_labels_webm))\n",
    "\n",
    "gdf_labels_webm.head(2)"
   ]
  },
  {
   "cell_type": "code",
   "execution_count": 55,
   "metadata": {},
   "outputs": [
    {
     "name": "stdout",
     "output_type": "stream",
     "text": [
      "Number of labels to write: 2316\n",
      "Number of unique images: 1139\n",
      "Number of unique labels: 2015\n"
     ]
    }
   ],
   "source": [
    "images_with_label=gpd.sjoin(images_within_shape,gdf_labels_webm,predicate=\"contains\")\n",
    "images_with_label['geometry_right'] = images_with_label['index_right'].apply(lambda x: gdf_labels_webm.loc[x, 'geometry'])\n",
    "print(f\"Number of labels to write: {len(images_with_label)}\")\n",
    "\n",
    "print(f\"Number of unique images: {len(images_with_label.drop_duplicates(subset='geometry'))}\")\n",
    "print(f\"Number of unique labels: {len(images_with_label.drop_duplicates(subset='geometry_right'))}\")"
   ]
  },
  {
   "cell_type": "code",
   "execution_count": 56,
   "metadata": {},
   "outputs": [],
   "source": [
    "# images_within_shape\n",
    "# gdf_labels_webm"
   ]
  },
  {
   "cell_type": "code",
   "execution_count": 57,
   "metadata": {},
   "outputs": [],
   "source": [
    "class_mapping = {\"CFCBK\": 0, \"FCBK\": 1, \"Zigzag\": 2}\n",
    "\n",
    "def get_yolo_label(x):\n",
    "    min_x, min_y, max_x, max_y = x['geometry'].bounds\n",
    "    coords = np.array(x['geometry_right'].__geo_interface__['coordinates'][0])\n",
    "    coords = coords[:-1]\n",
    "    # normalize\n",
    "    coords[:, 0] = (coords[:, 0] - min_x) / (max_x - min_x)\n",
    "    coords[:, 1] = 1 - (coords[:, 1] - min_y) / (max_y - min_y)\n",
    "    \n",
    "    coords = coords.ravel()\n",
    "    assert len(coords) == 8\n",
    "    \n",
    "    class_id = class_mapping[x['class_name']]\n",
    "    label = np.zeros(9) * np.nan\n",
    "    label[0] = class_id\n",
    "    label[1:] = coords\n",
    "    return label\n",
    "\n"
   ]
  },
  {
   "cell_type": "code",
   "execution_count": 58,
   "metadata": {},
   "outputs": [
    {
     "data": {
      "text/plain": [
       "1139"
      ]
     },
     "execution_count": 58,
     "metadata": {},
     "output_type": "execute_result"
    }
   ],
   "source": [
    "images_with_label['yolo_label'] = images_with_label.apply(get_yolo_label, axis=1)\n",
    "images_with_label.head(2)\n",
    "ready_to_save_gdf = images_with_label.groupby(\"geometry\").agg({\"yolo_label\": np.vstack, \"x_idx\": \"first\", \"y_idx\": \"first\"}).reset_index()\n",
    "len(ready_to_save_gdf)"
   ]
  },
  {
   "cell_type": "code",
   "execution_count": 59,
   "metadata": {},
   "outputs": [
    {
     "data": {
      "text/plain": [
       "1139"
      ]
     },
     "execution_count": 59,
     "metadata": {},
     "output_type": "execute_result"
    }
   ],
   "source": [
    "ready_to_save_gdf['x'] = ready_to_save_gdf['x_idx'].apply(lambda x: str(int(x_values[x])))\n",
    "ready_to_save_gdf['y'] = ready_to_save_gdf['y_idx'].apply(lambda x: str(int(y_values[x])))\n",
    "len(ready_to_save_gdf)\n",
    "# display(ready_to_save_gdf.tail(2))"
   ]
  },
  {
   "cell_type": "code",
   "execution_count": 60,
   "metadata": {},
   "outputs": [
    {
     "name": "stdout",
     "output_type": "stream",
     "text": [
      "save_dir='../processed_data/haryana/'\n"
     ]
    }
   ],
   "source": [
    "def save_label(x):\n",
    "    label = x['yolo_label']\n",
    "    save_path = join(save_dir, \"labels\", f\"{x['x']}_{x['y']}.txt\")\n",
    "    np.savetxt(save_path, label, fmt=\"%d %f %f %f %f %f %f %f %f\")\n",
    "    \n",
    "print(f\"{save_dir=}\")\n",
    "os.makedirs(join(save_dir, \"labels\"), exist_ok=True)\n",
    "_ = ready_to_save_gdf.apply(save_label, axis=1)"
   ]
  },
  {
   "cell_type": "code",
   "execution_count": null,
   "metadata": {},
   "outputs": [],
   "source": []
  }
 ],
 "metadata": {
  "kernelspec": {
   "display_name": "rishabh_sat",
   "language": "python",
   "name": "python3"
  },
  "language_info": {
   "codemirror_mode": {
    "name": "ipython",
    "version": 3
   },
   "file_extension": ".py",
   "mimetype": "text/x-python",
   "name": "python",
   "nbconvert_exporter": "python",
   "pygments_lexer": "ipython3",
   "version": "3.12.4"
  }
 },
 "nbformat": 4,
 "nbformat_minor": 2
}

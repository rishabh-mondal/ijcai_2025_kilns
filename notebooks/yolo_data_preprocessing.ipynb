{
 "cells": [
  {
   "cell_type": "code",
   "execution_count": 36,
   "metadata": {},
   "outputs": [
    {
     "data": {
      "text/plain": [
       "True"
      ]
     },
     "execution_count": 36,
     "metadata": {},
     "output_type": "execute_result"
    }
   ],
   "source": [
    "import os\n",
    "import dask\n",
    "import json\n",
    "from os.path import join, dirname, expanduser, splitext, basename\n",
    "import numpy as np\n",
    "from glob import glob\n",
    "import matplotlib.pyplot as plt\n",
    "import geopandas as gpd\n",
    "import pandas as pd\n",
    "import leafmap.leafmap as leafmap\n",
    "from dotenv import load_dotenv\n",
    "import xarray as xr\n",
    "import rioxarray as rxr\n",
    "from PIL import Image\n",
    "from shapely.geometry import mapping, Polygon\n",
    "from tqdm.notebook import tqdm\n",
    "from joblib import Parallel, delayed\n",
    "\n",
    "# import delayed from dask\n",
    "import dask\n",
    "\n",
    "load_dotenv()"
   ]
  },
  {
   "cell_type": "code",
   "execution_count": 37,
   "metadata": {},
   "outputs": [
    {
     "name": "stdout",
     "output_type": "stream",
     "text": [
      "state: bihar\n",
      "base_path: /home/patel_zeel/kiln_compass_24\n",
      "mosaic_id: global_quarterly_2024q1_mosaic\n",
      "image_meta_data: /home/patel_zeel/kiln_compass_24/raw_data/metadata/bihar/global_quarterly_2024q1_mosaic/metadata.geojson\n",
      "imagery_dir: /home/patel_zeel/kiln_compass_24/raw_data/imagery/global_quarterly_2024q1_mosaic\n",
      "state_label_path: /home/patel_zeel/kiln_compass_24/final_data/labels/bihar.geojson\n",
      "stete_shape_path: /home/patel_zeel/kiln_compass_24/regions/shapes/bihar.geojson\n",
      "save_dir: ../processed_data/bihar/\n"
     ]
    }
   ],
   "source": [
    "state=\"bihar\"\n",
    "base_path=\"/home/patel_zeel/kiln_compass_24\"\n",
    "mosaic_id=\"global_quarterly_2024q1_mosaic\"\n",
    "image_meta_data=f\"{base_path}/raw_data/metadata/{state}/{mosaic_id}/metadata.geojson\"\n",
    "imagery_dir = f\"{base_path}/raw_data/imagery/{mosaic_id}\"\n",
    "state_label_path=f\"{base_path}/final_data/labels/{state}.geojson\"\n",
    "stete_shape_path=f\"{base_path}/regions/shapes/{state}.geojson\"\n",
    "save_dir=f\"../processed_data/{state}/\"\n",
    "\n",
    "print(f\"state: {state}\")\n",
    "print(f\"base_path: {base_path}\")\n",
    "print(f\"mosaic_id: {mosaic_id}\")\n",
    "print(f\"image_meta_data: {image_meta_data}\")\n",
    "print(f\"imagery_dir: {imagery_dir}\")\n",
    "print(f\"state_label_path: {state_label_path}\")\n",
    "print(f\"stete_shape_path: {stete_shape_path}\")\n",
    "print(f\"save_dir: {save_dir}\")\n"
   ]
  },
  {
   "cell_type": "code",
   "execution_count": 38,
   "metadata": {},
   "outputs": [
    {
     "name": "stdout",
     "output_type": "stream",
     "text": [
      "6048 360\n",
      "360\n",
      "['/home/patel_zeel/kiln_compass_24/raw_data/imagery/global_quarterly_2024q1_mosaic/1501-1186.tif', '/home/patel_zeel/kiln_compass_24/raw_data/imagery/global_quarterly_2024q1_mosaic/1502-1186.tif', '/home/patel_zeel/kiln_compass_24/raw_data/imagery/global_quarterly_2024q1_mosaic/1503-1186.tif', '/home/patel_zeel/kiln_compass_24/raw_data/imagery/global_quarterly_2024q1_mosaic/1504-1186.tif', '/home/patel_zeel/kiln_compass_24/raw_data/imagery/global_quarterly_2024q1_mosaic/1501-1185.tif']\n"
     ]
    }
   ],
   "source": [
    "gdf_labels = gpd.read_file(state_label_path).drop(\"style\", errors=\"ignore\", axis=1)\n",
    "# print(gdf_labels.head())\n",
    "color_mapping = {\"CFCBK\": \"red\", \"FCBK\": \"orange\", \"Zigzag\": \"green\"}\n",
    "gdf_labels[\"style\"] = gdf_labels[\"class_name\"].apply(lambda x: {\"color\": color_mapping[x]})\n",
    "# print(gdf_labels.head())\n",
    "gdf_images = gpd.read_file(image_meta_data)\n",
    "# print(gdf_images.head())\n",
    "print(len(gdf_labels), len(gdf_images))\n",
    "gdf_image_paths = [join(f\"{base_path}/raw_data/imagery/global_quarterly_2024q1_mosaic\", f\"{Id}.tif\") for Id in gdf_images[\"id\"]]\n",
    "print(len(gdf_image_paths))\n",
    "print(gdf_image_paths[:5])\n",
    "\n"
   ]
  },
  {
   "cell_type": "code",
   "execution_count": 39,
   "metadata": {},
   "outputs": [
    {
     "data": {
      "application/vnd.jupyter.widget-view+json": {
       "model_id": "cb14c33e3bd54a7db0da5bf5b63f84f8",
       "version_major": 2,
       "version_minor": 0
      },
      "text/plain": [
       "Map(center=[20, 0], controls=(ZoomControl(options=['position', 'zoom_in_text', 'zoom_in_title', 'zoom_out_text…"
      ]
     },
     "execution_count": 39,
     "metadata": {},
     "output_type": "execute_result"
    }
   ],
   "source": [
    "m=leafmap.Map()\n",
    "m.add_basemap(\"HYBRID\")\n",
    "m.add_geojson(image_meta_data,zoom_to_layer=True)\n",
    "m"
   ]
  },
  {
   "cell_type": "code",
   "execution_count": 5,
   "metadata": {},
   "outputs": [
    {
     "name": "stdout",
     "output_type": "stream",
     "text": [
      "Total size of images: 9.60 GB\n"
     ]
    }
   ],
   "source": [
    "size_in_gb = sum([os.path.getsize(fp)/1024/1024/1024 for fp in gdf_image_paths])\n",
    "print(f\"Total size of images: {size_in_gb:.2f} GB\")"
   ]
  },
  {
   "cell_type": "code",
   "execution_count": 40,
   "metadata": {},
   "outputs": [
    {
     "name": "stdout",
     "output_type": "stream",
     "text": [
      "360\n",
      "Index([ 4.777314268052578,  4.777314266189933, 4.7773139998316765,\n",
      "        4.777315000072122,  4.777314001694322, 4.7773149982094765],\n",
      "      dtype='float64')\n",
      "[9275177.147612   9275181.92492627 9275186.70224053 ... 9842631.31357947\n",
      " 9842636.09089373 9842640.868208  ]\n",
      "118784 29.0\n",
      "360\n",
      "Index([ 4.777314267121255,  4.777314267586917, 4.7773139998316765,\n",
      "        4.777314000297338,  4.777315000072122],\n",
      "      dtype='float64')\n",
      "81920 20.0\n"
     ]
    }
   ],
   "source": [
    "print(len(gdf_image_paths))\n",
    "x = np.unique(np.concatenate([xr.open_dataset(path).x.values for path in gdf_image_paths]))\n",
    "x.sort()\n",
    "xdiff_index = pd.Series(x).diff().value_counts().index\n",
    "print(xdiff_index)\n",
    "print(x)\n",
    "print(len(x),len(x)/4096)\n",
    "print(len(gdf_image_paths))\n",
    "y = np.unique(np.concatenate([xr.open_dataset(path).y.values for path in gdf_image_paths]))\n",
    "y.sort()\n",
    "diff_index = pd.Series(y).diff().value_counts().index\n",
    "print(diff_index)\n",
    "print(len(y), len(y)/4096)"
   ]
  },
  {
   "cell_type": "code",
   "execution_count": 41,
   "metadata": {},
   "outputs": [
    {
     "name": "stdout",
     "output_type": "stream",
     "text": [
      "<xarray.Dataset> Size: 156GB\n",
      "Dimensions:      (band: 4, y: 81920, x: 118784)\n",
      "Coordinates:\n",
      "  * band         (band) int64 32B 1 2 3 4\n",
      "  * x            (x) float64 950kB 9.275e+06 9.275e+06 ... 9.843e+06 9.843e+06\n",
      "  * y            (y) float64 655kB 3.19e+06 3.19e+06 ... 2.798e+06 2.798e+06\n",
      "    spatial_ref  int64 8B 0\n",
      "Data variables:\n",
      "    band_data    (band, y, x) float32 156GB dask.array<chunksize=(1, 512, 512), meta=np.ndarray>\n"
     ]
    }
   ],
   "source": [
    "ds=xr.open_mfdataset(gdf_image_paths)\n",
    "print(ds)\n",
    "assert len(ds.x.values) % 4096 == 0\n",
    "assert len(ds.y.values) % 4096 == 0"
   ]
  },
  {
   "cell_type": "code",
   "execution_count": 42,
   "metadata": {},
   "outputs": [
    {
     "name": "stdout",
     "output_type": "stream",
     "text": [
      "205 141\n"
     ]
    }
   ],
   "source": [
    "image_size=640\n",
    "overlap=64\n",
    "gap_between_centers=image_size-overlap\n",
    "x_centers=[image_size//2]\n",
    "x_centers.extend(list(range(x_centers[0]+gap_between_centers, len(ds.x), gap_between_centers)))\n",
    "x_centers=x_centers[:-1]\n",
    "y_centers=[image_size//2]\n",
    "y_centers.extend(list(range(y_centers[0]+gap_between_centers, len(ds.y), gap_between_centers)))\n",
    "y_centers=y_centers[:-1]\n",
    "print(len(x_centers), len(y_centers))"
   ]
  },
  {
   "cell_type": "code",
   "execution_count": 43,
   "metadata": {},
   "outputs": [
    {
     "name": "stdout",
     "output_type": "stream",
     "text": [
      "POLYGON ((9275177.147612 3189561.92719, 9278234.62874298 3189561.92719, 9278234.62874298 3186504.4460590207, 9275177.147612 3186504.4460590207, 9275177.147612 3189561.92719))\n"
     ]
    },
    {
     "data": {
      "application/vnd.jupyter.widget-view+json": {
       "model_id": "629665bc54a040049068fae37faabba3",
       "version_major": 2,
       "version_minor": 0
      },
      "text/plain": [
       "0it [00:00, ?it/s]"
      ]
     },
     "metadata": {},
     "output_type": "display_data"
    },
    {
     "name": "stdout",
     "output_type": "stream",
     "text": [
      "28905 28905 28905\n"
     ]
    }
   ],
   "source": [
    "x_values=ds.x.values\n",
    "y_values=ds.y.values\n",
    "\n",
    "def get_geometry(x_idx,y_idx):\n",
    "    start_x=x_values[x_idx-image_size//2] #left boundary\n",
    "    start_y=y_values[y_idx-image_size//2] #buttom boundary\n",
    "    end_x=x_values[x_idx+image_size//2] #right boundary\n",
    "    end_y=y_values[y_idx+image_size//2] #top boundary\n",
    "    return Polygon([(start_x,start_y),(end_x,start_y),(end_x,end_y),(start_x,end_y)])\n",
    "\n",
    "print(get_geometry(x_centers[0],y_centers[0]))\n",
    "\n",
    "X,Y=np.meshgrid(x_centers,y_centers)\n",
    "geometries=[get_geometry(x,y) for x,y in tqdm(zip(X.ravel(),Y.ravel()))]\n",
    "x_indices=[x for x in X.ravel()]\n",
    "y_indices=[y for y in Y.ravel()]\n",
    "print(len(geometries),len(x_indices),len(y_indices))\n"
   ]
  },
  {
   "cell_type": "code",
   "execution_count": 44,
   "metadata": {},
   "outputs": [],
   "source": [
    "# x_indices\n",
    "# y_indices"
   ]
  },
  {
   "cell_type": "code",
   "execution_count": 45,
   "metadata": {},
   "outputs": [
    {
     "name": "stdout",
     "output_type": "stream",
     "text": [
      "28905\n",
      "EPSG:3857\n",
      "number of potential images:  28905\n"
     ]
    },
    {
     "data": {
      "text/html": [
       "<div>\n",
       "<style scoped>\n",
       "    .dataframe tbody tr th:only-of-type {\n",
       "        vertical-align: middle;\n",
       "    }\n",
       "\n",
       "    .dataframe tbody tr th {\n",
       "        vertical-align: top;\n",
       "    }\n",
       "\n",
       "    .dataframe thead th {\n",
       "        text-align: right;\n",
       "    }\n",
       "</style>\n",
       "<table border=\"1\" class=\"dataframe\">\n",
       "  <thead>\n",
       "    <tr style=\"text-align: right;\">\n",
       "      <th></th>\n",
       "      <th>geometry</th>\n",
       "      <th>x_idx</th>\n",
       "      <th>y_idx</th>\n",
       "    </tr>\n",
       "  </thead>\n",
       "  <tbody>\n",
       "    <tr>\n",
       "      <th>0</th>\n",
       "      <td>POLYGON ((9275177.148 3189561.927, 9278234.629...</td>\n",
       "      <td>320</td>\n",
       "      <td>320</td>\n",
       "    </tr>\n",
       "    <tr>\n",
       "      <th>1</th>\n",
       "      <td>POLYGON ((9277928.881 3189561.927, 9280986.362...</td>\n",
       "      <td>896</td>\n",
       "      <td>320</td>\n",
       "    </tr>\n",
       "  </tbody>\n",
       "</table>\n",
       "</div>"
      ],
      "text/plain": [
       "                                            geometry  x_idx  y_idx\n",
       "0  POLYGON ((9275177.148 3189561.927, 9278234.629...    320    320\n",
       "1  POLYGON ((9277928.881 3189561.927, 9280986.362...    896    320"
      ]
     },
     "execution_count": 45,
     "metadata": {},
     "output_type": "execute_result"
    }
   ],
   "source": [
    "potential_image_gdf=gpd.GeoDataFrame(geometry=geometries)\n",
    "print(len(potential_image_gdf))\n",
    "potential_image_gdf[\"x_idx\"]=x_indices\n",
    "potential_image_gdf[\"y_idx\"]=y_indices\n",
    "potential_image_gdf.reset_index(inplace=True,drop=True)\n",
    "print(ds.rio.crs)   \n",
    "potential_image_gdf.crs=ds.rio.crs\n",
    "print(\"number of potential images: \",len(potential_image_gdf))\n",
    "potential_image_gdf.head(2)\n"
   ]
  },
  {
   "cell_type": "code",
   "execution_count": 46,
   "metadata": {},
   "outputs": [
    {
     "name": "stdout",
     "output_type": "stream",
     "text": [
      "EPSG:4326\n",
      "EPSG:3857\n"
     ]
    },
    {
     "data": {
      "text/html": [
       "<div>\n",
       "<style scoped>\n",
       "    .dataframe tbody tr th:only-of-type {\n",
       "        vertical-align: middle;\n",
       "    }\n",
       "\n",
       "    .dataframe tbody tr th {\n",
       "        vertical-align: top;\n",
       "    }\n",
       "\n",
       "    .dataframe thead th {\n",
       "        text-align: right;\n",
       "    }\n",
       "</style>\n",
       "<table border=\"1\" class=\"dataframe\">\n",
       "  <thead>\n",
       "    <tr style=\"text-align: right;\">\n",
       "      <th></th>\n",
       "      <th>geometry</th>\n",
       "      <th>x_idx</th>\n",
       "      <th>y_idx</th>\n",
       "    </tr>\n",
       "  </thead>\n",
       "  <tbody>\n",
       "    <tr>\n",
       "      <th>27352</th>\n",
       "      <td>POLYGON ((9514577.92 2823581.436, 9517635.401 ...</td>\n",
       "      <td>50432</td>\n",
       "      <td>76928</td>\n",
       "    </tr>\n",
       "    <tr>\n",
       "      <th>27353</th>\n",
       "      <td>POLYGON ((9517329.653 2823581.436, 9520387.134...</td>\n",
       "      <td>51008</td>\n",
       "      <td>76928</td>\n",
       "    </tr>\n",
       "  </tbody>\n",
       "</table>\n",
       "</div>"
      ],
      "text/plain": [
       "                                                geometry  x_idx  y_idx\n",
       "27352  POLYGON ((9514577.92 2823581.436, 9517635.401 ...  50432  76928\n",
       "27353  POLYGON ((9517329.653 2823581.436, 9520387.134...  51008  76928"
      ]
     },
     "metadata": {},
     "output_type": "display_data"
    },
    {
     "data": {
      "text/plain": [
       "14684"
      ]
     },
     "execution_count": 46,
     "metadata": {},
     "output_type": "execute_result"
    }
   ],
   "source": [
    "shape_gdf=gpd.read_file(stete_shape_path)\n",
    "print(shape_gdf.crs)\n",
    "shape_gdf=shape_gdf.to_crs(\"EPSG:3857\")\n",
    "assert potential_image_gdf.crs == shape_gdf.crs\n",
    "print(shape_gdf.crs)\n",
    "images_within_shape = gpd.sjoin(shape_gdf, potential_image_gdf, predicate=\"contains\")\n",
    "images_within_shape = potential_image_gdf.loc[images_within_shape.index_right]\n",
    "display(images_within_shape.head(2))\n",
    "len(images_within_shape)\n",
    "\n"
   ]
  },
  {
   "cell_type": "code",
   "execution_count": 47,
   "metadata": {},
   "outputs": [
    {
     "data": {
      "application/vnd.jupyter.widget-view+json": {
       "model_id": "e6d733b9c659492c98544c4f716b6fd5",
       "version_major": 2,
       "version_minor": 0
      },
      "text/plain": [
       "Map(center=[20, 0], controls=(ZoomControl(options=['position', 'zoom_in_text', 'zoom_in_title', 'zoom_out_text…"
      ]
     },
     "execution_count": 47,
     "metadata": {},
     "output_type": "execute_result"
    }
   ],
   "source": [
    "m = leafmap.Map()\n",
    "m.add_basemap(\"HYBRID\")\n",
    "m.add_gdf(shape_gdf, layer_name=\"Shape\", style={\"color\": \"black\"})\n",
    "m.add_gdf(images_within_shape, layer_name=\"Images within shape\",zoom_to_layer=True)\n",
    "m"
   ]
  },
  {
   "cell_type": "code",
   "execution_count": null,
   "metadata": {},
   "outputs": [],
   "source": []
  },
  {
   "cell_type": "code",
   "execution_count": 48,
   "metadata": {},
   "outputs": [
    {
     "name": "stdout",
     "output_type": "stream",
     "text": [
      "PROJCS[\"WGS 84 / Pseudo-Mercator\",GEOGCS[\"WGS 84\",DATUM[\"WGS_1984\",SPHEROID[\"WGS 84\",6378137,298.257223563,AUTHORITY[\"EPSG\",\"7030\"]],AUTHORITY[\"EPSG\",\"6326\"]],PRIMEM[\"Greenwich\",0,AUTHORITY[\"EPSG\",\"8901\"]],UNIT[\"degree\",0.0174532925199433,AUTHORITY[\"EPSG\",\"9122\"]],AUTHORITY[\"EPSG\",\"4326\"]],PROJECTION[\"Mercator_1SP\"],PARAMETER[\"central_meridian\",0],PARAMETER[\"scale_factor\",1],PARAMETER[\"false_easting\",0],PARAMETER[\"false_northing\",0],UNIT[\"metre\",1,AUTHORITY[\"EPSG\",\"9001\"]],AXIS[\"Easting\",EAST],AXIS[\"Northing\",NORTH],EXTENSION[\"PROJ4\",\"+proj=merc +a=6378137 +b=6378137 +lat_ts=0 +lon_0=0 +x_0=0 +y_0=0 +k=1 +units=m +nadgrids=@null +wktext +no_defs\"],AUTHORITY[\"EPSG\",\"3857\"]]\n",
      "Number of labels: 6048\n"
     ]
    },
    {
     "data": {
      "text/html": [
       "<div>\n",
       "<style scoped>\n",
       "    .dataframe tbody tr th:only-of-type {\n",
       "        vertical-align: middle;\n",
       "    }\n",
       "\n",
       "    .dataframe tbody tr th {\n",
       "        vertical-align: top;\n",
       "    }\n",
       "\n",
       "    .dataframe thead th {\n",
       "        text-align: right;\n",
       "    }\n",
       "</style>\n",
       "<table border=\"1\" class=\"dataframe\">\n",
       "  <thead>\n",
       "    <tr style=\"text-align: right;\">\n",
       "      <th></th>\n",
       "      <th>class_name</th>\n",
       "      <th>confidence</th>\n",
       "      <th>max_lon</th>\n",
       "      <th>min_lon</th>\n",
       "      <th>max_lat</th>\n",
       "      <th>min_lat</th>\n",
       "      <th>center_lat</th>\n",
       "      <th>center_lon</th>\n",
       "      <th>width_of_box</th>\n",
       "      <th>height_of_box</th>\n",
       "      <th>...</th>\n",
       "      <th>resolution</th>\n",
       "      <th>source</th>\n",
       "      <th>task_name</th>\n",
       "      <th>geo_box</th>\n",
       "      <th>x</th>\n",
       "      <th>y</th>\n",
       "      <th>yolo_label</th>\n",
       "      <th>type</th>\n",
       "      <th>geometry</th>\n",
       "      <th>style</th>\n",
       "    </tr>\n",
       "  </thead>\n",
       "  <tbody>\n",
       "    <tr>\n",
       "      <th>0</th>\n",
       "      <td>Zigzag</td>\n",
       "      <td>0.945679</td>\n",
       "      <td>86.343311</td>\n",
       "      <td>86.342712</td>\n",
       "      <td>26.181979</td>\n",
       "      <td>26.181133</td>\n",
       "      <td>26.181556</td>\n",
       "      <td>86.343011</td>\n",
       "      <td>59.940309</td>\n",
       "      <td>93.737718</td>\n",
       "      <td>...</td>\n",
       "      <td>None</td>\n",
       "      <td>Drawn|Azure Maps Satellite</td>\n",
       "      <td></td>\n",
       "      <td>None</td>\n",
       "      <td>NaN</td>\n",
       "      <td>NaN</td>\n",
       "      <td>None</td>\n",
       "      <td>None</td>\n",
       "      <td>POLYGON ((9611626.734 3021542.564, 9611672.152...</td>\n",
       "      <td>{'color': 'green'}</td>\n",
       "    </tr>\n",
       "    <tr>\n",
       "      <th>1</th>\n",
       "      <td>Zigzag</td>\n",
       "      <td>0.848788</td>\n",
       "      <td>85.239263</td>\n",
       "      <td>85.238816</td>\n",
       "      <td>24.825274</td>\n",
       "      <td>24.824546</td>\n",
       "      <td>24.824910</td>\n",
       "      <td>85.239039</td>\n",
       "      <td>45.199858</td>\n",
       "      <td>80.624254</td>\n",
       "      <td>...</td>\n",
       "      <td>None</td>\n",
       "      <td>Drawn|Azure Maps Satellite</td>\n",
       "      <td></td>\n",
       "      <td>None</td>\n",
       "      <td>NaN</td>\n",
       "      <td>NaN</td>\n",
       "      <td>None</td>\n",
       "      <td>None</td>\n",
       "      <td>POLYGON ((9488741.593 2854210.005, 9488790.24 ...</td>\n",
       "      <td>{'color': 'green'}</td>\n",
       "    </tr>\n",
       "  </tbody>\n",
       "</table>\n",
       "<p>2 rows × 30 columns</p>\n",
       "</div>"
      ],
      "text/plain": [
       "  class_name  confidence    max_lon    min_lon    max_lat    min_lat  \\\n",
       "0     Zigzag    0.945679  86.343311  86.342712  26.181979  26.181133   \n",
       "1     Zigzag    0.848788  85.239263  85.238816  24.825274  24.824546   \n",
       "\n",
       "   center_lat  center_lon  width_of_box  height_of_box  ...  resolution  \\\n",
       "0   26.181556   86.343011     59.940309      93.737718  ...        None   \n",
       "1   24.824910   85.239039     45.199858      80.624254  ...        None   \n",
       "\n",
       "                       source  task_name geo_box   x   y  yolo_label  type  \\\n",
       "0  Drawn|Azure Maps Satellite               None NaN NaN        None  None   \n",
       "1  Drawn|Azure Maps Satellite               None NaN NaN        None  None   \n",
       "\n",
       "                                            geometry               style  \n",
       "0  POLYGON ((9611626.734 3021542.564, 9611672.152...  {'color': 'green'}  \n",
       "1  POLYGON ((9488741.593 2854210.005, 9488790.24 ...  {'color': 'green'}  \n",
       "\n",
       "[2 rows x 30 columns]"
      ]
     },
     "execution_count": 48,
     "metadata": {},
     "output_type": "execute_result"
    }
   ],
   "source": [
    "## Load the state geojson\n",
    "gdf_labels_webm=gdf_labels.to_crs(potential_image_gdf.crs)\n",
    "gdf_labels_webm.reset_index(inplace=True, drop=True)\n",
    "print(gdf_labels_webm.crs)\n",
    "print(\"Number of labels:\", len(gdf_labels_webm))\n",
    "\n",
    "gdf_labels_webm.head(2)"
   ]
  },
  {
   "cell_type": "code",
   "execution_count": 49,
   "metadata": {},
   "outputs": [
    {
     "name": "stdout",
     "output_type": "stream",
     "text": [
      "Number of labels to write: 6889\n",
      "Number of unique images: 3771\n",
      "Number of unique labels: 5910\n"
     ]
    }
   ],
   "source": [
    "images_with_label=gpd.sjoin(images_within_shape,gdf_labels_webm,predicate=\"contains\")\n",
    "images_with_label['geometry_right'] = images_with_label['index_right'].apply(lambda x: gdf_labels_webm.loc[x, 'geometry'])\n",
    "print(f\"Number of labels to write: {len(images_with_label)}\")\n",
    "\n",
    "print(f\"Number of unique images: {len(images_with_label.drop_duplicates(subset='geometry'))}\")\n",
    "print(f\"Number of unique labels: {len(images_with_label.drop_duplicates(subset='geometry_right'))}\")"
   ]
  },
  {
   "cell_type": "code",
   "execution_count": 19,
   "metadata": {},
   "outputs": [],
   "source": [
    "# images_within_shape\n",
    "# gdf_labels_webm"
   ]
  },
  {
   "cell_type": "code",
   "execution_count": 50,
   "metadata": {},
   "outputs": [],
   "source": [
    "class_mapping = {\"CFCBK\": 0, \"FCBK\": 1, \"Zigzag\": 2}\n",
    "\n",
    "def get_yolo_label(x):\n",
    "    min_x, min_y, max_x, max_y = x['geometry'].bounds\n",
    "    coords = np.array(x['geometry_right'].__geo_interface__['coordinates'][0])\n",
    "    coords = coords[:-1]\n",
    "    # normalize\n",
    "    coords[:, 0] = (coords[:, 0] - min_x) / (max_x - min_x)\n",
    "    coords[:, 1] = 1 - (coords[:, 1] - min_y) / (max_y - min_y)\n",
    "    \n",
    "    coords = coords.ravel()\n",
    "    assert len(coords) == 8\n",
    "    \n",
    "    class_id = class_mapping[x['class_name']]\n",
    "    label = np.zeros(9) * np.nan\n",
    "    label[0] = class_id\n",
    "    label[1:] = coords\n",
    "    return label\n",
    "\n"
   ]
  },
  {
   "cell_type": "code",
   "execution_count": 51,
   "metadata": {},
   "outputs": [
    {
     "data": {
      "text/html": [
       "<div>\n",
       "<style scoped>\n",
       "    .dataframe tbody tr th:only-of-type {\n",
       "        vertical-align: middle;\n",
       "    }\n",
       "\n",
       "    .dataframe tbody tr th {\n",
       "        vertical-align: top;\n",
       "    }\n",
       "\n",
       "    .dataframe thead th {\n",
       "        text-align: right;\n",
       "    }\n",
       "</style>\n",
       "<table border=\"1\" class=\"dataframe\">\n",
       "  <thead>\n",
       "    <tr style=\"text-align: right;\">\n",
       "      <th></th>\n",
       "      <th>geometry</th>\n",
       "      <th>yolo_label</th>\n",
       "      <th>x_idx</th>\n",
       "      <th>y_idx</th>\n",
       "    </tr>\n",
       "  </thead>\n",
       "  <tbody>\n",
       "    <tr>\n",
       "      <th>0</th>\n",
       "      <td>POLYGON ((9341218.74 2829084.902, 9344276.221 ...</td>\n",
       "      <td>[[2.0, 0.7085291814276216, 0.7251165260222536,...</td>\n",
       "      <td>14144</td>\n",
       "      <td>75776</td>\n",
       "    </tr>\n",
       "    <tr>\n",
       "      <th>1</th>\n",
       "      <td>POLYGON ((9354977.405 2834588.368, 9358034.886...</td>\n",
       "      <td>[[1.0, 0.3981000262189565, 0.0361337913592058,...</td>\n",
       "      <td>17024</td>\n",
       "      <td>74624</td>\n",
       "    </tr>\n",
       "  </tbody>\n",
       "</table>\n",
       "</div>"
      ],
      "text/plain": [
       "                                            geometry  \\\n",
       "0  POLYGON ((9341218.74 2829084.902, 9344276.221 ...   \n",
       "1  POLYGON ((9354977.405 2834588.368, 9358034.886...   \n",
       "\n",
       "                                          yolo_label  x_idx  y_idx  \n",
       "0  [[2.0, 0.7085291814276216, 0.7251165260222536,...  14144  75776  \n",
       "1  [[1.0, 0.3981000262189565, 0.0361337913592058,...  17024  74624  "
      ]
     },
     "execution_count": 51,
     "metadata": {},
     "output_type": "execute_result"
    }
   ],
   "source": [
    "images_with_label['yolo_label'] = images_with_label.apply(get_yolo_label, axis=1)\n",
    "images_with_label.head(2)\n",
    "ready_to_save_gdf = images_with_label.groupby(\"geometry\").agg({\"yolo_label\": np.vstack, \"x_idx\": \"first\", \"y_idx\": \"first\"}).reset_index()\n",
    "ready_to_save_gdf.head(2)"
   ]
  },
  {
   "cell_type": "code",
   "execution_count": 52,
   "metadata": {},
   "outputs": [
    {
     "data": {
      "text/html": [
       "<div>\n",
       "<style scoped>\n",
       "    .dataframe tbody tr th:only-of-type {\n",
       "        vertical-align: middle;\n",
       "    }\n",
       "\n",
       "    .dataframe tbody tr th {\n",
       "        vertical-align: top;\n",
       "    }\n",
       "\n",
       "    .dataframe thead th {\n",
       "        text-align: right;\n",
       "    }\n",
       "</style>\n",
       "<table border=\"1\" class=\"dataframe\">\n",
       "  <thead>\n",
       "    <tr style=\"text-align: right;\">\n",
       "      <th></th>\n",
       "      <th>geometry</th>\n",
       "      <th>yolo_label</th>\n",
       "      <th>x_idx</th>\n",
       "      <th>y_idx</th>\n",
       "      <th>x</th>\n",
       "      <th>y</th>\n",
       "    </tr>\n",
       "  </thead>\n",
       "  <tbody>\n",
       "    <tr>\n",
       "      <th>3769</th>\n",
       "      <td>POLYGON ((9630150.707 2829084.902, 9633208.188...</td>\n",
       "      <td>[[2.0, 0.9381229365807959, 0.6825097001864936,...</td>\n",
       "      <td>74624</td>\n",
       "      <td>75776</td>\n",
       "      <td>9631679</td>\n",
       "      <td>2827556</td>\n",
       "    </tr>\n",
       "    <tr>\n",
       "      <th>3770</th>\n",
       "      <td>POLYGON ((9632902.44 2829084.902, 9635959.921 ...</td>\n",
       "      <td>[[2.0, 0.14258003881735815, 0.7005695925911608...</td>\n",
       "      <td>75200</td>\n",
       "      <td>75776</td>\n",
       "      <td>9634431</td>\n",
       "      <td>2827556</td>\n",
       "    </tr>\n",
       "  </tbody>\n",
       "</table>\n",
       "</div>"
      ],
      "text/plain": [
       "                                               geometry  \\\n",
       "3769  POLYGON ((9630150.707 2829084.902, 9633208.188...   \n",
       "3770  POLYGON ((9632902.44 2829084.902, 9635959.921 ...   \n",
       "\n",
       "                                             yolo_label  x_idx  y_idx  \\\n",
       "3769  [[2.0, 0.9381229365807959, 0.6825097001864936,...  74624  75776   \n",
       "3770  [[2.0, 0.14258003881735815, 0.7005695925911608...  75200  75776   \n",
       "\n",
       "            x        y  \n",
       "3769  9631679  2827556  \n",
       "3770  9634431  2827556  "
      ]
     },
     "metadata": {},
     "output_type": "display_data"
    }
   ],
   "source": [
    "ready_to_save_gdf['x'] = ready_to_save_gdf['x_idx'].apply(lambda x: str(int(x_values[x])))\n",
    "ready_to_save_gdf['y'] = ready_to_save_gdf['y_idx'].apply(lambda x: str(int(y_values[x])))\n",
    "display(ready_to_save_gdf.tail(2))"
   ]
  },
  {
   "cell_type": "code",
   "execution_count": 53,
   "metadata": {},
   "outputs": [
    {
     "name": "stdout",
     "output_type": "stream",
     "text": [
      "save_dir='../processed_data/bihar/'\n"
     ]
    }
   ],
   "source": [
    "def save_label(x):\n",
    "    label = x['yolo_label']\n",
    "    save_path = join(save_dir, \"labels\", f\"{x['x']}_{x['y']}.txt\")\n",
    "    np.savetxt(save_path, label, fmt=\"%d %f %f %f %f %f %f %f %f\")\n",
    "    \n",
    "print(f\"{save_dir=}\")\n",
    "os.makedirs(join(save_dir, \"labels\"), exist_ok=True)\n",
    "_ = ready_to_save_gdf.apply(save_label, axis=1)"
   ]
  },
  {
   "cell_type": "code",
   "execution_count": null,
   "metadata": {},
   "outputs": [],
   "source": []
  }
 ],
 "metadata": {
  "kernelspec": {
   "display_name": "rishabh_sat",
   "language": "python",
   "name": "python3"
  },
  "language_info": {
   "codemirror_mode": {
    "name": "ipython",
    "version": 3
   },
   "file_extension": ".py",
   "mimetype": "text/x-python",
   "name": "python",
   "nbconvert_exporter": "python",
   "pygments_lexer": "ipython3",
   "version": "3.12.4"
  }
 },
 "nbformat": 4,
 "nbformat_minor": 2
}

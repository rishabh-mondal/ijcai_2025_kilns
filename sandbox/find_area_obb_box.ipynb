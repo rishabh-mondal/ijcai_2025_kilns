{
 "cells": [
  {
   "cell_type": "code",
   "execution_count": 1,
   "metadata": {},
   "outputs": [
    {
     "name": "stdout",
     "output_type": "stream",
     "text": [
      "Bounding Box 1:\n",
      "Width in pixels: 7.87, Height in pixels: 19.68\n",
      "Width in meters: 37.53, Height in meters: 93.87\n",
      "==================================================\n",
      "Bounding Box 2:\n",
      "Width in pixels: 6.93, Height in pixels: 13.46\n",
      "Width in meters: 33.06, Height in meters: 64.18\n",
      "==================================================\n",
      "Bounding Box 3:\n",
      "Width in pixels: 8.27, Height in pixels: 19.95\n",
      "Width in meters: 39.42, Height in meters: 95.16\n",
      "==================================================\n"
     ]
    }
   ],
   "source": [
    "import math\n",
    "\n",
    "# Example OBB coordinates in normalized format (x1, y1, x2, y2, x3, y3, x4, y4)\n",
    "obb = [\n",
    "    (0.126576, 0.849642, 0.138865, 0.849956, 0.139650, 0.819217, 0.127361, 0.818903),\n",
    "    (0.033637, 0.915543, 0.044411, 0.916645, 0.046551, 0.895730, 0.035777, 0.894628),\n",
    "    (0.032220, 0.915987, 0.045062, 0.917351, 0.048353, 0.886353, 0.035512, 0.884989)\n",
    "]\n",
    "\n",
    "# Image dimensions and resolution\n",
    "image_size = 640  # 640x640 image\n",
    "resolution_per_pixel = 4.77  # meters per pixel\n",
    "\n",
    "# Function to convert normalized coordinates to pixel coordinates\n",
    "def normalized_to_pixel_coords(norm_coords, image_size):\n",
    "    return [coord * image_size for coord in norm_coords]\n",
    "\n",
    "# Function to calculate distance between two points\n",
    "def calculate_distance(x1, y1, x2, y2):\n",
    "    return math.sqrt((x2 - x1) ** 2 + (y2 - y1) ** 2)\n",
    "\n",
    "# Process each OBB\n",
    "for idx, coords in enumerate(obb):\n",
    "    # Unpack coordinates\n",
    "    x1, y1, x2, y2, x3, y3, x4, y4 = coords\n",
    "    \n",
    "    # Convert normalized coordinates to pixel coordinates\n",
    "    pixel_coords = normalized_to_pixel_coords(coords, image_size)\n",
    "    x1p, y1p, x2p, y2p, x3p, y3p, x4p, y4p = pixel_coords\n",
    "    \n",
    "    # Calculate width and height in pixels\n",
    "    width_pixels = calculate_distance(x1p, y1p, x2p, y2p)\n",
    "    height_pixels = calculate_distance(x1p, y1p, x4p, y4p)\n",
    "    \n",
    "    # Convert width and height to real-world units (meters)\n",
    "    width_meters = width_pixels * resolution_per_pixel\n",
    "    height_meters = height_pixels * resolution_per_pixel\n",
    "    \n",
    "    print(f\"Bounding Box {idx + 1}:\")\n",
    "    print(f\"Width in pixels: {width_pixels:.2f}, Height in pixels: {height_pixels:.2f}\")\n",
    "    print(f\"Width in meters: {width_meters:.2f}, Height in meters: {height_meters:.2f}\")\n",
    "    print(\"=\" * 50)\n"
   ]
  },
  {
   "cell_type": "code",
   "execution_count": 1,
   "metadata": {},
   "outputs": [],
   "source": [
    "import leafmap\n"
   ]
  },
  {
   "cell_type": "code",
   "execution_count": 2,
   "metadata": {},
   "outputs": [
    {
     "data": {
      "application/vnd.jupyter.widget-view+json": {
       "model_id": "adc89749753a4c719ca4344fc7677774",
       "version_major": 2,
       "version_minor": 0
      },
      "text/plain": [
       "Map(center=[20, 0], controls=(ZoomControl(options=['position', 'zoom_in_text', 'zoom_in_title', 'zoom_out_text…"
      ]
     },
     "execution_count": 2,
     "metadata": {},
     "output_type": "execute_result"
    }
   ],
   "source": [
    "m = leafmap.Map()\n",
    "naip_url = \"https://services.nationalmap.gov/arcgis/services/USGSNAIPImagery/ImageServer/WMSServer?\"\n",
    "m.add_wms_layer(\n",
    "    url=naip_url, layers=\"0\", name=\"NAIP Imagery\", format=\"image/png\", shown=True\n",
    ")\n",
    "m"
   ]
  },
  {
   "cell_type": "code",
   "execution_count": 7,
   "metadata": {},
   "outputs": [
    {
     "data": {
      "application/vnd.jupyter.widget-view+json": {
       "model_id": "869f7ed3e62241448582b591cccd9f0a",
       "version_major": 2,
       "version_minor": 0
      },
      "text/plain": [
       "GridspecLayout(children=(Output(layout=Layout(grid_area='widget001')),), layout=Layout(grid_gap='0px', grid_te…"
      ]
     },
     "execution_count": 7,
     "metadata": {},
     "output_type": "execute_result"
    }
   ],
   "source": [
    "layers = [\"OpenTopoMap\"]\n",
    "leafmap.linked_maps(rows=1, cols=1, height=\"400px\", layers=layers)"
   ]
  },
  {
   "cell_type": "code",
   "execution_count": null,
   "metadata": {},
   "outputs": [],
   "source": []
  }
 ],
 "metadata": {
  "kernelspec": {
   "display_name": "rishabh_sat",
   "language": "python",
   "name": "python3"
  },
  "language_info": {
   "codemirror_mode": {
    "name": "ipython",
    "version": 3
   },
   "file_extension": ".py",
   "mimetype": "text/x-python",
   "name": "python",
   "nbconvert_exporter": "python",
   "pygments_lexer": "ipython3",
   "version": "3.12.4"
  }
 },
 "nbformat": 4,
 "nbformat_minor": 2
}

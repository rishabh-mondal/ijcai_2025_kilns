{
 "cells": [
  {
   "cell_type": "code",
   "execution_count": 56,
   "metadata": {},
   "outputs": [],
   "source": [
    "import os\n",
    "from collections import Counter\n",
    "import pandas as pd\n",
    "from os.path import join, exists, basename, dirname, splitext, expanduser\n"
   ]
  },
  {
   "cell_type": "code",
   "execution_count": null,
   "metadata": {},
   "outputs": [
    {
     "name": "stdout",
     "output_type": "stream",
     "text": [
      "Unique first letters and their counts: {'2': 1761, '1': 293}\n",
      "Number of unique first letters: 2\n"
     ]
    }
   ],
   "source": [
    "\n",
    "\n",
    "\n",
    "state_name = \"uttar_pradesh\"\n",
    "# Directory containing the .txt files\n",
    "directory = f\"/home/patel_zeel/kiln_compass_24/data/{state_name}/labels\"\n",
    "\n",
    "# Initialize a Counter to track the first letters\n",
    "first_letter_counts = Counter()\n",
    "\n",
    "# Iterate through all files in the directory\n",
    "for filename in os.listdir(directory):\n",
    "    if filename.endswith(\".txt\"):  # Process only .txt files\n",
    "        file_path = os.path.join(directory, filename)\n",
    "        with open(file_path, 'r') as file:\n",
    "            for line in file:\n",
    "                if line.strip():  # Ignore empty lines\n",
    "                    first_letter = line.strip()[0]  # Extract the first letter\n",
    "                    first_letter_counts[first_letter] += 1\n",
    "\n",
    "# Print the results\n",
    "print(\"Unique first letters and their counts:\", dict(first_letter_counts))\n",
    "print(\"Number of unique first letters:\", len(first_letter_counts))\n"
   ]
  },
  {
   "cell_type": "code",
   "execution_count": 58,
   "metadata": {},
   "outputs": [
    {
     "data": {
      "text/html": [
       "<div>\n",
       "<style scoped>\n",
       "    .dataframe tbody tr th:only-of-type {\n",
       "        vertical-align: middle;\n",
       "    }\n",
       "\n",
       "    .dataframe tbody tr th {\n",
       "        vertical-align: top;\n",
       "    }\n",
       "\n",
       "    .dataframe thead th {\n",
       "        text-align: right;\n",
       "    }\n",
       "</style>\n",
       "<table border=\"1\" class=\"dataframe\">\n",
       "  <thead>\n",
       "    <tr style=\"text-align: right;\">\n",
       "      <th></th>\n",
       "      <th>state</th>\n",
       "      <th>0</th>\n",
       "      <th>1</th>\n",
       "      <th>2</th>\n",
       "    </tr>\n",
       "  </thead>\n",
       "  <tbody>\n",
       "    <tr>\n",
       "      <th>0</th>\n",
       "      <td>punjab</td>\n",
       "      <td>0</td>\n",
       "      <td>293</td>\n",
       "      <td>1761</td>\n",
       "    </tr>\n",
       "  </tbody>\n",
       "</table>\n",
       "</div>"
      ],
      "text/plain": [
       "    state  0    1     2\n",
       "0  punjab  0  293  1761"
      ]
     },
     "metadata": {},
     "output_type": "display_data"
    }
   ],
   "source": [
    "class_counts_df=pd.DataFrame(data={state_name:[first_letter_counts.get('0',0),first_letter_counts.get('1',0),first_letter_counts.get('2',0)]},\n",
    "                             index=['0','1','2']).T\n",
    "class_counts_df.reset_index(inplace=True)\n",
    "class_counts_df.columns=['state','0','1','2']\n",
    "display(class_counts_df)\n"
   ]
  },
  {
   "cell_type": "code",
   "execution_count": 59,
   "metadata": {},
   "outputs": [],
   "source": [
    "csv_dir=f\"/home/rishabh.mondal/Brick-Kilns-project/ijcai_2025_kilns/result_csv/class_counts.csv\"\n",
    "os.makedirs(dirname(csv_dir), exist_ok=True)\n"
   ]
  },
  {
   "cell_type": "code",
   "execution_count": 60,
   "metadata": {},
   "outputs": [
    {
     "name": "stdout",
     "output_type": "stream",
     "text": [
      "csv saved at /home/rishabh.mondal/Brick-Kilns-project/ijcai_2025_kilns/result_csv/class_counts.csv\n"
     ]
    }
   ],
   "source": [
    "if not os.path.exists(csv_dir):\n",
    "    class_counts_df.to_csv(csv_dir,header=True)\n",
    "    print(f\"csv saved at {csv_dir}\")\n",
    "else:\n",
    "    class_counts_df.to_csv(csv_dir,mode='a',header=False)\n",
    "    print(f\"csv saved at {csv_dir}\")\n",
    "\n"
   ]
  },
  {
   "cell_type": "code",
   "execution_count": 62,
   "metadata": {},
   "outputs": [
    {
     "data": {
      "text/html": [
       "<div>\n",
       "<style scoped>\n",
       "    .dataframe tbody tr th:only-of-type {\n",
       "        vertical-align: middle;\n",
       "    }\n",
       "\n",
       "    .dataframe tbody tr th {\n",
       "        vertical-align: top;\n",
       "    }\n",
       "\n",
       "    .dataframe thead th {\n",
       "        text-align: right;\n",
       "    }\n",
       "</style>\n",
       "<table border=\"1\" class=\"dataframe\">\n",
       "  <thead>\n",
       "    <tr style=\"text-align: right;\">\n",
       "      <th></th>\n",
       "      <th>state</th>\n",
       "      <th>0</th>\n",
       "      <th>1</th>\n",
       "      <th>2</th>\n",
       "    </tr>\n",
       "  </thead>\n",
       "  <tbody>\n",
       "    <tr>\n",
       "      <th>0</th>\n",
       "      <td>bihar</td>\n",
       "      <td>0</td>\n",
       "      <td>884</td>\n",
       "      <td>4599</td>\n",
       "    </tr>\n",
       "    <tr>\n",
       "      <th>1</th>\n",
       "      <td>uttar_pradesh</td>\n",
       "      <td>801</td>\n",
       "      <td>7634</td>\n",
       "      <td>5411</td>\n",
       "    </tr>\n",
       "    <tr>\n",
       "      <th>2</th>\n",
       "      <td>haryana</td>\n",
       "      <td>0</td>\n",
       "      <td>108</td>\n",
       "      <td>2200</td>\n",
       "    </tr>\n",
       "    <tr>\n",
       "      <th>3</th>\n",
       "      <td>west_bengal</td>\n",
       "      <td>0</td>\n",
       "      <td>675</td>\n",
       "      <td>1591</td>\n",
       "    </tr>\n",
       "    <tr>\n",
       "      <th>4</th>\n",
       "      <td>punjab</td>\n",
       "      <td>0</td>\n",
       "      <td>293</td>\n",
       "      <td>1761</td>\n",
       "    </tr>\n",
       "  </tbody>\n",
       "</table>\n",
       "</div>"
      ],
      "text/plain": [
       "           state    0     1     2\n",
       "0          bihar    0   884  4599\n",
       "1  uttar_pradesh  801  7634  5411\n",
       "2        haryana    0   108  2200\n",
       "3    west_bengal    0   675  1591\n",
       "4         punjab    0   293  1761"
      ]
     },
     "metadata": {},
     "output_type": "display_data"
    }
   ],
   "source": [
    "data_file = pd.read_csv(csv_dir)    \n",
    "#drop the unnamed column\n",
    "data_file.drop(data_file.columns[data_file.columns.str.contains('unnamed',case = False)],axis = 1, inplace = True)\n",
    "display(data_file)"
   ]
  },
  {
   "cell_type": "code",
   "execution_count": 64,
   "metadata": {},
   "outputs": [
    {
     "data": {
      "text/html": [
       "<div>\n",
       "<style scoped>\n",
       "    .dataframe tbody tr th:only-of-type {\n",
       "        vertical-align: middle;\n",
       "    }\n",
       "\n",
       "    .dataframe tbody tr th {\n",
       "        vertical-align: top;\n",
       "    }\n",
       "\n",
       "    .dataframe thead th {\n",
       "        text-align: right;\n",
       "    }\n",
       "</style>\n",
       "<table border=\"1\" class=\"dataframe\">\n",
       "  <thead>\n",
       "    <tr style=\"text-align: right;\">\n",
       "      <th></th>\n",
       "      <th>state</th>\n",
       "      <th>0</th>\n",
       "      <th>1</th>\n",
       "      <th>2</th>\n",
       "      <th>total</th>\n",
       "      <th>25_percent</th>\n",
       "      <th>0_25_percent</th>\n",
       "      <th>1_25_percent</th>\n",
       "      <th>2_25_percent</th>\n",
       "    </tr>\n",
       "  </thead>\n",
       "  <tbody>\n",
       "    <tr>\n",
       "      <th>0</th>\n",
       "      <td>bihar</td>\n",
       "      <td>0</td>\n",
       "      <td>884</td>\n",
       "      <td>4599</td>\n",
       "      <td>5483</td>\n",
       "      <td>1370</td>\n",
       "      <td>0.00</td>\n",
       "      <td>221.00</td>\n",
       "      <td>1149.75</td>\n",
       "    </tr>\n",
       "    <tr>\n",
       "      <th>1</th>\n",
       "      <td>uttar_pradesh</td>\n",
       "      <td>801</td>\n",
       "      <td>7634</td>\n",
       "      <td>5411</td>\n",
       "      <td>13846</td>\n",
       "      <td>3461</td>\n",
       "      <td>200.25</td>\n",
       "      <td>1908.50</td>\n",
       "      <td>1352.75</td>\n",
       "    </tr>\n",
       "    <tr>\n",
       "      <th>2</th>\n",
       "      <td>haryana</td>\n",
       "      <td>0</td>\n",
       "      <td>108</td>\n",
       "      <td>2200</td>\n",
       "      <td>2308</td>\n",
       "      <td>577</td>\n",
       "      <td>0.00</td>\n",
       "      <td>27.00</td>\n",
       "      <td>550.00</td>\n",
       "    </tr>\n",
       "    <tr>\n",
       "      <th>3</th>\n",
       "      <td>west_bengal</td>\n",
       "      <td>0</td>\n",
       "      <td>675</td>\n",
       "      <td>1591</td>\n",
       "      <td>2266</td>\n",
       "      <td>566</td>\n",
       "      <td>0.00</td>\n",
       "      <td>168.75</td>\n",
       "      <td>397.75</td>\n",
       "    </tr>\n",
       "    <tr>\n",
       "      <th>4</th>\n",
       "      <td>punjab</td>\n",
       "      <td>0</td>\n",
       "      <td>293</td>\n",
       "      <td>1761</td>\n",
       "      <td>2054</td>\n",
       "      <td>513</td>\n",
       "      <td>0.00</td>\n",
       "      <td>73.25</td>\n",
       "      <td>440.25</td>\n",
       "    </tr>\n",
       "  </tbody>\n",
       "</table>\n",
       "</div>"
      ],
      "text/plain": [
       "           state    0     1     2  total  25_percent  0_25_percent  \\\n",
       "0          bihar    0   884  4599   5483        1370          0.00   \n",
       "1  uttar_pradesh  801  7634  5411  13846        3461        200.25   \n",
       "2        haryana    0   108  2200   2308         577          0.00   \n",
       "3    west_bengal    0   675  1591   2266         566          0.00   \n",
       "4         punjab    0   293  1761   2054         513          0.00   \n",
       "\n",
       "   1_25_percent  2_25_percent  \n",
       "0        221.00       1149.75  \n",
       "1       1908.50       1352.75  \n",
       "2         27.00        550.00  \n",
       "3        168.75        397.75  \n",
       "4         73.25        440.25  "
      ]
     },
     "metadata": {},
     "output_type": "display_data"
    }
   ],
   "source": [
    "## find out 25 percent of the of the each class\n",
    "data_file['0_25_percent'] = data_file['0']*0.25\n",
    "data_file['1_25_percent'] = data_file['1']*0.25\n",
    "data_file['2_25_percent'] = data_file['2']*0.25\n",
    "display(data_file)\n"
   ]
  },
  {
   "cell_type": "code",
   "execution_count": null,
   "metadata": {},
   "outputs": [],
   "source": []
  }
 ],
 "metadata": {
  "kernelspec": {
   "display_name": "rishabh_sat",
   "language": "python",
   "name": "python3"
  },
  "language_info": {
   "codemirror_mode": {
    "name": "ipython",
    "version": 3
   },
   "file_extension": ".py",
   "mimetype": "text/x-python",
   "name": "python",
   "nbconvert_exporter": "python",
   "pygments_lexer": "ipython3",
   "version": "3.12.4"
  }
 },
 "nbformat": 4,
 "nbformat_minor": 2
}

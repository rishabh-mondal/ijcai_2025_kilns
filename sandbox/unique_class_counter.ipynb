{
 "cells": [
  {
   "cell_type": "code",
   "execution_count": 1,
   "metadata": {},
   "outputs": [
    {
     "name": "stdout",
     "output_type": "stream",
     "text": [
      "Unique first letters and their counts: {'1': 7634, '2': 5411, '0': 801}\n",
      "Number of unique first letters: 3\n"
     ]
    }
   ],
   "source": [
    "import os\n",
    "from collections import Counter\n",
    "\n",
    "# Directory containing the .txt files\n",
    "directory = \"/home/patel_zeel/kiln_compass_24/data/uttar_pradesh/labels\"\n",
    "\n",
    "# Initialize a Counter to track the first letters\n",
    "first_letter_counts = Counter()\n",
    "\n",
    "# Iterate through all files in the directory\n",
    "for filename in os.listdir(directory):\n",
    "    if filename.endswith(\".txt\"):  # Process only .txt files\n",
    "        file_path = os.path.join(directory, filename)\n",
    "        with open(file_path, 'r') as file:\n",
    "            for line in file:\n",
    "                if line.strip():  # Ignore empty lines\n",
    "                    first_letter = line.strip()[0]  # Extract the first letter\n",
    "                    first_letter_counts[first_letter] += 1\n",
    "\n",
    "# Print the results\n",
    "print(\"Unique first letters and their counts:\", dict(first_letter_counts))\n",
    "print(\"Number of unique first letters:\", len(first_letter_counts))\n"
   ]
  },
  {
   "cell_type": "code",
   "execution_count": null,
   "metadata": {},
   "outputs": [],
   "source": []
  }
 ],
 "metadata": {
  "kernelspec": {
   "display_name": "rishabh_sat",
   "language": "python",
   "name": "python3"
  },
  "language_info": {
   "codemirror_mode": {
    "name": "ipython",
    "version": 3
   },
   "file_extension": ".py",
   "mimetype": "text/x-python",
   "name": "python",
   "nbconvert_exporter": "python",
   "pygments_lexer": "ipython3",
   "version": "3.12.4"
  }
 },
 "nbformat": 4,
 "nbformat_minor": 2
}

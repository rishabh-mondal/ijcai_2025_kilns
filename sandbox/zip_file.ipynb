{
 "cells": [
  {
   "cell_type": "code",
   "execution_count": null,
   "metadata": {},
   "outputs": [
    {
     "name": "stdout",
     "output_type": "stream",
     "text": [
      "Zipped folder saved as: /home/rishabh.mondal/bkdb/statewise/assam.zip\n"
     ]
    }
   ],
   "source": [
    "import shutil\n",
    "import os\n",
    "\n",
    "# Define folder and zip output path\n",
    "folder_path = \"/home/rishabh.mondal/bkdb/statewise/chhattisgrah\"\n",
    "zip_output = \"/home/rishabh.mondal/bkdb/statewise/chhattisgrah\"\n",
    "\n",
    "# Create a zip archive (without .zip extension in the output path)\n",
    "shutil.make_archive(zip_output, 'zip', folder_path)\n",
    "\n",
    "print(f\"Zipped folder saved as: {zip_output}.zip\")\n"
   ]
  },
  {
   "cell_type": "code",
   "execution_count": 3,
   "metadata": {},
   "outputs": [
    {
     "name": "stdout",
     "output_type": "stream",
     "text": [
      "Original Folder Size: 77708.90 MB\n",
      "Compressed Zip Size: 77743.10 MB\n"
     ]
    }
   ],
   "source": [
    "def get_size(path):\n",
    "    \"\"\"Returns the size of a file or folder in MB.\"\"\"\n",
    "    total_size = 0\n",
    "    if os.path.isfile(path):\n",
    "        total_size = os.path.getsize(path)\n",
    "    else:\n",
    "        for dirpath, _, filenames in os.walk(path):\n",
    "            for f in filenames:\n",
    "                fp = os.path.join(dirpath, f)\n",
    "                total_size += os.path.getsize(fp)\n",
    "    return total_size / (1024 * 1024)  # Convert to MB\n",
    "\n",
    "# Get sizes before and after compression\n",
    "# fol\n",
    "original_size = get_size(folder_path)\n",
    "compressed_size = get_size(zip_output + \".zip\")\n",
    "\n",
    "print(f\"Original Folder Size: {original_size:.2f} MB\")\n",
    "print(f\"Compressed Zip Size: {compressed_size:.2f} MB\")\n"
   ]
  },
  {
   "cell_type": "code",
   "execution_count": null,
   "metadata": {},
   "outputs": [],
   "source": []
  }
 ],
 "metadata": {
  "kernelspec": {
   "display_name": "rishabh_sat",
   "language": "python",
   "name": "python3"
  },
  "language_info": {
   "codemirror_mode": {
    "name": "ipython",
    "version": 3
   },
   "file_extension": ".py",
   "mimetype": "text/x-python",
   "name": "python",
   "nbconvert_exporter": "python",
   "pygments_lexer": "ipython3",
   "version": "3.12.4"
  }
 },
 "nbformat": 4,
 "nbformat_minor": 2
}
